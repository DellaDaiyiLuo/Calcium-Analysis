{
 "cells": [
  {
   "cell_type": "code",
   "execution_count": 4,
   "metadata": {},
   "outputs": [],
   "source": [
    "import numpy as np\n",
    "import matplotlib.pyplot as plt\n",
    "from scipy.io import loadmat"
   ]
  },
  {
   "cell_type": "markdown",
   "metadata": {},
   "source": [
    "### a. Load data"
   ]
  },
  {
   "cell_type": "code",
   "execution_count": 5,
   "metadata": {},
   "outputs": [
    {
     "data": {
      "text/plain": [
       "((96593,), (96593,), (96593,))"
      ]
     },
     "execution_count": 5,
     "metadata": {},
     "output_type": "execute_result"
    }
   ],
   "source": [
    "folder = '/Users/daiyiluo/Downloads/KQ095_210205' #KQ086_210110' #\n",
    "\n",
    "# load behavior data\n",
    "data = np.load(f'{folder}/S.npz')\n",
    "spd = data['spd']\n",
    "dis = data['dis']\n",
    "lk = data['lk']\n",
    "\n",
    "del data\n",
    "\n",
    "spd.shape, dis.shape, lk.shape"
   ]
  },
  {
   "cell_type": "code",
   "execution_count": 13,
   "metadata": {},
   "outputs": [
    {
     "data": {
      "text/plain": [
       "dict_keys(['__header__', '__version__', '__globals__', 'B'])"
      ]
     },
     "execution_count": 13,
     "metadata": {},
     "output_type": "execute_result"
    }
   ],
   "source": [
    "# load neural activity data\n",
    "spks = np.load(f'{folder}/spk.npz')['spks']\n",
    "spks = np.round(spks*50)\n",
    "\n",
    "data = loadmat(f'{folder}/dFishQ_raw.mat')\n",
    "data.keys() # check the name of the variable"
   ]
  },
  {
   "cell_type": "code",
   "execution_count": 7,
   "metadata": {},
   "outputs": [
    {
     "name": "stdout",
     "output_type": "stream",
     "text": [
      "Shape of calcium traces: (96593, 219)\n"
     ]
    }
   ],
   "source": [
    "key = 'B' # 'B' for CA1 data, 'dFishQ_raw' for CA3 data\n",
    "traces = data[key]\n",
    "del data\n",
    "print(f'Shape of calcium traces: {traces.shape}')"
   ]
  },
  {
   "cell_type": "markdown",
   "metadata": {},
   "source": [
    "### b. Sort into time bin"
   ]
  },
  {
   "cell_type": "code",
   "execution_count": 8,
   "metadata": {},
   "outputs": [
    {
     "data": {
      "text/plain": [
       "10"
      ]
     },
     "execution_count": 8,
     "metadata": {},
     "output_type": "execute_result"
    }
   ],
   "source": [
    "new_tb = 334  # 2Hz: 500ms\n",
    "ratio = int(30*new_tb/1000)\n",
    "ratio"
   ]
  },
  {
   "cell_type": "code",
   "execution_count": 18,
   "metadata": {},
   "outputs": [
    {
     "data": {
      "text/plain": [
       "((9659,), (9659,))"
      ]
     },
     "execution_count": 18,
     "metadata": {},
     "output_type": "execute_result"
    }
   ],
   "source": [
    "# Sample speed\n",
    "avgspd = np.convolve(spd, np.ones(ratio)/ratio, mode='valid')\n",
    "avgspd = avgspd[::ratio]\n",
    "\n",
    "# Sample position\n",
    "idx_dis = np.arange(round(ratio/2), len(dis)-round(ratio/2), ratio)\n",
    "avgdis = dis[idx_dis]\n",
    "\n",
    "avgspd.shape, avgdis.shape"
   ]
  },
  {
   "cell_type": "markdown",
   "metadata": {},
   "source": [
    "---------- Trace -----------"
   ]
  },
  {
   "cell_type": "code",
   "execution_count": 11,
   "metadata": {},
   "outputs": [
    {
     "data": {
      "text/plain": [
       "(9659, 219)"
      ]
     },
     "execution_count": 11,
     "metadata": {},
     "output_type": "execute_result"
    }
   ],
   "source": [
    "# Sample traces\n",
    "avgtrc = []\n",
    "for i in range(traces.shape[1]):\n",
    "    t = np.convolve(traces[:,i], np.ones(ratio)/ratio, mode='valid')\n",
    "    avgtrc.append(t[::ratio])    \n",
    "avgtrc = (np.vstack(avgtrc)).T\n",
    "\n",
    "avgtrc.shape"
   ]
  },
  {
   "cell_type": "markdown",
   "metadata": {},
   "source": [
    "---------- Spike -----------"
   ]
  },
  {
   "cell_type": "code",
   "execution_count": 14,
   "metadata": {},
   "outputs": [
    {
     "data": {
      "text/plain": [
       "(9659, 219)"
      ]
     },
     "execution_count": 14,
     "metadata": {},
     "output_type": "execute_result"
    }
   ],
   "source": [
    "# Sample spks\n",
    "avgspk = []\n",
    "for i in range(spks.shape[1]):\n",
    "    t = np.convolve(spks[:,i], np.ones(ratio)/ratio, mode='valid')\n",
    "    avgspk.append(t[::ratio]*ratio)    \n",
    "avgspk = (np.vstack(avgspk)).T\n",
    "\n",
    "avgspk.shape"
   ]
  },
  {
   "cell_type": "markdown",
   "metadata": {},
   "source": [
    "### c. Exclude immobile time bins "
   ]
  },
  {
   "cell_type": "code",
   "execution_count": 15,
   "metadata": {},
   "outputs": [
    {
     "name": "stdout",
     "output_type": "stream",
     "text": [
      "Using matplotlib backend: MacOSX\n"
     ]
    },
    {
     "data": {
      "text/plain": [
       "[<matplotlib.lines.Line2D at 0x7fbb837645e0>]"
      ]
     },
     "execution_count": 15,
     "metadata": {},
     "output_type": "execute_result"
    }
   ],
   "source": [
    "spd_thr = 0.02 # 0.02 for 1s tb, 0.03 for 200/500 ms\n",
    "pass_thr = np.where(avgspd>spd_thr)[0]\n",
    "%matplotlib\n",
    "plt.plot(avgspd)\n",
    "plt.plot(pass_thr,avgspd[pass_thr],'*')\n",
    "plt.plot([0,len(avgspd)], [spd_thr,spd_thr])"
   ]
  },
  {
   "cell_type": "code",
   "execution_count": 19,
   "metadata": {},
   "outputs": [
    {
     "data": {
      "text/plain": [
       "((2780,), (2780,))"
      ]
     },
     "execution_count": 19,
     "metadata": {},
     "output_type": "execute_result"
    }
   ],
   "source": [
    "Distance = avgdis[avgspd>spd_thr]\n",
    "idx = idx_dis[avgspd>spd_thr] # for licking data because it is not sorted into 500ms time bins\n",
    "Distance.shape, idx.shape"
   ]
  },
  {
   "cell_type": "markdown",
   "metadata": {},
   "source": [
    "---------- Trace -----------"
   ]
  },
  {
   "cell_type": "code",
   "execution_count": 20,
   "metadata": {},
   "outputs": [
    {
     "data": {
      "text/plain": [
       "(2780, 219)"
      ]
     },
     "execution_count": 20,
     "metadata": {},
     "output_type": "execute_result"
    }
   ],
   "source": [
    "Trace = avgtrc[avgspd>spd_thr,:]\n",
    "Trace.shape"
   ]
  },
  {
   "cell_type": "markdown",
   "metadata": {},
   "source": [
    "---------- Spike -----------"
   ]
  },
  {
   "cell_type": "code",
   "execution_count": 21,
   "metadata": {},
   "outputs": [
    {
     "data": {
      "text/plain": [
       "(2780, 219)"
      ]
     },
     "execution_count": 21,
     "metadata": {},
     "output_type": "execute_result"
    }
   ],
   "source": [
    "Spike = avgspk[avgspd>spd_thr,:]\n",
    "Spike.shape"
   ]
  },
  {
   "cell_type": "code",
   "execution_count": null,
   "metadata": {},
   "outputs": [],
   "source": [
    "# Show all spike data\n",
    "\n",
    "for i in range(Spike.shape[1]):\n",
    "    plt.plot(Spike[:,i]/np.max(Spike[:,i])+i)"
   ]
  },
  {
   "cell_type": "markdown",
   "metadata": {},
   "source": [
    "### d. Sort into spatial bins and Locate laps"
   ]
  },
  {
   "cell_type": "code",
   "execution_count": 22,
   "metadata": {},
   "outputs": [
    {
     "name": "stdout",
     "output_type": "stream",
     "text": [
      "Number of spatial bins: (50,)\n",
      "Length of data: (2780,)\n"
     ]
    }
   ],
   "source": [
    "nbin = 50 # expected number of spatial bins\n",
    "n = np.floor(1/(avgdis.max()/nbin))\n",
    "Distance0 = np.round(Distance*n)/n # round the distance\n",
    "print(f'Number of spatial bins: {np.unique(Distance0).shape}\\nLength of data: {Distance0.shape}')"
   ]
  },
  {
   "cell_type": "code",
   "execution_count": 23,
   "metadata": {},
   "outputs": [
    {
     "name": "stdout",
     "output_type": "stream",
     "text": [
      "Length of data after excluded the incomplete first lap: (2716,)\n",
      "Where the first complete lap starts: 64\n"
     ]
    }
   ],
   "source": [
    "Distance = Distance0\n",
    "\n",
    "d = np.diff(Distance)\n",
    "lap_end = np.where(d<-1.6)[0] # Locate the point where the laps end\n",
    "Distance = Distance[lap_end[0]:]\n",
    "idx = idx[lap_end[0]:]\n",
    "f=lap_end[0]\n",
    "print(f'Length of data after excluded the incomplete first lap: {Distance.shape}\\nWhere the first complete lap starts: {f}')"
   ]
  },
  {
   "cell_type": "markdown",
   "metadata": {},
   "source": [
    "---------- Trace -----------"
   ]
  },
  {
   "cell_type": "code",
   "execution_count": 24,
   "metadata": {},
   "outputs": [
    {
     "data": {
      "text/plain": [
       "((2716, 219), (2716,), (2716,))"
      ]
     },
     "execution_count": 24,
     "metadata": {},
     "output_type": "execute_result"
    }
   ],
   "source": [
    "Trace = Trace[f:]\n",
    "lap_end = lap_end-lap_end[0]\n",
    "np.savez(f'{folder}/timebin_{new_tb}.npz', Trace=Trace, Distance=Distance, lap_end=lap_end, idx=idx)\n",
    "\n",
    "Trace.shape, Distance.shape, idx.shape"
   ]
  },
  {
   "cell_type": "markdown",
   "metadata": {},
   "source": [
    "---------- Spike -----------"
   ]
  },
  {
   "cell_type": "code",
   "execution_count": null,
   "metadata": {},
   "outputs": [],
   "source": [
    "Spike = Spike[f:]\n",
    "np.save(f'{folder}/timebin_{new_tb}_spks.npy', Spike)\n",
    "\n",
    "Spike.shape, Distance.shape, idx.shape"
   ]
  }
 ],
 "metadata": {
  "kernelspec": {
   "display_name": "Python 3",
   "language": "python",
   "name": "python3"
  },
  "language_info": {
   "codemirror_mode": {
    "name": "ipython",
    "version": 3
   },
   "file_extension": ".py",
   "mimetype": "text/x-python",
   "name": "python",
   "nbconvert_exporter": "python",
   "pygments_lexer": "ipython3",
   "version": "3.8.3"
  }
 },
 "nbformat": 4,
 "nbformat_minor": 4
}
