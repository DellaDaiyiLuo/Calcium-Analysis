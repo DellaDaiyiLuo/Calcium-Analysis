{
 "cells": [
  {
   "cell_type": "code",
   "execution_count": null,
   "metadata": {},
   "outputs": [],
   "source": [
    "%%javascript\n",
    "$('<div id=\"toc\"></div>').css({position: 'fixed', top: '120px', left: 0}).appendTo(document.body);\n",
    "$.getScript('https://kmahelona.github.io/ipython_notebook_goodies/ipython_notebook_toc.js');"
   ]
  },
  {
   "cell_type": "markdown",
   "metadata": {},
   "source": [
    "## Table of contents\n",
    "<div id=\"toc\"></div>"
   ]
  },
  {
   "cell_type": "code",
   "execution_count": 51,
   "metadata": {},
   "outputs": [
    {
     "data": {
      "application/javascript": [
       "$.getScript('https://kmahelona.github.io/ipython_notebook_goodies/ipython_notebook_toc.js')\n"
      ],
      "text/plain": [
       "<IPython.core.display.Javascript object>"
      ]
     },
     "metadata": {},
     "output_type": "display_data"
    }
   ],
   "source": [
    "%%javascript\n",
    "$.getScript('https://kmahelona.github.io/ipython_notebook_goodies/ipython_notebook_toc.js')"
   ]
  },
  {
   "cell_type": "code",
   "execution_count": 2,
   "metadata": {},
   "outputs": [],
   "source": [
    "import numpy as np\n",
    "import matplotlib.pyplot as plt\n",
    "from scipy.io import loadmat\n",
    "import CalHMM"
   ]
  },
  {
   "cell_type": "code",
   "execution_count": 55,
   "metadata": {},
   "outputs": [],
   "source": [
    "folder = '/Users/daiyiluo/Downloads/KQ095_210205' #KQ086_210110' #"
   ]
  },
  {
   "cell_type": "markdown",
   "metadata": {},
   "source": [
    "# 1. Preprocess"
   ]
  },
  {
   "cell_type": "markdown",
   "metadata": {},
   "source": [
    "## 1.1. Align Behaviour Data with Trace Data\n",
    "### Fish's Data\n",
    "### a. Load data"
   ]
  },
  {
   "cell_type": "code",
   "execution_count": 3,
   "metadata": {},
   "outputs": [
    {
     "data": {
      "text/plain": [
       "dict_keys(['__header__', '__version__', '__globals__', 'B'])"
      ]
     },
     "execution_count": 3,
     "metadata": {},
     "output_type": "execute_result"
    }
   ],
   "source": [
    "#----- find shape of trace data -----#\n",
    "\n",
    "data = loadmat(f'{folder}/dFishQ_raw.mat')\n",
    "data.keys() # check the name of the variable"
   ]
  },
  {
   "cell_type": "code",
   "execution_count": 5,
   "metadata": {},
   "outputs": [
    {
     "name": "stdout",
     "output_type": "stream",
     "text": [
      "Shape of calcium traces: (96593, 219)\n"
     ]
    }
   ],
   "source": [
    "key = 'B' # 'B' for CA1 data, 'dFishQ_raw' for CA3 data\n",
    "traces = data[key]\n",
    "del data\n",
    "print(f'Shape of calcium traces: {traces.shape}')"
   ]
  },
  {
   "cell_type": "code",
   "execution_count": null,
   "metadata": {},
   "outputs": [],
   "source": [
    "#----- load behaviour data -----#\n",
    "\n",
    "data = loadmat(f'{folder}/S.mat')\n",
    "data.keys()"
   ]
  },
  {
   "cell_type": "code",
   "execution_count": null,
   "metadata": {},
   "outputs": [],
   "source": [
    "key = 'S'\n",
    "data[key].dtype"
   ]
  },
  {
   "cell_type": "code",
   "execution_count": null,
   "metadata": {},
   "outputs": [],
   "source": [
    "# Locate the time point of each frame\n",
    "FrameClock = np.round(data[key][0,0]['frameClock'])\n",
    "d = np.diff(np.squeeze(FrameClock>4.5).astype(int))\n",
    "idx = np.where(d<-0.5)[0]\n",
    "\n",
    "print(f'Check if this equals to 2. \\n #clock - #frames: {idx.shape[0]-traces.shape[0]}')"
   ]
  },
  {
   "cell_type": "code",
   "execution_count": null,
   "metadata": {},
   "outputs": [],
   "source": [
    "distance = data[key][0,0]['distance'].squeeze()\n",
    "speed = data[key][0,0]['runSpeed'].squeeze()\n",
    "lick = data[key][0,0]['lick'].squeeze()\n",
    "\n",
    "del data\n",
    "\n",
    "distance.shape, speed.shape, lick.shape, traces.shape"
   ]
  },
  {
   "cell_type": "markdown",
   "metadata": {},
   "source": [
    "### b. Downsample behaviour data to frame rate"
   ]
  },
  {
   "cell_type": "code",
   "execution_count": null,
   "metadata": {},
   "outputs": [],
   "source": [
    "val, counts = np.unique(np.diff(idx), return_counts=True)\n",
    "print(f'Frame interval: \\n{val[counts>5]}\\nOccurrence:     \\n{counts[counts>5]}')\n",
    "print('\\nThen decide the frameinterv var below...')"
   ]
  },
  {
   "cell_type": "code",
   "execution_count": null,
   "metadata": {},
   "outputs": [],
   "source": [
    "frameinterv = 333  # most frame interval is 333 or 334\n",
    "lk0 = np.convolve(lick, np.ones(frameinterv), 'valid') / frameinterv \n",
    "halflen = np.floor(frameinterv/2).astype('int16')\n",
    "lk0 = np.concatenate((np.zeros(halflen),lk0, np.zeros(halflen)))\n",
    "lk = lk0[idx[:-2]]\n",
    "\n",
    "dis = distance[idx[:-2]]\n",
    "spd = speed[idx[:-2]]\n",
    "\n",
    "spd.shape,dis.shape,lk.shape"
   ]
  },
  {
   "cell_type": "markdown",
   "metadata": {},
   "source": [
    "### c. Check time point of each frame"
   ]
  },
  {
   "cell_type": "code",
   "execution_count": null,
   "metadata": {},
   "outputs": [],
   "source": [
    "#-------- Check every thing ---------#\n",
    "# Same lap length for every lap?\n",
    "%matplotlib\n",
    "plt.figure(figsize=(20,5))\n",
    "plt.plot(FrameClock)\n",
    "plt.plot(distance)\n",
    "plt.plot(speed)\n",
    "plt.plot(idx, FrameClock[idx], '*')\n",
    "plt.show()"
   ]
  },
  {
   "cell_type": "code",
   "execution_count": null,
   "metadata": {},
   "outputs": [],
   "source": [
    "#-------- Check licking rate downsampleing --------#\n",
    "plt.figure()\n",
    "plt.plot(lick)\n",
    "plt.plot(idx[:-2],lk,'*')\n",
    "plt.plot(lk0)"
   ]
  },
  {
   "cell_type": "code",
   "execution_count": null,
   "metadata": {},
   "outputs": [],
   "source": [
    "#-------- Check speed downsampleing --------#\n",
    "plt.plot(speed)\n",
    "plt.plot(idx[:-2], spd)\n",
    "# plt.xlim(4e6, 4.5e6)\n",
    "plt.ylabel('speed')"
   ]
  },
  {
   "cell_type": "markdown",
   "metadata": {},
   "source": [
    "### d. Save data with same sampling rate"
   ]
  },
  {
   "cell_type": "code",
   "execution_count": null,
   "metadata": {},
   "outputs": [],
   "source": [
    "spd.shape,dis.shape,lk.shape"
   ]
  },
  {
   "cell_type": "code",
   "execution_count": null,
   "metadata": {},
   "outputs": [],
   "source": [
    "# check if you need to truncate the data\n",
    "st = 0\n",
    "end = len(lk)\n",
    "np.savez(f'{folder}/S.npz', spd=spd[st:end], dis=dis[st:end], lk=lk[st:end])"
   ]
  },
  {
   "cell_type": "markdown",
   "metadata": {},
   "source": [
    "### e. Deconvolution for spike data"
   ]
  },
  {
   "cell_type": "code",
   "execution_count": null,
   "metadata": {},
   "outputs": [],
   "source": [
    "import warnings\n",
    "warnings.filterwarnings('ignore')\n",
    "from caiman.source_extraction import cnmf"
   ]
  },
  {
   "cell_type": "code",
   "execution_count": null,
   "metadata": {},
   "outputs": [],
   "source": [
    "traces.shape"
   ]
  },
  {
   "cell_type": "code",
   "execution_count": null,
   "metadata": {},
   "outputs": [],
   "source": [
    "spks = np.zeros_like(traces)\n",
    "for i in range(traces.shape[1]):\n",
    "    _, _, _, _, _, spks[:,i], _ = cnmf.deconvolution.constrained_foopsi(traces[:,i],p=2)\n",
    "\n",
    "print(f'Shape of deconvolved spikes: {spks.shape}')"
   ]
  },
  {
   "cell_type": "code",
   "execution_count": null,
   "metadata": {},
   "outputs": [],
   "source": [
    "np.savez(f'{folder}/spk.npz', spks=spks)"
   ]
  },
  {
   "cell_type": "code",
   "execution_count": 6,
   "metadata": {},
   "outputs": [],
   "source": [
    "spks = np.load(f'{folder}/spk.npz')['spks']"
   ]
  },
  {
   "cell_type": "code",
   "execution_count": null,
   "metadata": {},
   "outputs": [],
   "source": [
    "spks = np.round(spks*50)"
   ]
  },
  {
   "cell_type": "code",
   "execution_count": null,
   "metadata": {},
   "outputs": [],
   "source": [
    "%matplotlib\n",
    "plt.figure()\n",
    "plt.plot(traces[:,20])\n",
    "plt.plot(spks[:,20])"
   ]
  },
  {
   "cell_type": "markdown",
   "metadata": {},
   "source": [
    "## 1.2. Sort into time bins and exclude immobile epoch\n",
    "### a. Load data"
   ]
  },
  {
   "cell_type": "code",
   "execution_count": 7,
   "metadata": {},
   "outputs": [
    {
     "name": "stdout",
     "output_type": "stream",
     "text": [
      "/Users/daiyiluo/Downloads/KQ095_210205/S.npz\n",
      "(96593, 219)\n",
      "(96593, 219)\n"
     ]
    }
   ],
   "source": [
    "print(f'{folder}/S.npz')\n",
    "print(traces.shape)\n",
    "print(spks.shape)"
   ]
  },
  {
   "cell_type": "code",
   "execution_count": 8,
   "metadata": {},
   "outputs": [
    {
     "data": {
      "text/plain": [
       "((96593,), (96593,), (96593,))"
      ]
     },
     "execution_count": 8,
     "metadata": {},
     "output_type": "execute_result"
    }
   ],
   "source": [
    "# traces = traces[st:end,:] # for CA3 0212 data\n",
    "\n",
    "data = np.load(f'{folder}/S.npz')\n",
    "spd = data['spd']\n",
    "dis = data['dis']\n",
    "lk = data['lk']\n",
    "\n",
    "del data\n",
    "\n",
    "spd.shape, dis.shape, lk.shape"
   ]
  },
  {
   "cell_type": "markdown",
   "metadata": {},
   "source": [
    "### b. Sort into time bin"
   ]
  },
  {
   "cell_type": "code",
   "execution_count": 25,
   "metadata": {},
   "outputs": [
    {
     "data": {
      "text/plain": [
       "10"
      ]
     },
     "execution_count": 25,
     "metadata": {},
     "output_type": "execute_result"
    }
   ],
   "source": [
    "new_tb = 333.4  # 2Hz: 500ms\n",
    "ratio = int(30*new_tb/1000)\n",
    "ratio"
   ]
  },
  {
   "cell_type": "code",
   "execution_count": 10,
   "metadata": {},
   "outputs": [
    {
     "data": {
      "text/plain": [
       "((3219,), (3219,))"
      ]
     },
     "execution_count": 10,
     "metadata": {},
     "output_type": "execute_result"
    }
   ],
   "source": [
    "# Sample speed to 2Hz\n",
    "avgspd = np.convolve(spd, np.ones(ratio)/ratio, mode='valid')\n",
    "avgspd = avgspd[::ratio]\n",
    "\n",
    "# Sample position to 2Hz\n",
    "idx_dis = np.arange(round(ratio/2), len(dis)-ratio, ratio)\n",
    "avgdis = dis[idx_dis]\n",
    "\n",
    "avgspd.shape, avgdis.shape"
   ]
  },
  {
   "cell_type": "markdown",
   "metadata": {},
   "source": [
    "---------- Trace -----------"
   ]
  },
  {
   "cell_type": "code",
   "execution_count": 11,
   "metadata": {},
   "outputs": [
    {
     "data": {
      "text/plain": [
       "(3219, 219)"
      ]
     },
     "execution_count": 11,
     "metadata": {},
     "output_type": "execute_result"
    }
   ],
   "source": [
    "# Sample traces to 2Hz\n",
    "avgtrc = []\n",
    "for i in range(traces.shape[1]):\n",
    "    t = np.convolve(traces[:,i], np.ones(ratio)/ratio, mode='valid')\n",
    "    avgtrc.append(t[::ratio])    \n",
    "avgtrc = (np.vstack(avgtrc)).T\n",
    "\n",
    "avgtrc.shape"
   ]
  },
  {
   "cell_type": "markdown",
   "metadata": {},
   "source": [
    "--------- Spikes --------"
   ]
  },
  {
   "cell_type": "code",
   "execution_count": 12,
   "metadata": {},
   "outputs": [
    {
     "data": {
      "text/plain": [
       "(3219, 219)"
      ]
     },
     "execution_count": 12,
     "metadata": {},
     "output_type": "execute_result"
    }
   ],
   "source": [
    "# Sample spks to 2Hz\n",
    "avgspk = []\n",
    "for i in range(spks.shape[1]):\n",
    "    t = np.convolve(spks[:,i], np.ones(ratio)/ratio, mode='valid')\n",
    "    avgspk.append(t[::ratio]*ratio)    \n",
    "avgspk = (np.vstack(avgspk)).T\n",
    "\n",
    "avgspk.shape"
   ]
  },
  {
   "cell_type": "markdown",
   "metadata": {},
   "source": [
    "### c. Exclude immobile time bins "
   ]
  },
  {
   "cell_type": "code",
   "execution_count": 13,
   "metadata": {},
   "outputs": [
    {
     "name": "stdout",
     "output_type": "stream",
     "text": [
      "Using matplotlib backend: MacOSX\n"
     ]
    },
    {
     "data": {
      "text/plain": [
       "[<matplotlib.lines.Line2D at 0x7fb80fe51e20>]"
      ]
     },
     "execution_count": 13,
     "metadata": {},
     "output_type": "execute_result"
    }
   ],
   "source": [
    "spd_thr = 0.02 # 0.02 for 1s tb, 0.03 for 200/500 ms\n",
    "pass_thr = np.where(avgspd>spd_thr)[0]\n",
    "%matplotlib\n",
    "plt.plot(avgspd)\n",
    "plt.plot(pass_thr,avgspd[pass_thr],'*')\n",
    "plt.plot([0,len(avgspd)], [spd_thr,spd_thr])"
   ]
  },
  {
   "cell_type": "code",
   "execution_count": 14,
   "metadata": {},
   "outputs": [
    {
     "data": {
      "text/plain": [
       "((1019,), (1019,))"
      ]
     },
     "execution_count": 14,
     "metadata": {},
     "output_type": "execute_result"
    }
   ],
   "source": [
    "Distance = avgdis[avgspd>spd_thr]\n",
    "idx = idx_dis[avgspd>spd_thr] # for licking data because it is not sorted into 500ms time bins\n",
    "Distance.shape, idx.shape"
   ]
  },
  {
   "cell_type": "markdown",
   "metadata": {},
   "source": [
    "---------- Trace -----------"
   ]
  },
  {
   "cell_type": "code",
   "execution_count": 15,
   "metadata": {},
   "outputs": [
    {
     "data": {
      "text/plain": [
       "(1019, 219)"
      ]
     },
     "execution_count": 15,
     "metadata": {},
     "output_type": "execute_result"
    }
   ],
   "source": [
    "Trace = avgtrc[avgspd>spd_thr,:]\n",
    "Trace.shape"
   ]
  },
  {
   "cell_type": "markdown",
   "metadata": {},
   "source": [
    "--------- Spikes --------"
   ]
  },
  {
   "cell_type": "code",
   "execution_count": 16,
   "metadata": {},
   "outputs": [
    {
     "data": {
      "text/plain": [
       "(1019, 219)"
      ]
     },
     "execution_count": 16,
     "metadata": {},
     "output_type": "execute_result"
    }
   ],
   "source": [
    "Spike = avgspk[avgspd>spd_thr,:]\n",
    "Spike.shape"
   ]
  },
  {
   "cell_type": "code",
   "execution_count": null,
   "metadata": {},
   "outputs": [],
   "source": [
    "for i in range(Spike.shape[1]):\n",
    "    plt.plot(Spike[:,i]/np.max(Spike[:,i])+i)"
   ]
  },
  {
   "cell_type": "markdown",
   "metadata": {},
   "source": [
    "### d. Sort into spatial bins and Locate laps"
   ]
  },
  {
   "cell_type": "code",
   "execution_count": 17,
   "metadata": {},
   "outputs": [
    {
     "data": {
      "text/plain": [
       "((50,), (1019,))"
      ]
     },
     "execution_count": 17,
     "metadata": {},
     "output_type": "execute_result"
    }
   ],
   "source": [
    "nbin = 50 # expected number of spatial bins\n",
    "n = np.floor(1/(avgdis.max()/nbin))\n",
    "Distance0 = np.round(Distance*n)/n # round the distance\n",
    "np.unique(Distance0).shape, Distance0.shape"
   ]
  },
  {
   "cell_type": "code",
   "execution_count": 18,
   "metadata": {},
   "outputs": [
    {
     "data": {
      "text/plain": [
       "((994,), 25)"
      ]
     },
     "execution_count": 18,
     "metadata": {},
     "output_type": "execute_result"
    }
   ],
   "source": [
    "Distance = Distance0\n",
    "\n",
    "d = np.diff(Distance)\n",
    "lap_end = np.where(d<-1.6)[0] # Locate the point where the laps end\n",
    "Distance = Distance[lap_end[0]:]\n",
    "idx = idx[lap_end[0]:]\n",
    "f=lap_end[0]\n",
    "Distance.shape, f"
   ]
  },
  {
   "cell_type": "markdown",
   "metadata": {},
   "source": [
    "---------- Trace -----------"
   ]
  },
  {
   "cell_type": "code",
   "execution_count": 19,
   "metadata": {},
   "outputs": [
    {
     "data": {
      "text/plain": [
       "((994, 219), (994,), (994,))"
      ]
     },
     "execution_count": 19,
     "metadata": {},
     "output_type": "execute_result"
    }
   ],
   "source": [
    "Trace = Trace[f:]\n",
    "Trace.shape, Distance.shape, idx.shape"
   ]
  },
  {
   "cell_type": "code",
   "execution_count": 20,
   "metadata": {},
   "outputs": [],
   "source": [
    "lap_end = lap_end-lap_end[0]\n",
    "np.savez(f'{folder}/timebin_{new_tb}.npz', Trace=Trace, Distance=Distance, lap_end=lap_end, idx=idx)"
   ]
  },
  {
   "cell_type": "markdown",
   "metadata": {},
   "source": [
    "--------- Spikes --------"
   ]
  },
  {
   "cell_type": "code",
   "execution_count": 21,
   "metadata": {},
   "outputs": [
    {
     "data": {
      "text/plain": [
       "((994, 219), (994,), (994,))"
      ]
     },
     "execution_count": 21,
     "metadata": {},
     "output_type": "execute_result"
    }
   ],
   "source": [
    "Spike = Spike[f:]\n",
    "Spike.shape, Distance.shape, idx.shape"
   ]
  },
  {
   "cell_type": "code",
   "execution_count": 22,
   "metadata": {},
   "outputs": [],
   "source": [
    "np.save(f'{folder}/timebin_{new_tb}_spks.npy', Spike)"
   ]
  },
  {
   "cell_type": "markdown",
   "metadata": {},
   "source": [
    "--------- check the distance sorting --------"
   ]
  },
  {
   "cell_type": "code",
   "execution_count": null,
   "metadata": {},
   "outputs": [],
   "source": [
    "# dis = np.load(f'{folder}/S.npz')['dis']\n",
    "# plt.plot(dis)\n",
    "# plt.plot(idx,Distance,'o')\n",
    "# plt.plot(idx[lap_end], dis[idx[lap_end]],'*')\n",
    "# plt.xlim(0, 4000)"
   ]
  },
  {
   "cell_type": "markdown",
   "metadata": {},
   "source": [
    "# 2. Run Trace HMM"
   ]
  },
  {
   "cell_type": "code",
   "execution_count": null,
   "metadata": {},
   "outputs": [],
   "source": [
    "spc_folder = f'{folder}'\n",
    "spc_folder"
   ]
  },
  {
   "cell_type": "code",
   "execution_count": null,
   "metadata": {},
   "outputs": [],
   "source": [
    "import hmmlearn.hmm"
   ]
  },
  {
   "cell_type": "code",
   "execution_count": null,
   "metadata": {},
   "outputs": [],
   "source": [
    "import imp\n",
    "imp.reload(CalHMM)"
   ]
  },
  {
   "cell_type": "code",
   "execution_count": null,
   "metadata": {},
   "outputs": [],
   "source": [
    "data = np.load(f'{spc_folder}/timebin_500.npz') #{folder}/timebin_500.npz\n",
    "Trace = data['Trace']\n",
    "Distance = data['Distance']\n",
    "lap_end = data['lap_end']\n",
    "idx = data['idx']\n",
    "del data\n",
    "\n",
    "lk = np.load(f'{folder}/S.npz')['lk']\n",
    "\n",
    "Trace.shape, Distance.shape, idx.shape, lk.shape"
   ]
  },
  {
   "cell_type": "markdown",
   "metadata": {},
   "source": [
    "## Segment data or Exclude cells"
   ]
  },
  {
   "cell_type": "code",
   "execution_count": null,
   "metadata": {},
   "outputs": [],
   "source": [
    "Trace.shape"
   ]
  },
  {
   "cell_type": "code",
   "execution_count": null,
   "metadata": {},
   "outputs": [],
   "source": [
    "# Save original copy\n",
    "Trace0 = Trace.copy()\n",
    "Distance0 = Distance.copy()\n",
    "lap_end0 = lap_end.copy()"
   ]
  },
  {
   "cell_type": "code",
   "execution_count": null,
   "metadata": {},
   "outputs": [],
   "source": [
    "#--------- Segment the traces ---------#\n",
    "st = 0\n",
    "end = 831\n",
    "Trace=Trace0[st:end,:]\n",
    "Distance=Distance0[st:end]\n",
    "lap_end=lap_end0[np.where((lap_end0>st)&(lap_end0<end))]-st\n",
    "print(f'Trace shape: {Trace.shape}, Distance shape: {Distance.shape}')"
   ]
  },
  {
   "cell_type": "code",
   "execution_count": null,
   "metadata": {},
   "outputs": [],
   "source": [
    "#--------- Exclude some cells ---------#\n",
    "\n",
    "# 1. Delete one specific cell\n",
    "# l=np.arange(219)\n",
    "# l=np.delete(l,177)\n",
    "\n",
    "# 2. Randomly select 110 cells\n",
    "l = np.random.choice(219, size=110,replace=False)\n",
    "\n",
    "Trace=Trace[:,l]\n",
    "Trace.shape"
   ]
  },
  {
   "cell_type": "markdown",
   "metadata": {},
   "source": [
    "## 2.1. Original data"
   ]
  },
  {
   "cell_type": "code",
   "execution_count": null,
   "metadata": {},
   "outputs": [],
   "source": [
    "org_err_rate = []\n",
    "org_dev = []\n",
    "\n",
    "for i in range(20):\n",
    "    origin = hmmlearn.hmm.GaussianHMM(n_components=20) \n",
    "    origin.fit(Trace)\n",
    "    _, _, _, posterior_states1, pos_COM1 = CalHMM.comp_poststates_pos(origin, Trace, Distance)\n",
    "    err_rate1, dev1, _ = CalHMM.comp_decoded_pos_acc(Distance, posterior_states1, pos_COM1)\n",
    "    org_err_rate.append(err_rate1)\n",
    "    org_dev.append(dev1)"
   ]
  },
  {
   "cell_type": "code",
   "execution_count": null,
   "metadata": {},
   "outputs": [],
   "source": [
    "len(org_err_rate)"
   ]
  },
  {
   "cell_type": "code",
   "execution_count": null,
   "metadata": {},
   "outputs": [],
   "source": [
    "save_org_err_rate = np.array(org_err_rate)\n",
    "save_org_dev = np.array(org_dev)\n",
    "save_org_err_rate.mean()"
   ]
  },
  {
   "cell_type": "code",
   "execution_count": null,
   "metadata": {},
   "outputs": [],
   "source": [
    "np.savez(f'{spc_folder}/org_err_rate.npz', save_org_err_rate=save_org_err_rate, save_org_dev=save_org_dev)"
   ]
  },
  {
   "cell_type": "markdown",
   "metadata": {},
   "source": [
    "## 2.2. Time shuffle data"
   ]
  },
  {
   "cell_type": "code",
   "execution_count": null,
   "metadata": {},
   "outputs": [],
   "source": [
    "ts_err_rate = []\n",
    "ts_dev = []\n",
    "\n",
    "plt.figure(figsize=(15,4))\n",
    "plt.plot(Trace[200:500,9])\n",
    "\n",
    "for i in range(20):\n",
    "    ts_Trace = CalHMM.get_time_shuffle(Trace)\n",
    "    plt.plot(ts_Trace[200:500,9])\n",
    "    \n",
    "    ts = hmmlearn.hmm.GaussianHMM(n_components=20) \n",
    "    ts.fit(ts_Trace) \n",
    "    _, _, _, posterior_states2, pos_COM2 = CalHMM.comp_poststates_pos(ts, Trace, Distance)\n",
    "    err_rate2, dev2, _ = CalHMM.comp_decoded_pos_acc(Distance, posterior_states2, pos_COM2)\n",
    "    ts_err_rate.append(err_rate2)\n",
    "    ts_dev.append(dev2)"
   ]
  },
  {
   "cell_type": "code",
   "execution_count": null,
   "metadata": {},
   "outputs": [],
   "source": [
    "len(ts_err_rate)"
   ]
  },
  {
   "cell_type": "code",
   "execution_count": null,
   "metadata": {},
   "outputs": [],
   "source": [
    "save_ts_err_rate = np.array(ts_err_rate)\n",
    "save_ts_dev = np.array(ts_dev)\n",
    "save_ts_err_rate.mean()"
   ]
  },
  {
   "cell_type": "code",
   "execution_count": null,
   "metadata": {},
   "outputs": [],
   "source": [
    "np.savez(f'{spc_folder}/ts_err_rate.npz', save_ts_err_rate=save_ts_err_rate, save_ts_dev=save_ts_dev)"
   ]
  },
  {
   "cell_type": "markdown",
   "metadata": {},
   "source": [
    "## 2.3. Transient shuffle data"
   ]
  },
  {
   "cell_type": "code",
   "execution_count": null,
   "metadata": {},
   "outputs": [],
   "source": [
    "trsn_err_rate = []\n",
    "trsn_dev = []\n",
    "\n",
    "plt.figure(figsize=(15,4))\n",
    "plt.plot(Trace[200:500,9])\n",
    "\n",
    "for i in range(20):\n",
    "    trsn_shf = CalHMM.get_trsn_shuffle(Trace)\n",
    "    plt.plot(trsn_shf[200:500,9])\n",
    "    \n",
    "    trsn = hmmlearn.hmm.GaussianHMM(n_components=20) \n",
    "    trsn.fit(trsn_shf)  \n",
    "    _, _, _, posterior_states3, pos_COM3 = CalHMM.comp_poststates_pos(trsn, Trace, Distance)\n",
    "    err_rate3, dev3, _ = CalHMM.comp_decoded_pos_acc(Distance, posterior_states3, pos_COM3)\n",
    "    trsn_err_rate.append(err_rate3)\n",
    "    trsn_dev.append(dev3)"
   ]
  },
  {
   "cell_type": "code",
   "execution_count": null,
   "metadata": {},
   "outputs": [],
   "source": [
    "save_trsn_err_rate = np.array(trsn_err_rate)\n",
    "save_trsn_dev = np.array(trsn_dev)\n",
    "save_trsn_err_rate.mean()"
   ]
  },
  {
   "cell_type": "code",
   "execution_count": null,
   "metadata": {},
   "outputs": [],
   "source": [
    "np.savez(f'{spc_folder}/trsn_err_rate.npz', save_trsn_err_rate=save_trsn_err_rate, save_trsn_dev=save_trsn_dev)"
   ]
  },
  {
   "cell_type": "markdown",
   "metadata": {},
   "source": [
    "### Compare"
   ]
  },
  {
   "cell_type": "code",
   "execution_count": null,
   "metadata": {},
   "outputs": [],
   "source": [
    "# plt.boxplot([save_org_err_rate, save_ts_err_rate, save_trsn_err_rate])\n",
    "# plt.xticks(np.arange(1,4), ['origin','time shuffle', 'transient shuffle'])\n",
    "plt.boxplot([save_org_err_rate, save_ts_err_rate])\n",
    "plt.xticks(np.arange(1,3), ['origin','time shuffle'])\n",
    "\n",
    "plt.ylabel('Average error rate')\n",
    "plt.title('CA1 first day\\n200ms time bin')\n",
    "plt.show()"
   ]
  },
  {
   "cell_type": "code",
   "execution_count": null,
   "metadata": {},
   "outputs": [],
   "source": [
    "save_org_err_rate[-1], save_ts_err_rate[-1], save_trsn_err_rate[-1]"
   ]
  },
  {
   "cell_type": "markdown",
   "metadata": {},
   "source": [
    "## 2.4. Save and reload"
   ]
  },
  {
   "cell_type": "code",
   "execution_count": null,
   "metadata": {},
   "outputs": [],
   "source": [
    "save = False\n",
    "if save==True:\n",
    "    CalHMM.save_object(origin, f'{spc_folder}/origin.pkl')\n",
    "    CalHMM.save_object(ts, f'{spc_folder}/ts.pkl')\n",
    "    CalHMM.save_object(trsn, f'{spc_folder}/trsn.pkl')"
   ]
  },
  {
   "cell_type": "code",
   "execution_count": null,
   "metadata": {},
   "outputs": [],
   "source": [
    "origin = CalHMM.load_object(f'{spc_folder}/origin.pkl')\n",
    "ts = CalHMM.load_object(f'{spc_folder}/ts.pkl')\n",
    "trsn = CalHMM.load_object(f'{spc_folder}/trsn.pkl')"
   ]
  },
  {
   "cell_type": "code",
   "execution_count": null,
   "metadata": {},
   "outputs": [],
   "source": [
    "origin.score(Trace), ts.score(Trace), trsn.score(Trace)"
   ]
  },
  {
   "cell_type": "code",
   "execution_count": null,
   "metadata": {},
   "outputs": [],
   "source": [
    "prob = []\n",
    "for i in range(len(lap_end)-1):\n",
    "    prob.append(origin.score(Trace[lap_end[i]:lap_end[i+1]])/(lap_end[i+1]-lap_end[i]))"
   ]
  },
  {
   "cell_type": "code",
   "execution_count": null,
   "metadata": {},
   "outputs": [],
   "source": [
    "plt.plot(prob)\n",
    "plt.ylim(-500,300)\n",
    "np.array(prob).mean()"
   ]
  },
  {
   "cell_type": "code",
   "execution_count": null,
   "metadata": {},
   "outputs": [],
   "source": [
    "prob2 = []\n",
    "for i in range(len(lap_end)-1):\n",
    "    prob2.append(ts.score(Trace[lap_end[i]:lap_end[i+1]])/(lap_end[i+1]-lap_end[i]))"
   ]
  },
  {
   "cell_type": "code",
   "execution_count": null,
   "metadata": {},
   "outputs": [],
   "source": [
    "plt.plot(prob2)\n",
    "plt.ylim(-500,300)\n",
    "np.array(prob2).mean()"
   ]
  },
  {
   "cell_type": "code",
   "execution_count": null,
   "metadata": {},
   "outputs": [],
   "source": [
    "plt.plot(prob2)\n",
    "plt.ylim(-500,300)"
   ]
  },
  {
   "cell_type": "markdown",
   "metadata": {},
   "source": [
    "## 2.5. Visualizations\n",
    "### 2.5.1. Regular"
   ]
  },
  {
   "cell_type": "code",
   "execution_count": null,
   "metadata": {},
   "outputs": [],
   "source": [
    "%matplotlib inline\n",
    "v = .2"
   ]
  },
  {
   "cell_type": "code",
   "execution_count": null,
   "metadata": {},
   "outputs": [],
   "source": [
    "x1, plst1, occ1, T1, posterior_states1, pos_COM1 = CalHMM.show_all_plots(origin, Trace, Distance, lap_end, t_st=1200, t_duration=500,vmax=v)"
   ]
  },
  {
   "cell_type": "code",
   "execution_count": null,
   "metadata": {},
   "outputs": [],
   "source": [
    "x2, plst2, occ2, T2, posterior_states2, pos_COM2 = CalHMM.show_all_plots(ts, Trace, Distance, lap_end, t_st=1200, t_duration=500, vmax=v)"
   ]
  },
  {
   "cell_type": "code",
   "execution_count": null,
   "metadata": {},
   "outputs": [],
   "source": [
    "x3, plst3, occ3, T3, posterior_states3, pos_COM3 = CalHMM.show_all_plots(trsn, Trace, Distance, lap_end, t_st=1200, t_duration=500, vmax=v)"
   ]
  },
  {
   "cell_type": "markdown",
   "metadata": {},
   "source": [
    "### Check cell asembly coactivation"
   ]
  },
  {
   "cell_type": "code",
   "execution_count": null,
   "metadata": {},
   "outputs": [],
   "source": [
    "origin.means_.shape"
   ]
  },
  {
   "cell_type": "code",
   "execution_count": null,
   "metadata": {},
   "outputs": [],
   "source": [
    "n=plst1[8]\n",
    "means=origin.means_[n,:]\n",
    "thr=means.mean()+3*means.std()\n",
    "nn=np.where(origin.means_[n,:]>thr)[0]\n",
    "plt.plot(means)\n",
    "plt.plot([0,110],[thr,thr])\n",
    "plt.plot(nn, means[nn],'*')\n",
    "print(nn)"
   ]
  },
  {
   "cell_type": "code",
   "execution_count": null,
   "metadata": {},
   "outputs": [],
   "source": [
    "plt.figure(figsize=(15,4))\n",
    "for j,i in enumerate(nn):\n",
    "    t=Trace[:,i].copy()\n",
    "    t=t/np.max(t)\n",
    "    plt.plot(t+j, label=f'{i}')\n",
    "plt.legend()"
   ]
  },
  {
   "cell_type": "code",
   "execution_count": null,
   "metadata": {},
   "outputs": [],
   "source": []
  },
  {
   "cell_type": "markdown",
   "metadata": {},
   "source": [
    "### 2.5.2. Decoded states of all frames"
   ]
  },
  {
   "cell_type": "code",
   "execution_count": null,
   "metadata": {},
   "outputs": [],
   "source": [
    "_, plst, _, posterior_states = CalHMM.comp_poststates_pos(origin, Trace, Distance)\n",
    "%matplotlib\n",
    "CalHMM.plot_postprob(posterior_states, plst, lap_end, t_st=0, t_duration=len(Distance))"
   ]
  },
  {
   "cell_type": "code",
   "execution_count": null,
   "metadata": {},
   "outputs": [],
   "source": [
    "plt.xlim(800,1200)"
   ]
  },
  {
   "cell_type": "markdown",
   "metadata": {},
   "source": [
    "### 2.5.3. Decoded states and behaviour"
   ]
  },
  {
   "cell_type": "code",
   "execution_count": null,
   "metadata": {},
   "outputs": [],
   "source": [
    "lk = np.load(f'{folder}/S.npz')['lk']\n",
    "lk.shape"
   ]
  },
  {
   "cell_type": "code",
   "execution_count": null,
   "metadata": {},
   "outputs": [],
   "source": [
    "i,ct=np.unique(np.diff(idx),return_counts=True)\n",
    "i,ct"
   ]
  },
  {
   "cell_type": "code",
   "execution_count": null,
   "metadata": {},
   "outputs": [],
   "source": [
    "idx[np.where(np.diff(idx)>15)[0]]"
   ]
  },
  {
   "cell_type": "code",
   "execution_count": null,
   "metadata": {},
   "outputs": [],
   "source": [
    "plt.plot(idx, Distance, '.')\n",
    "i=np.where(np.diff(idx)>15)[0]\n",
    "plt.plot(idx[i],Distance[i],'*')"
   ]
  },
  {
   "cell_type": "code",
   "execution_count": null,
   "metadata": {},
   "outputs": [],
   "source": [
    "def plot_decoded_pos(Distance, Decoded_pos, lap_end, idx, lk, ax1=None, ax2=None, t_st=400, t_duration=200):\n",
    "    num = np.where((lap_end>t_st)&(lap_end<t_st+t_duration))[0]\n",
    "    if ax1==None:\n",
    "        _, ax1 = plt.subplots(figsize=(15,3))\n",
    "    ax1.plot(lk[idx[t_st]:idx[t_st+t_duration]]/4, '.', label='lick')\n",
    "    for i in num:\n",
    "        ax1.plot([idx[lap_end[i]]-idx[t_st],idx[lap_end[i]]-idx[t_st]],[0,2], 'r--')\n",
    "    ax1.set_xlim(0,idx[t_st+t_duration]-idx[t_st])\n",
    "    ax1.legend()\n",
    "\n",
    "    if ax2==None:\n",
    "        _, ax2 = plt.subplots(figsize=(15,3))\n",
    "    ax2.plot(idx[t_st:t_st+t_duration]-idx[t_st], Decoded_pos[t_st:t_st+t_duration],'o', label='decoded position')\n",
    "    ax2.plot(idx[t_st:t_st+t_duration]-idx[t_st], Distance[t_st:t_st+t_duration],'.', label='real position')\n",
    "    for i in num:\n",
    "        ax2.plot([idx[lap_end[i]]-idx[t_st],idx[lap_end[i]]-idx[t_st]],[0,2], 'r--')\n",
    "    ax2.set_xlim(0,idx[t_st+t_duration]-idx[t_st])\n",
    "    ax2.legend()"
   ]
  },
  {
   "cell_type": "code",
   "execution_count": null,
   "metadata": {},
   "outputs": [],
   "source": [
    "err_rate, dev, Decoded_pos = CalHMM.comp_decoded_pos_acc(Distance, posterior_states1, pos_COM1)\n",
    "plot_decoded_pos(Distance, Decoded_pos, lap_end, idx, lk, ax1=None, ax2=None, t_st=400, t_duration=200)"
   ]
  },
  {
   "cell_type": "code",
   "execution_count": null,
   "metadata": {},
   "outputs": [],
   "source": [
    "plt.figure(figsize=(15,3))\n",
    "plt.plot(Decoded_pos, label='decoded position')\n",
    "plt.plot(Distance, label='real position')\n",
    "for i in range(len(lap_end)):\n",
    "    plt.plot([lap_end[i],lap_end[i]],[0,2], 'r--')\n",
    "plt.xlim(900,1800)\n",
    "plt.legend()"
   ]
  },
  {
   "cell_type": "code",
   "execution_count": null,
   "metadata": {},
   "outputs": [],
   "source": [
    "lap_end[-1]"
   ]
  },
  {
   "cell_type": "markdown",
   "metadata": {},
   "source": [
    "# 3. Run Spike HMM"
   ]
  },
  {
   "cell_type": "code",
   "execution_count": 56,
   "metadata": {},
   "outputs": [
    {
     "data": {
      "text/plain": [
       "'/Users/daiyiluo/Downloads/KQ095_210205'"
      ]
     },
     "execution_count": 56,
     "metadata": {},
     "output_type": "execute_result"
    }
   ],
   "source": [
    "spc_folder = f'{folder}'\n",
    "spc_folder"
   ]
  },
  {
   "cell_type": "code",
   "execution_count": null,
   "metadata": {},
   "outputs": [],
   "source": [
    "import warnings\n",
    "warnings.filterwarnings('ignore')"
   ]
  },
  {
   "cell_type": "code",
   "execution_count": 100,
   "metadata": {},
   "outputs": [],
   "source": [
    "import hmmlearn.hmm"
   ]
  },
  {
   "cell_type": "code",
   "execution_count": null,
   "metadata": {},
   "outputs": [],
   "source": [
    "import imp\n",
    "imp.reload(CalHMM)"
   ]
  },
  {
   "cell_type": "code",
   "execution_count": 57,
   "metadata": {},
   "outputs": [
    {
     "data": {
      "text/plain": [
       "((1821, 219), (1821,), (1821,))"
      ]
     },
     "execution_count": 57,
     "metadata": {},
     "output_type": "execute_result"
    }
   ],
   "source": [
    "data = np.load(f'{spc_folder}/timebin_500.npz') #{folder}/timebin_500.npz\n",
    "Distance = data['Distance']\n",
    "lap_end = data['lap_end']\n",
    "idx = data['idx']\n",
    "del data\n",
    "\n",
    "Spike = np.load(f'{spc_folder}/timebin_500_spks.npy')\n",
    "\n",
    "Spike.shape, Distance.shape, idx.shape"
   ]
  },
  {
   "cell_type": "code",
   "execution_count": 59,
   "metadata": {},
   "outputs": [
    {
     "data": {
      "text/plain": [
       "[<matplotlib.lines.Line2D at 0x7fb83489c430>]"
      ]
     },
     "execution_count": 59,
     "metadata": {},
     "output_type": "execute_result"
    },
    {
     "data": {
      "image/png": "[encoded data removed]",
      "text/plain": [
       "<Figure size 432x288 with 1 Axes>"
      ]
     },
     "metadata": {
      "needs_background": "light"
     },
     "output_type": "display_data"
    }
   ],
   "source": [
    "lengths=np.diff(lap_end)\n",
    "plt.plot(Distance)\n",
    "plt.plot(np.cumsum(lengths),Distance[np.cumsum(lengths)],'*')"
   ]
  },
  {
   "cell_type": "code",
   "execution_count": 60,
   "metadata": {},
   "outputs": [
    {
     "data": {
      "text/plain": [
       "(0, 1815, 1815, (1815,))"
      ]
     },
     "execution_count": 60,
     "metadata": {},
     "output_type": "execute_result"
    }
   ],
   "source": [
    "lap_end[0],lap_end[-1],np.sum(lengths),Distance[:lap_end[-1]].shape"
   ]
  },
  {
   "cell_type": "markdown",
   "metadata": {},
   "source": [
    "## Segment data or Exclude cells"
   ]
  },
  {
   "cell_type": "code",
   "execution_count": 61,
   "metadata": {},
   "outputs": [],
   "source": [
    "# Save original copy\n",
    "Spike0 = Spike.copy()\n",
    "Distance0 = Distance.copy()\n",
    "lap_end0 = lap_end.copy()"
   ]
  },
  {
   "cell_type": "code",
   "execution_count": 97,
   "metadata": {},
   "outputs": [
    {
     "name": "stdout",
     "output_type": "stream",
     "text": [
      "Using matplotlib backend: MacOSX\n"
     ]
    }
   ],
   "source": [
    "%matplotlib"
   ]
  },
  {
   "cell_type": "code",
   "execution_count": 87,
   "metadata": {},
   "outputs": [],
   "source": [
    "ts_Spike = np.concatenate([CalHMM.get_time_shuffle(Spike[lap_end[j]:lap_end[j+1],:]) for j in range(len(lap_end)-1)])"
   ]
  },
  {
   "cell_type": "code",
   "execution_count": 98,
   "metadata": {},
   "outputs": [],
   "source": [
    "plt.figure(figsize=(20,5))\n",
    "plt.plot(Spike[:,7])\n",
    "plt.plot(ts_Spike[:,7])\n",
    "plt.plot(Distance)\n",
    "for i in range(len(lap_end)-1):\n",
    "    plt.plot([lap_end[i],lap_end[i]],[0,20],'--')"
   ]
  },
  {
   "cell_type": "code",
   "execution_count": 85,
   "metadata": {},
   "outputs": [
    {
     "data": {
      "text/plain": [
       "[0, 34, 68, 102]"
      ]
     },
     "execution_count": 85,
     "metadata": {},
     "output_type": "execute_result"
    }
   ],
   "source": [
    "k=3\n",
    "n_laps=int((len(lap_end0)-1)/k)\n",
    "st = [0]\n",
    "for i in range(k):\n",
    "    st.append(n_laps*(i+1))\n",
    "st"
   ]
  },
  {
   "cell_type": "code",
   "execution_count": 86,
   "metadata": {},
   "outputs": [
    {
     "name": "stdout",
     "output_type": "stream",
     "text": [
      "Spike shape: (546, 219), Distance shape: (546,)\n"
     ]
    }
   ],
   "source": [
    "#--------- Segment the traces ---------#\n",
    "i_k = 1\n",
    "Spike=Spike0[lap_end0[st[i_k]]:lap_end0[st[i_k+1]],:]\n",
    "Distance=Distance0[lap_end0[st[i_k]]:lap_end0[st[i_k+1]]]\n",
    "lap_end=lap_end0[st[i_k]:st[i_k+1]]-lap_end0[st[i_k]]\n",
    "print(f'Spike shape: {Spike.shape}, Distance shape: {Distance.shape}')"
   ]
  },
  {
   "cell_type": "code",
   "execution_count": null,
   "metadata": {},
   "outputs": [],
   "source": [
    "#--------- Exclude some cells ---------#\n",
    "\n",
    "# 1. Delete one specific cell\n",
    "# l=np.arange(219)\n",
    "# l=np.delete(l,177)\n",
    "\n",
    "# 2. Randomly select 110 cells\n",
    "l = np.random.choice(219, size=110,replace=False)\n",
    "\n",
    "Trace=Trace[:,l]\n",
    "Trace.shape"
   ]
  },
  {
   "cell_type": "markdown",
   "metadata": {},
   "source": [
    "## 3.1. Original data"
   ]
  },
  {
   "cell_type": "code",
   "execution_count": 101,
   "metadata": {},
   "outputs": [
    {
     "name": "stderr",
     "output_type": "stream",
     "text": [
      "/opt/anaconda3/lib/python3.8/site-packages/hmmlearn/stats.py:103: RuntimeWarning: divide by zero encountered in log\n",
      "  log_means = np.where(means > 1e-3, np.log(means), np.log(1e-3))\n",
      "/opt/anaconda3/lib/python3.8/site-packages/hmmlearn/stats.py:103: RuntimeWarning: invalid value encountered in log\n",
      "  log_means = np.where(means > 1e-3, np.log(means), np.log(1e-3))\n"
     ]
    }
   ],
   "source": [
    "org_err_rate = []\n",
    "org_dev = []\n",
    "\n",
    "for i in range(1):\n",
    "    origin = hmmlearn.hmm.PoissonHMM(n_components=20) \n",
    "    origin.fit(Spike)\n",
    "    _, _, _, posterior_states1, pos_COM1 = CalHMM.comp_poststates_pos(origin, Spike, Distance)\n",
    "    err_rate1, dev1, _ = CalHMM.comp_decoded_pos_acc(Distance, posterior_states1, pos_COM1)\n",
    "    org_err_rate.append(err_rate1)\n",
    "    org_dev.append(dev1)"
   ]
  },
  {
   "cell_type": "code",
   "execution_count": null,
   "metadata": {},
   "outputs": [],
   "source": [
    "len(org_err_rate)\n",
    "origin.n_components"
   ]
  },
  {
   "cell_type": "code",
   "execution_count": null,
   "metadata": {},
   "outputs": [],
   "source": [
    "save_org_err_rate = np.array(org_err_rate)\n",
    "save_org_dev = np.array(org_dev)\n",
    "save_org_err_rate.mean()"
   ]
  },
  {
   "cell_type": "code",
   "execution_count": null,
   "metadata": {},
   "outputs": [],
   "source": [
    "np.savez(f'{spc_folder}/org_err_rate_spk.npz', save_org_err_rate=save_org_err_rate, save_org_dev=save_org_dev)"
   ]
  },
  {
   "cell_type": "markdown",
   "metadata": {},
   "source": [
    "## 3.2. Time shuffle data"
   ]
  },
  {
   "cell_type": "code",
   "execution_count": null,
   "metadata": {},
   "outputs": [],
   "source": [
    "ts_err_rate = []\n",
    "ts_dev = []\n",
    "\n",
    "plt.figure(figsize=(15,4))\n",
    "plt.plot(Spike[200:500,9])\n",
    "\n",
    "for i in range(5):\n",
    "    ts_Spike = CalHMM.get_time_shuffle(Spike)\n",
    "    plt.plot(ts_Spike[200:500,9])\n",
    "    \n",
    "    ts = hmmlearn.hmm.PoissonHMM(n_components=20) \n",
    "    ts.fit(ts_Spike) \n",
    "    _, _, _, posterior_states2, pos_COM2 = CalHMM.comp_poststates_pos(ts, Spike, Distance)\n",
    "    err_rate2, dev2, _ = CalHMM.comp_decoded_pos_acc(Distance, posterior_states2, pos_COM2)\n",
    "    ts_err_rate.append(err_rate2)\n",
    "    ts_dev.append(dev2)"
   ]
  },
  {
   "cell_type": "code",
   "execution_count": null,
   "metadata": {},
   "outputs": [],
   "source": [
    "len(ts_err_rate)"
   ]
  },
  {
   "cell_type": "code",
   "execution_count": null,
   "metadata": {},
   "outputs": [],
   "source": [
    "save_ts_err_rate = np.array(ts_err_rate)\n",
    "save_ts_dev = np.array(ts_dev)\n",
    "save_ts_err_rate.mean()"
   ]
  },
  {
   "cell_type": "code",
   "execution_count": null,
   "metadata": {},
   "outputs": [],
   "source": [
    "np.savez(f'{spc_folder}/ts_err_rate_spk.npz', save_ts_err_rate=save_ts_err_rate, save_ts_dev=save_ts_dev)"
   ]
  },
  {
   "cell_type": "markdown",
   "metadata": {},
   "source": [
    "### Compare"
   ]
  },
  {
   "cell_type": "code",
   "execution_count": 30,
   "metadata": {},
   "outputs": [],
   "source": [
    "name='Spike'\n",
    "timebin=200\n",
    "train_by_lap='lap'\n",
    "CA = 'CA3'\n",
    "if CA=='CA3':\n",
    "    fname='KQ086_210110'\n",
    "else:\n",
    "    fname='KQ095_210205'\n",
    "    \n",
    "data=np.load(f'/Users/daiyiluo/Downloads/{fname}/compare_ori_ts/{name}_{timebin}_err_rate_20_{train_by_lap}.npz')\n",
    "save_org_err_rate=data['save_org_err_rate']\n",
    "save_ts_err_rate=data['save_ts_err_rate']\n",
    "\n",
    "plt.boxplot([data['save_org_err_rate'], data['save_ts_err_rate']])\n",
    "plt.xticks(np.arange(1,3), ['origin','time shuffle'])\n",
    "\n",
    "plt.ylabel('Average error rate')\n",
    "plt.title(f'Spike: {CA} trained by {train_by_lap}\\n{timebin}ms time bin')\n",
    "plt.show()"
   ]
  },
  {
   "cell_type": "code",
   "execution_count": null,
   "metadata": {},
   "outputs": [],
   "source": [
    "save_org_err_rate[-1], save_ts_err_rate[-1]"
   ]
  },
  {
   "cell_type": "markdown",
   "metadata": {},
   "source": [
    "## 3.3. Save and reload"
   ]
  },
  {
   "cell_type": "code",
   "execution_count": null,
   "metadata": {},
   "outputs": [],
   "source": [
    "save = True\n",
    "if save==True:\n",
    "    CalHMM.save_object(origin, f'{spc_folder}/origin.pkl')\n",
    "    CalHMM.save_object(ts, f'{spc_folder}/ts.pkl')"
   ]
  },
  {
   "cell_type": "code",
   "execution_count": null,
   "metadata": {},
   "outputs": [],
   "source": [
    "origin = CalHMM.load_object(f'{spc_folder}/origin.pkl')\n",
    "ts = CalHMM.load_object(f'{spc_folder}/ts.pkl')"
   ]
  },
  {
   "cell_type": "code",
   "execution_count": null,
   "metadata": {},
   "outputs": [],
   "source": [
    "# data = np.load('/Users/daiyiluo/Downloads/KQ095_210205/tb_200/timebin_200.npz')\n",
    "data.files"
   ]
  },
  {
   "cell_type": "markdown",
   "metadata": {},
   "source": [
    "## 3.4. Visualizations\n",
    "### 3.4.1. Regular"
   ]
  },
  {
   "cell_type": "code",
   "execution_count": null,
   "metadata": {},
   "outputs": [],
   "source": [
    "%matplotlib inline\n",
    "v = .2"
   ]
  },
  {
   "cell_type": "code",
   "execution_count": null,
   "metadata": {},
   "outputs": [],
   "source": [
    "x1, plst1, occ1, T1, posterior_states1, pos_COM1 = CalHMM.show_all_plots(origin, Spike, Distance, lap_end, t_st=400, t_duration=400,vmax=v)"
   ]
  },
  {
   "cell_type": "code",
   "execution_count": null,
   "metadata": {},
   "outputs": [],
   "source": [
    "x2, plst2, occ2, T2, posterior_states2, pos_COM2 = CalHMM.show_all_plots(ts, Spike, Distance, lap_end, t_st=200, t_duration=300, vmax=v)"
   ]
  },
  {
   "cell_type": "code",
   "execution_count": null,
   "metadata": {
    "scrolled": true
   },
   "outputs": [],
   "source": [
    "len(Distance)"
   ]
  },
  {
   "cell_type": "markdown",
   "metadata": {},
   "source": [
    "### 3.4.2. Decoded states of all frames"
   ]
  },
  {
   "cell_type": "code",
   "execution_count": null,
   "metadata": {},
   "outputs": [],
   "source": [
    "%matplotlib"
   ]
  },
  {
   "cell_type": "code",
   "execution_count": null,
   "metadata": {},
   "outputs": [],
   "source": [
    "# _, plst, _, posterior_states, _ = CalHMM.comp_poststates_pos(origin, Spike, Distance)\n",
    "CalHMM.plot_postprob(posterior_states, plst, lap_end, t_st=0, t_duration=len(Distance))"
   ]
  },
  {
   "cell_type": "code",
   "execution_count": null,
   "metadata": {},
   "outputs": [],
   "source": [
    "plt.xlim(1600,1820)"
   ]
  },
  {
   "cell_type": "markdown",
   "metadata": {},
   "source": [
    "### Check cell asembly coactivation"
   ]
  },
  {
   "cell_type": "code",
   "execution_count": null,
   "metadata": {},
   "outputs": [],
   "source": [
    "origin.means_.shape"
   ]
  },
  {
   "cell_type": "code",
   "execution_count": null,
   "metadata": {},
   "outputs": [],
   "source": [
    "st = np.argmax(posterior_states1,axis=1)"
   ]
  },
  {
   "cell_type": "code",
   "execution_count": null,
   "metadata": {},
   "outputs": [],
   "source": [
    "n=plst1[5]\n",
    "means=origin.means_[n,:]\n",
    "thr=means.mean()+3*means.std()\n",
    "nn=np.where(origin.means_[n,:]>thr)[0]\n",
    "plt.plot(means)\n",
    "plt.plot([0,110],[thr,thr])\n",
    "plt.plot(nn, means[nn],'*')\n",
    "print(nn)"
   ]
  },
  {
   "cell_type": "code",
   "execution_count": null,
   "metadata": {},
   "outputs": [],
   "source": [
    "st_occ = np.where(st==n)[0]\n",
    "st_occ.shape"
   ]
  },
  {
   "cell_type": "code",
   "execution_count": null,
   "metadata": {},
   "outputs": [],
   "source": [
    "plt.figure(figsize=(15,4))\n",
    "plt.plot(st_occ, np.zeros_like(st_occ), '*')\n",
    "for j,i in enumerate(nn):\n",
    "    t=Spike[:,i].copy()\n",
    "    t=t/np.max(t)\n",
    "    plt.plot(t+j, label=f'{i}')\n",
    "plt.legend()"
   ]
  },
  {
   "cell_type": "code",
   "execution_count": null,
   "metadata": {},
   "outputs": [],
   "source": []
  },
  {
   "cell_type": "markdown",
   "metadata": {},
   "source": [
    "### 3.4.3. Decoded states and behaviour"
   ]
  },
  {
   "cell_type": "code",
   "execution_count": null,
   "metadata": {},
   "outputs": [],
   "source": [
    "lk = np.load(f'{folder}/S.npz')['lk']\n",
    "lk.shape"
   ]
  },
  {
   "cell_type": "code",
   "execution_count": null,
   "metadata": {},
   "outputs": [],
   "source": [
    "%matplotlib inline"
   ]
  },
  {
   "cell_type": "code",
   "execution_count": null,
   "metadata": {},
   "outputs": [],
   "source": [
    "def plot_decoded_pos(Distance, Decoded_pos, lap_end, idx, lk, ax1=None, ax2=None, t_st=400, t_duration=200):\n",
    "    num = np.where((lap_end>t_st)&(lap_end<t_st+t_duration))[0]\n",
    "    if ax1==None:\n",
    "        _, ax1 = plt.subplots(figsize=(15,3))\n",
    "    ax1.plot(lk[idx[t_st]:idx[t_st+t_duration]]/4, '.', label='lick')\n",
    "    for i in num:\n",
    "        ax1.plot([idx[lap_end[i]]-idx[t_st],idx[lap_end[i]]-idx[t_st]],[0,2], 'r--')\n",
    "    ax1.set_xlim(0,idx[t_st+t_duration]-idx[t_st])\n",
    "    ax1.legend()\n",
    "\n",
    "    if ax2==None:\n",
    "        _, ax2 = plt.subplots(figsize=(15,3))\n",
    "    ax2.plot(idx[t_st:t_st+t_duration]-idx[t_st], Decoded_pos[t_st:t_st+t_duration],'.', label='decoded position')\n",
    "    ax2.plot(idx[t_st:t_st+t_duration]-idx[t_st], Distance[t_st:t_st+t_duration],'.', label='real position')\n",
    "    for i in num:\n",
    "        ax2.plot([idx[lap_end[i]]-idx[t_st],idx[lap_end[i]]-idx[t_st]],[0,-2], 'r--')\n",
    "    ax2.set_xlim(0,idx[t_st+t_duration]-idx[t_st])\n",
    "#     ax2.legend()"
   ]
  },
  {
   "cell_type": "code",
   "execution_count": null,
   "metadata": {},
   "outputs": [],
   "source": [
    "t_st=700\n",
    "t_duration=150\n",
    "err_rate1, dev1, Decoded_pos1 = CalHMM.comp_decoded_pos_acc(Distance, posterior_states1, pos_COM1)\n",
    "plot_decoded_pos(-Distance, -Decoded_pos1, lap_end, idx, lk, ax1=None, ax2=None, t_st=t_st, t_duration=t_duration)\n",
    "CalHMM.plot_postprob(posterior_states1, plst1, lap_end, ax=None, t_st=t_st, t_duration=t_duration)"
   ]
  },
  {
   "cell_type": "code",
   "execution_count": null,
   "metadata": {},
   "outputs": [],
   "source": [
    "plt.figure(figsize=(15,3))\n",
    "plt.plot(Decoded_pos1, label='decoded position')\n",
    "plt.plot(Distance, label='real position')\n",
    "for i in range(len(lap_end)):\n",
    "    plt.plot([lap_end[i],lap_end[i]],[0,2], 'r--')\n",
    "plt.xlim(300,600)\n",
    "plt.legend()"
   ]
  },
  {
   "cell_type": "code",
   "execution_count": null,
   "metadata": {},
   "outputs": [],
   "source": [
    "lap_end[-1]"
   ]
  },
  {
   "cell_type": "markdown",
   "metadata": {},
   "source": [
    "## Compare time-shuffle and origin HMM (20 iter)"
   ]
  },
  {
   "cell_type": "code",
   "execution_count": 6,
   "metadata": {},
   "outputs": [
    {
     "data": {
      "image/png": "[encoded data removed]",
      "text/plain": [
       "<Figure size 432x720 with 12 Axes>"
      ]
     },
     "metadata": {
      "needs_background": "light"
     },
     "output_type": "display_data"
    }
   ],
   "source": [
    "CA='CA3'\n",
    "if CA=='CA3':\n",
    "    fname='KQ086_210110'\n",
    "else:\n",
    "    fname='KQ095_210205'\n",
    "    \n",
    "timebins=[200,500,1000]\n",
    "train_by_laps=['lap','whole']\n",
    "names=['Spike','Trace']\n",
    "    \n",
    "fig, axs = plt.subplots(4, 3,sharey=False,figsize=(6,10))\n",
    "for i, timebin in enumerate(timebins):\n",
    "    k=0\n",
    "    for name in names:\n",
    "        for train_by_lap in train_by_laps:\n",
    "            data=np.load(f'/Users/daiyiluo/Downloads/{fname}/compare_ori_ts/{name}_{timebin}_err_rate_20_{train_by_lap}.npz')\n",
    "            axs[k,i].boxplot([data['save_org_err_rate'], data['save_ts_err_rate']])\n",
    "            \n",
    "            axs[k,i].set_xticks(np.arange(1,3)) \n",
    "            axs[k,i].set_xticklabels(['origin','time shuffle'])\n",
    "\n",
    "            axs[k,i].set_ylabel('Average error rate')\n",
    "            axs[k,i].set_title(f'{CA}: {name}, by {train_by_lap}\\n{timebin}ms time bin')\n",
    "            \n",
    "            k+=1\n",
    "\n",
    "# plt.setp(axs, ylim=(0.12,0.29))\n",
    "fig.tight_layout()\n",
    "plt.show()"
   ]
  },
  {
   "cell_type": "code",
   "execution_count": 73,
   "metadata": {},
   "outputs": [
    {
     "data": {
      "image/png": "[encoded data removed]",
      "text/plain": [
       "<Figure size 432x720 with 12 Axes>"
      ]
     },
     "metadata": {
      "needs_background": "light"
     },
     "output_type": "display_data"
    }
   ],
   "source": [
    "CA='CA1'\n",
    "if CA=='CA3':\n",
    "    fname='KQ086_210110'\n",
    "else:\n",
    "    fname='KQ095_210205'\n",
    "    \n",
    "timebins=[200,500,1000]\n",
    "train_by_laps=['lap','whole']\n",
    "names=['Spike','Trace']\n",
    "    \n",
    "fig, axs = plt.subplots(4, 3,sharey=False,figsize=(6,10))\n",
    "for i, timebin in enumerate(timebins):\n",
    "    k=0\n",
    "    for name in names:\n",
    "        for train_by_lap in train_by_laps:\n",
    "            data=np.load(f'/Users/daiyiluo/Downloads/{fname}/compare_ori_ts/{name}_{timebin}_err_rate_20_{train_by_lap}.npz')\n",
    "            axs[k,i].boxplot([data['save_org_err_rate'], data['save_ts_err_rate']])\n",
    "            \n",
    "            axs[k,i].set_xticks(np.arange(1,3)) \n",
    "            axs[k,i].set_xticklabels(['origin','time shuffle'])\n",
    "\n",
    "            axs[k,i].set_ylabel('Average error rate')\n",
    "            axs[k,i].set_title(f'{CA}: {name}, by {train_by_lap}\\n{timebin}ms time bin')\n",
    "            \n",
    "            k+=1\n",
    "            \n",
    "fig.tight_layout()\n",
    "plt.show()"
   ]
  },
  {
   "cell_type": "code",
   "execution_count": 71,
   "metadata": {},
   "outputs": [
    {
     "data": {
      "text/plain": [
       "array([0.25386643, 0.25934892, 0.25223081, 0.24555333, 0.24586181,\n",
       "       0.25424908, 0.2516824 , 0.24986189, 0.24628429, 0.24871069,\n",
       "       0.2538655 , 0.24662874, 0.25015939, 0.24975627, 0.24166507,\n",
       "       0.25626978, 0.24176173, 0.24150417, 0.24710556, 0.24907768])"
      ]
     },
     "execution_count": 71,
     "metadata": {},
     "output_type": "execute_result"
    }
   ],
   "source": [
    "data=np.load(f'/Users/daiyiluo/Downloads/{fname}/compare_ori_ts/{name}_{timebin}_err_rate_20_{train_by_lap}.npz')\n",
    "data['save_org_err_rate']"
   ]
  },
  {
   "cell_type": "code",
   "execution_count": 102,
   "metadata": {},
   "outputs": [
    {
     "name": "stdout",
     "output_type": "stream",
     "text": [
      "/home/della/Downloads/Fish_data/KQ086_210110/tb_200/timebin_200.npz\n",
      "/home/della/Downloads/Fish_data/KQ086_210110/compare_ori_ts/Spike_200_err_rate_20_lap.npz\n",
      "/home/della/Downloads/Fish_data/KQ086_210110/compare_ori_ts/Spike_200_err_rate_20_whole.npz\n",
      "/home/della/Downloads/Fish_data/KQ086_210110/compare_ori_ts/Trace_200_err_rate_20_lap.npz\n",
      "/home/della/Downloads/Fish_data/KQ086_210110/compare_ori_ts/Trace_200_err_rate_20_whole.npz\n",
      "/home/della/Downloads/Fish_data/KQ086_210110/tb_500/timebin_500.npz\n",
      "/home/della/Downloads/Fish_data/KQ086_210110/compare_ori_ts/Spike_500_err_rate_20_lap.npz\n",
      "/home/della/Downloads/Fish_data/KQ086_210110/compare_ori_ts/Spike_500_err_rate_20_whole.npz\n",
      "/home/della/Downloads/Fish_data/KQ086_210110/compare_ori_ts/Trace_500_err_rate_20_lap.npz\n",
      "/home/della/Downloads/Fish_data/KQ086_210110/compare_ori_ts/Trace_500_err_rate_20_whole.npz\n",
      "/home/della/Downloads/Fish_data/KQ086_210110/tb_1000/timebin_1000.npz\n",
      "/home/della/Downloads/Fish_data/KQ086_210110/compare_ori_ts/Spike_1000_err_rate_20_lap.npz\n",
      "/home/della/Downloads/Fish_data/KQ086_210110/compare_ori_ts/Spike_1000_err_rate_20_whole.npz\n",
      "/home/della/Downloads/Fish_data/KQ086_210110/compare_ori_ts/Trace_1000_err_rate_20_lap.npz\n",
      "/home/della/Downloads/Fish_data/KQ086_210110/compare_ori_ts/Trace_1000_err_rate_20_whole.npz\n",
      "/home/della/Downloads/Fish_data/KQ095_210205/tb_200/timebin_200.npz\n",
      "/home/della/Downloads/Fish_data/KQ095_210205/compare_ori_ts/Spike_200_err_rate_20_lap.npz\n",
      "/home/della/Downloads/Fish_data/KQ095_210205/compare_ori_ts/Spike_200_err_rate_20_whole.npz\n",
      "/home/della/Downloads/Fish_data/KQ095_210205/compare_ori_ts/Trace_200_err_rate_20_lap.npz\n",
      "/home/della/Downloads/Fish_data/KQ095_210205/compare_ori_ts/Trace_200_err_rate_20_whole.npz\n",
      "/home/della/Downloads/Fish_data/KQ095_210205/tb_500/timebin_500.npz\n",
      "/home/della/Downloads/Fish_data/KQ095_210205/compare_ori_ts/Spike_500_err_rate_20_lap.npz\n",
      "/home/della/Downloads/Fish_data/KQ095_210205/compare_ori_ts/Spike_500_err_rate_20_whole.npz\n",
      "/home/della/Downloads/Fish_data/KQ095_210205/compare_ori_ts/Trace_500_err_rate_20_lap.npz\n",
      "/home/della/Downloads/Fish_data/KQ095_210205/compare_ori_ts/Trace_500_err_rate_20_whole.npz\n",
      "/home/della/Downloads/Fish_data/KQ095_210205/tb_1000/timebin_1000.npz\n",
      "/home/della/Downloads/Fish_data/KQ095_210205/compare_ori_ts/Spike_1000_err_rate_20_lap.npz\n",
      "/home/della/Downloads/Fish_data/KQ095_210205/compare_ori_ts/Spike_1000_err_rate_20_whole.npz\n",
      "/home/della/Downloads/Fish_data/KQ095_210205/compare_ori_ts/Trace_1000_err_rate_20_lap.npz\n",
      "/home/della/Downloads/Fish_data/KQ095_210205/compare_ori_ts/Trace_1000_err_rate_20_whole.npz\n"
     ]
    }
   ],
   "source": [
    "fnames=['KQ086_210110','KQ095_210205']\n",
    "    \n",
    "timebins=[200,500,1000]\n",
    "train_by_laps=['lap','whole']\n",
    "names=['Spike','Trace']\n",
    "n_iter=20\n",
    "    \n",
    "for fname in fnames:\n",
    "    for timebin in timebins:\n",
    "        folder=f'/home/della/Downloads/Fish_data/{fname}/tb_{timebin}'\n",
    "        print(f'{folder}/timebin_{timebin}.npz')\n",
    "        for name in names:\n",
    "            for train_by_lap in train_by_laps:\n",
    "                \n",
    "                folder_output=f'/home/della/Downloads/Fish_data/{fname}/compare_ori_ts'\n",
    "                print(f'{folder_output}/{name}_{timebin}_err_rate_20_{train_by_lap}.npz')"
   ]
  },
  {
   "cell_type": "code",
   "execution_count": 6,
   "metadata": {},
   "outputs": [
    {
     "data": {
      "text/plain": [
       "array([0.26155228, 0.2624346 , 0.26613891, 0.26205128, 0.26004276,\n",
       "       0.25814411, 0.25993179, 0.25968229, 0.26338927, 0.25584562,\n",
       "       0.26072207, 0.26147018, 0.25889457, 0.25958768, 0.25925801,\n",
       "       0.25728212, 0.25909294, 0.26133966, 0.26523742, 0.25985431])"
      ]
     },
     "execution_count": 6,
     "metadata": {},
     "output_type": "execute_result"
    }
   ],
   "source": [
    "data['save_org_err_rate'][0]"
   ]
  },
  {
   "cell_type": "code",
   "execution_count": 4,
   "metadata": {},
   "outputs": [
    {
     "data": {
      "image/png": "[encoded data removed]",
      "text/plain": [
       "<Figure size 504x720 with 12 Axes>"
      ]
     },
     "metadata": {
      "needs_background": "light"
     },
     "output_type": "display_data"
    }
   ],
   "source": [
    "# time-shuffle with each lap\n",
    "CA='CA3'\n",
    "if CA=='CA3':\n",
    "    fname='KQ086_210110'\n",
    "else:\n",
    "    fname='KQ095_210205'\n",
    "    \n",
    "timebins=[200,500,1000]\n",
    "train_by_laps=['lap','whole']\n",
    "names=['Spike','Trace']\n",
    "    \n",
    "fig, axs = plt.subplots(4, 3,sharey=False,figsize=(7,10))\n",
    "for i, timebin in enumerate(timebins):\n",
    "    k=0\n",
    "    for name in names:\n",
    "        for train_by_lap in train_by_laps:\n",
    "            data=np.load(f'/Users/daiyiluo/Downloads/tsresult/{CA}_compare_ori_ts/{name}_{timebin}_err_rate_20_{train_by_lap}_1.npz')\n",
    "            axs[k,i].boxplot([data['save_org_err_rate'][0], data['save_ts_err_rate'][0]])\n",
    "            \n",
    "            axs[k,i].set_xticks(np.arange(1,3)) \n",
    "            axs[k,i].set_xticklabels(['origin','time shuffle'])\n",
    "\n",
    "            axs[k,i].set_ylabel('Average error rate')\n",
    "            axs[k,i].set_title(f'{CA}: {name}, by {train_by_lap}\\n{timebin}ms time bin')\n",
    "            \n",
    "            k+=1\n",
    "\n",
    "# plt.setp(axs, ylim=(0.12,0.29))\n",
    "fig.tight_layout()\n",
    "plt.show()"
   ]
  },
  {
   "cell_type": "code",
   "execution_count": null,
   "metadata": {},
   "outputs": [],
   "source": []
  }
 ],
 "metadata": {
  "kernelspec": {
   "display_name": "Python 3",
   "language": "python",
   "name": "python3"
  },
  "language_info": {
   "codemirror_mode": {
    "name": "ipython",
    "version": 3
   },
   "file_extension": ".py",
   "mimetype": "text/x-python",
   "name": "python",
   "nbconvert_exporter": "python",
   "pygments_lexer": "ipython3",
   "version": "3.8.3"
  }
 },
 "nbformat": 4,
 "nbformat_minor": 4
}
