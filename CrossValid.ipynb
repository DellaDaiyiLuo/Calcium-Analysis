{
 "cells": [
  {
   "cell_type": "code",
   "execution_count": 1,
   "metadata": {},
   "outputs": [],
   "source": [
    "import sys\n",
    "sys.path.append('/Users/daiyiluo/Documents/ELEC599')\n",
    "import numpy as np\n",
    "import matplotlib.pyplot as plt\n",
    "import CalHMM\n",
    "import warnings\n",
    "warnings.filterwarnings('ignore')\n",
    "import HMMCrossValid as hcv"
   ]
  },
  {
   "cell_type": "code",
   "execution_count": 11,
   "metadata": {},
   "outputs": [],
   "source": [
    "import hmmlearn.hmm"
   ]
  },
  {
   "cell_type": "code",
   "execution_count": 6,
   "metadata": {},
   "outputs": [],
   "source": [
    "import imp"
   ]
  },
  {
   "cell_type": "code",
   "execution_count": 24,
   "metadata": {},
   "outputs": [
    {
     "data": {
      "text/plain": [
       "<module 'HMMCrossValid' from '/Users/daiyiluo/Documents/ELEC599/HMMCrossValid.py'>"
      ]
     },
     "execution_count": 24,
     "metadata": {},
     "output_type": "execute_result"
    }
   ],
   "source": [
    "imp.reload(hcv)"
   ]
  },
  {
   "cell_type": "code",
   "execution_count": 67,
   "metadata": {},
   "outputs": [],
   "source": [
    "folder = '/Users/daiyiluo/Downloads/KQ086_210112/spks10' #KQ095_210205' #\n",
    "timebin = 500\n",
    "name = 'Spike'\n",
    "n_chunks = 6\n",
    "k = 2\n",
    "win = 2"
   ]
  },
  {
   "cell_type": "code",
   "execution_count": 68,
   "metadata": {},
   "outputs": [
    {
     "data": {
      "text/plain": [
       "('Spike', '/Users/daiyiluo/Downloads/KQ086_210112/spks10', 'HMM')"
      ]
     },
     "execution_count": 68,
     "metadata": {},
     "output_type": "execute_result"
    }
   ],
   "source": [
    "self = hcv.datainfo(folder, timebin, name, n_chunks, k, win,normalize=False)\n",
    "self.mode = 'HMM'\n",
    "self.name, self.folder, self.mode"
   ]
  },
  {
   "cell_type": "code",
   "execution_count": 46,
   "metadata": {},
   "outputs": [
    {
     "data": {
      "text/plain": [
       "[<matplotlib.lines.Line2D at 0x7ffb06a1b340>]"
      ]
     },
     "execution_count": 46,
     "metadata": {},
     "output_type": "execute_result"
    }
   ],
   "source": [
    "plt.plot(self.Trace0[:,2])"
   ]
  },
  {
   "cell_type": "code",
   "execution_count": 8,
   "metadata": {},
   "outputs": [
    {
     "data": {
      "text/plain": [
       "([[0, 32], [16, 48], [32, 64], [48, 80], [64, 96]], 32)"
      ]
     },
     "execution_count": 8,
     "metadata": {},
     "output_type": "execute_result"
    }
   ],
   "source": [
    "self.lap_range,self.n_laps_perchunk"
   ]
  },
  {
   "cell_type": "code",
   "execution_count": null,
   "metadata": {},
   "outputs": [],
   "source": [
    "%matplotlib inline"
   ]
  },
  {
   "cell_type": "code",
   "execution_count": null,
   "metadata": {},
   "outputs": [],
   "source": [
    "for i in range(self.Trace_train.shape[1]):\n",
    "    plt.plot(self.Trace_train[:,i]/np.max(self.Trace_train[:,i])+i)\n",
    "    \n",
    "plt.xlabel('time')\n",
    "plt.ylabel('neuron')\n",
    "plt.title('Calcium Traces')"
   ]
  },
  {
   "cell_type": "code",
   "execution_count": null,
   "metadata": {},
   "outputs": [],
   "source": [
    "self.Trace0.shape"
   ]
  },
  {
   "cell_type": "markdown",
   "metadata": {},
   "source": [
    "# HMM cross validation"
   ]
  },
  {
   "cell_type": "code",
   "execution_count": 49,
   "metadata": {},
   "outputs": [
    {
     "name": "stdout",
     "output_type": "stream",
     "text": [
      "Train chunk: 0\n",
      "Laps in train set: [23  9 19 17  6 24  0 18  4 25  8 21  5 11 14 29  3]\n",
      "Train set: chunk 0 set [1]\n",
      "\n",
      "train trace shape: (326, 184)\n"
     ]
    },
    {
     "name": "stderr",
     "output_type": "stream",
     "text": [
      "         1      -80586.2998             +nan\n",
      "         2      -75040.2036       +5546.0962\n",
      "         3      -73768.7069       +1271.4967\n",
      "         4      -73199.7794        +568.9276\n",
      "         5      -73067.9984        +131.7809\n",
      "         6      -72946.7150        +121.2834\n",
      "         7      -72765.8333        +180.8817\n",
      "         8      -72738.2504         +27.5829\n",
      "         9      -72760.2806         -22.0302\n",
      "The log probability of the last iteration decreased; reverting to previous state\n"
     ]
    },
    {
     "name": "stdout",
     "output_type": "stream",
     "text": [
      "[]\n",
      "Decoded state counts: [ 6  9 14  3 41  1  1 40  4 17  1  1 41  2 51 43 24 20  1  6]\n",
      "logprob_n: -223.19104472656457, length: 326\n",
      "Test set: chunk 0 set 0\n",
      "Laps in test set: [16 13 26 28 12 30  7  2 31 32 22 20 15 27 33 10  1]\n",
      "test trace shape: (293, 184)\n",
      "Test set: chunk 1 set 0\n",
      "Laps in test set: [48 44 35 50 26 40 46 33 20 39 41 21 47 17 31 37 38]\n",
      "test trace shape: (257, 184)\n",
      "Test set: chunk 1 set 1\n",
      "Laps in test set: [25 30 22 36 42 45 19 28 32 18 29 24 34 49 43 27 23]\n",
      "test trace shape: (274, 184)\n",
      "Test set: chunk 2 set 0\n",
      "Laps in test set: [35 50 49 55 58 47 52 65 44 64 38 61 54 62 46 45 66]\n",
      "test trace shape: (280, 184)\n",
      "Test set: chunk 2 set 1\n",
      "Laps in test set: [59 51 36 60 39 34 48 43 37 53 41 63 57 42 40 56 67]\n",
      "test trace shape: (266, 184)\n",
      "Test set: chunk 3 set 0\n",
      "Laps in test set: [72 57 71 80 67 82 77 60 56 78 75 51 65 81 61 68 69]\n",
      "test trace shape: (325, 184)\n",
      "Test set: chunk 3 set 1\n",
      "Laps in test set: [64 55 74 70 53 83 58 54 73 76 52 63 84 66 62 79 59]\n",
      "test trace shape: (281, 184)\n",
      "Test set: chunk 4 set 0\n",
      "Laps in test set: [100  86  99  75  96  82  97  72  74  79  76  83  69  98  94  70  89]\n",
      "test trace shape: (311, 184)\n",
      "Test set: chunk 4 set 1\n",
      "Laps in test set: [ 78  95  87  92  84  88  73  77  93  91  90 101  68  85  81  71  80]\n",
      "test trace shape: (339, 184)\n",
      "Laps in train set: [16 13 26 28 12 30  7  2 31 32 22 20 15 27 33 10  1]\n",
      "Train set: chunk 0 set [0]\n",
      "\n",
      "train trace shape: (293, 174)\n"
     ]
    },
    {
     "name": "stderr",
     "output_type": "stream",
     "text": [
      "         1      -61568.8131             +nan\n",
      "         2      -57714.0291       +3854.7840\n",
      "         3      -57191.5344        +522.4947\n",
      "         4      -56696.0066        +495.5277\n",
      "         5      -56698.0831          -2.0765\n",
      "The log probability of the last iteration decreased; reverting to previous state\n"
     ]
    },
    {
     "name": "stdout",
     "output_type": "stream",
     "text": [
      "[]\n",
      "Decoded state counts: [ 3 27  1  5 39  1 11  3  1  3  1 16 30  2  6 25 17 47  4 51]\n",
      "logprob_n: -193.5088160183373, length: 293\n",
      "Test set: chunk 0 set 1\n",
      "Laps in test set: [23  9 19 17  6 24  0 18  4 25  8 21  5 11 14 29  3]\n",
      "test trace shape: (326, 174)\n",
      "Test set: chunk 1 set 0\n",
      "Laps in test set: [48 44 35 50 26 40 46 33 20 39 41 21 47 17 31 37 38]\n",
      "test trace shape: (257, 174)\n",
      "Test set: chunk 1 set 1\n",
      "Laps in test set: [25 30 22 36 42 45 19 28 32 18 29 24 34 49 43 27 23]\n",
      "test trace shape: (274, 174)\n",
      "Test set: chunk 2 set 0\n",
      "Laps in test set: [35 50 49 55 58 47 52 65 44 64 38 61 54 62 46 45 66]\n",
      "test trace shape: (280, 174)\n",
      "Test set: chunk 2 set 1\n",
      "Laps in test set: [59 51 36 60 39 34 48 43 37 53 41 63 57 42 40 56 67]\n",
      "test trace shape: (266, 174)\n",
      "Test set: chunk 3 set 0\n",
      "Laps in test set: [72 57 71 80 67 82 77 60 56 78 75 51 65 81 61 68 69]\n",
      "test trace shape: (325, 174)\n",
      "Test set: chunk 3 set 1\n",
      "Laps in test set: [64 55 74 70 53 83 58 54 73 76 52 63 84 66 62 79 59]\n",
      "test trace shape: (281, 174)\n",
      "Test set: chunk 4 set 0\n",
      "Laps in test set: [100  86  99  75  96  82  97  72  74  79  76  83  69  98  94  70  89]\n",
      "test trace shape: (311, 174)\n",
      "Test set: chunk 4 set 1\n",
      "Laps in test set: [ 78  95  87  92  84  88  73  77  93  91  90 101  68  85  81  71  80]\n",
      "test trace shape: (339, 174)\n",
      "Train chunk: 1\n",
      "Laps in train set: [25 30 22 36 42 45 19 28 32 18 29 24 34 49 43 27 23]\n",
      "Train set: chunk 1 set [1]\n",
      "\n",
      "train trace shape: (274, 156)\n"
     ]
    },
    {
     "name": "stderr",
     "output_type": "stream",
     "text": [
      "         1      -50573.4321             +nan\n",
      "         2      -47341.2768       +3232.1553\n",
      "         3      -46869.5153        +471.7615\n",
      "         4      -46845.1637         +24.3515\n",
      "         5      -46903.4885         -58.3248\n",
      "The log probability of the last iteration decreased; reverting to previous state\n"
     ]
    },
    {
     "name": "stdout",
     "output_type": "stream",
     "text": [
      "[]\n",
      "Decoded state counts: [32  3 10 14  2  1 10 14 36  2 24 39 23 10  1 16  2  2  1 32]\n",
      "logprob_n: -171.18061511250215, length: 274\n",
      "Test set: chunk 1 set 0\n",
      "Laps in test set: [48 44 35 50 26 40 46 33 20 39 41 21 47 17 31 37 38]\n",
      "test trace shape: (257, 156)\n",
      "Test set: chunk 0 set 0\n",
      "Laps in test set: [16 13 26 28 12 30  7  2 31 32 22 20 15 27 33 10  1]\n",
      "test trace shape: (293, 156)\n",
      "Test set: chunk 0 set 1\n",
      "Laps in test set: [23  9 19 17  6 24  0 18  4 25  8 21  5 11 14 29  3]\n",
      "test trace shape: (326, 156)\n",
      "Test set: chunk 2 set 0\n",
      "Laps in test set: [35 50 49 55 58 47 52 65 44 64 38 61 54 62 46 45 66]\n",
      "test trace shape: (280, 156)\n",
      "Test set: chunk 2 set 1\n",
      "Laps in test set: [59 51 36 60 39 34 48 43 37 53 41 63 57 42 40 56 67]\n",
      "test trace shape: (266, 156)\n",
      "Test set: chunk 3 set 0\n",
      "Laps in test set: [72 57 71 80 67 82 77 60 56 78 75 51 65 81 61 68 69]\n",
      "test trace shape: (325, 156)\n",
      "Test set: chunk 3 set 1\n",
      "Laps in test set: [64 55 74 70 53 83 58 54 73 76 52 63 84 66 62 79 59]\n",
      "test trace shape: (281, 156)\n",
      "Test set: chunk 4 set 0\n",
      "Laps in test set: [100  86  99  75  96  82  97  72  74  79  76  83  69  98  94  70  89]\n",
      "test trace shape: (311, 156)\n",
      "Test set: chunk 4 set 1\n",
      "Laps in test set: [ 78  95  87  92  84  88  73  77  93  91  90 101  68  85  81  71  80]\n",
      "test trace shape: (339, 156)\n",
      "Laps in train set: [48 44 35 50 26 40 46 33 20 39 41 21 47 17 31 37 38]\n",
      "Train set: chunk 1 set [0]\n",
      "\n",
      "train trace shape: (257, 151)\n"
     ]
    },
    {
     "name": "stderr",
     "output_type": "stream",
     "text": [
      "         1      -49088.1694             +nan\n",
      "         2      -45415.4106       +3672.7588\n",
      "         3      -44665.9152        +749.4954\n",
      "         4      -44444.4552        +221.4600\n",
      "         5      -44248.8726        +195.5826\n",
      "         6      -44271.0427         -22.1702\n",
      "The log probability of the last iteration decreased; reverting to previous state\n"
     ]
    },
    {
     "name": "stdout",
     "output_type": "stream",
     "text": [
      "[]\n",
      "Decoded state counts: [10 30 42  6 10 35  1  8 14  2 27  1  1 50  1 12  1  1  1  4]\n",
      "logprob_n: -172.2608666445231, length: 257\n",
      "Test set: chunk 1 set 1\n",
      "Laps in test set: [25 30 22 36 42 45 19 28 32 18 29 24 34 49 43 27 23]\n",
      "test trace shape: (274, 151)\n",
      "Test set: chunk 0 set 0\n",
      "Laps in test set: [16 13 26 28 12 30  7  2 31 32 22 20 15 27 33 10  1]\n",
      "test trace shape: (293, 151)\n",
      "Test set: chunk 0 set 1\n",
      "Laps in test set: [23  9 19 17  6 24  0 18  4 25  8 21  5 11 14 29  3]\n",
      "test trace shape: (326, 151)\n",
      "Test set: chunk 2 set 0\n",
      "Laps in test set: [35 50 49 55 58 47 52 65 44 64 38 61 54 62 46 45 66]\n",
      "test trace shape: (280, 151)\n",
      "Test set: chunk 2 set 1\n",
      "Laps in test set: [59 51 36 60 39 34 48 43 37 53 41 63 57 42 40 56 67]\n",
      "test trace shape: (266, 151)\n",
      "Test set: chunk 3 set 0\n",
      "Laps in test set: [72 57 71 80 67 82 77 60 56 78 75 51 65 81 61 68 69]\n",
      "test trace shape: (325, 151)\n",
      "Test set: chunk 3 set 1\n",
      "Laps in test set: [64 55 74 70 53 83 58 54 73 76 52 63 84 66 62 79 59]\n",
      "test trace shape: (281, 151)\n",
      "Test set: chunk 4 set 0\n",
      "Laps in test set: [100  86  99  75  96  82  97  72  74  79  76  83  69  98  94  70  89]\n",
      "test trace shape: (311, 151)\n",
      "Test set: chunk 4 set 1\n",
      "Laps in test set: [ 78  95  87  92  84  88  73  77  93  91  90 101  68  85  81  71  80]\n",
      "test trace shape: (339, 151)\n",
      "Train chunk: 2\n",
      "Laps in train set: [59 51 36 60 39 34 48 43 37 53 41 63 57 42 40 56 67]\n",
      "Train set: chunk 2 set [1]\n",
      "\n",
      "train trace shape: (266, 135)\n"
     ]
    },
    {
     "name": "stderr",
     "output_type": "stream",
     "text": [
      "         1      -45905.9631             +nan\n",
      "         2      -42719.9959       +3185.9671\n",
      "         3      -42102.2274        +617.7685\n",
      "         4      -41786.4035        +315.8239\n",
      "         5      -41609.1721        +177.2315\n",
      "         6      -41542.2989         +66.8732\n",
      "         7      -41525.5826         +16.7162\n",
      "         8      -41416.3100        +109.2726\n",
      "         9      -41451.1848         -34.8748\n",
      "The log probability of the last iteration decreased; reverting to previous state\n"
     ]
    },
    {
     "name": "stdout",
     "output_type": "stream",
     "text": [
      "[]\n",
      "Decoded state counts: [29 46  2 35  1  1 11  6 40  9  3  2  1 38  1  3  9  1 24  4]\n",
      "logprob_n: -155.83152183563894, length: 266\n",
      "Test set: chunk 2 set 0\n",
      "Laps in test set: [35 50 49 55 58 47 52 65 44 64 38 61 54 62 46 45 66]\n",
      "test trace shape: (280, 135)\n",
      "Test set: chunk 0 set 0\n",
      "Laps in test set: [16 13 26 28 12 30  7  2 31 32 22 20 15 27 33 10  1]\n",
      "test trace shape: (293, 135)\n",
      "Test set: chunk 0 set 1\n",
      "Laps in test set: [23  9 19 17  6 24  0 18  4 25  8 21  5 11 14 29  3]\n",
      "test trace shape: (326, 135)\n",
      "Test set: chunk 1 set 0\n",
      "Laps in test set: [48 44 35 50 26 40 46 33 20 39 41 21 47 17 31 37 38]\n",
      "test trace shape: (257, 135)\n",
      "Test set: chunk 1 set 1\n",
      "Laps in test set: [25 30 22 36 42 45 19 28 32 18 29 24 34 49 43 27 23]\n",
      "test trace shape: (274, 135)\n",
      "Test set: chunk 3 set 0\n",
      "Laps in test set: [72 57 71 80 67 82 77 60 56 78 75 51 65 81 61 68 69]\n",
      "test trace shape: (325, 135)\n",
      "Test set: chunk 3 set 1\n",
      "Laps in test set: [64 55 74 70 53 83 58 54 73 76 52 63 84 66 62 79 59]\n",
      "test trace shape: (281, 135)\n",
      "Test set: chunk 4 set 0\n",
      "Laps in test set: [100  86  99  75  96  82  97  72  74  79  76  83  69  98  94  70  89]\n",
      "test trace shape: (311, 135)\n",
      "Test set: chunk 4 set 1\n",
      "Laps in test set: [ 78  95  87  92  84  88  73  77  93  91  90 101  68  85  81  71  80]\n",
      "test trace shape: (339, 135)\n",
      "Laps in train set: [35 50 49 55 58 47 52 65 44 64 38 61 54 62 46 45 66]\n",
      "Train set: chunk 2 set [0]\n",
      "\n",
      "train trace shape: (280, 165)\n"
     ]
    },
    {
     "name": "stderr",
     "output_type": "stream",
     "text": [
      "         1      -54539.4082             +nan\n",
      "         2      -49344.5114       +5194.8968\n",
      "         3      -48024.2850       +1320.2264\n",
      "         4      -47770.7494        +253.5356\n",
      "         5      -47708.2168         +62.5325\n",
      "         6      -47749.0974         -40.8805\n",
      "The log probability of the last iteration decreased; reverting to previous state\n"
     ]
    },
    {
     "name": "stdout",
     "output_type": "stream",
     "text": [
      "[]\n",
      "Decoded state counts: [43 36  1 19 46  7  1  7 10 20  3 23  2  8  1 40  5  6  1  1]\n",
      "logprob_n: -170.53249054241795, length: 280\n",
      "Test set: chunk 2 set 1\n",
      "Laps in test set: [59 51 36 60 39 34 48 43 37 53 41 63 57 42 40 56 67]\n",
      "test trace shape: (266, 165)\n",
      "Test set: chunk 0 set 0\n",
      "Laps in test set: [16 13 26 28 12 30  7  2 31 32 22 20 15 27 33 10  1]\n",
      "test trace shape: (293, 165)\n",
      "Test set: chunk 0 set 1\n",
      "Laps in test set: [23  9 19 17  6 24  0 18  4 25  8 21  5 11 14 29  3]\n",
      "test trace shape: (326, 165)\n",
      "Test set: chunk 1 set 0\n",
      "Laps in test set: [48 44 35 50 26 40 46 33 20 39 41 21 47 17 31 37 38]\n",
      "test trace shape: (257, 165)\n",
      "Test set: chunk 1 set 1\n",
      "Laps in test set: [25 30 22 36 42 45 19 28 32 18 29 24 34 49 43 27 23]\n",
      "test trace shape: (274, 165)\n",
      "Test set: chunk 3 set 0\n",
      "Laps in test set: [72 57 71 80 67 82 77 60 56 78 75 51 65 81 61 68 69]\n",
      "test trace shape: (325, 165)\n",
      "Test set: chunk 3 set 1\n",
      "Laps in test set: [64 55 74 70 53 83 58 54 73 76 52 63 84 66 62 79 59]\n",
      "test trace shape: (281, 165)\n",
      "Test set: chunk 4 set 0\n",
      "Laps in test set: [100  86  99  75  96  82  97  72  74  79  76  83  69  98  94  70  89]\n",
      "test trace shape: (311, 165)\n",
      "Test set: chunk 4 set 1\n",
      "Laps in test set: [ 78  95  87  92  84  88  73  77  93  91  90 101  68  85  81  71  80]\n",
      "test trace shape: (339, 165)\n",
      "Train chunk: 3\n",
      "Laps in train set: [64 55 74 70 53 83 58 54 73 76 52 63 84 66 62 79 59]\n",
      "Train set: chunk 3 set [1]\n",
      "\n",
      "train trace shape: (281, 172)\n"
     ]
    },
    {
     "name": "stderr",
     "output_type": "stream",
     "text": [
      "         1      -65334.7316             +nan\n",
      "         2      -57743.1232       +7591.6084\n",
      "         3      -54797.1700       +2945.9532\n",
      "         4      -54232.2943        +564.8757\n",
      "         5      -53922.8463        +309.4480\n",
      "         6      -53567.3334        +355.5129\n",
      "         7      -53575.0951          -7.7616\n",
      "The log probability of the last iteration decreased; reverting to previous state\n"
     ]
    },
    {
     "name": "stdout",
     "output_type": "stream",
     "text": [
      "[]\n",
      "Decoded state counts: [18 55 16  8  3  2  4 12  3  3  2  2  1  9  1 37  1 67  1 36]\n",
      "logprob_n: -190.65870131841018, length: 281\n",
      "Test set: chunk 3 set 0\n",
      "Laps in test set: [72 57 71 80 67 82 77 60 56 78 75 51 65 81 61 68 69]\n",
      "test trace shape: (325, 172)\n",
      "Test set: chunk 0 set 0\n",
      "Laps in test set: [16 13 26 28 12 30  7  2 31 32 22 20 15 27 33 10  1]\n",
      "test trace shape: (293, 172)\n",
      "Test set: chunk 0 set 1\n",
      "Laps in test set: [23  9 19 17  6 24  0 18  4 25  8 21  5 11 14 29  3]\n",
      "test trace shape: (326, 172)\n",
      "Test set: chunk 1 set 0\n",
      "Laps in test set: [48 44 35 50 26 40 46 33 20 39 41 21 47 17 31 37 38]\n",
      "test trace shape: (257, 172)\n",
      "Test set: chunk 1 set 1\n",
      "Laps in test set: [25 30 22 36 42 45 19 28 32 18 29 24 34 49 43 27 23]\n",
      "test trace shape: (274, 172)\n",
      "Test set: chunk 2 set 0\n",
      "Laps in test set: [35 50 49 55 58 47 52 65 44 64 38 61 54 62 46 45 66]\n",
      "test trace shape: (280, 172)\n",
      "Test set: chunk 2 set 1\n",
      "Laps in test set: [59 51 36 60 39 34 48 43 37 53 41 63 57 42 40 56 67]\n",
      "test trace shape: (266, 172)\n",
      "Test set: chunk 4 set 0\n",
      "Laps in test set: [100  86  99  75  96  82  97  72  74  79  76  83  69  98  94  70  89]\n",
      "test trace shape: (311, 172)\n",
      "Test set: chunk 4 set 1\n",
      "Laps in test set: [ 78  95  87  92  84  88  73  77  93  91  90 101  68  85  81  71  80]\n",
      "test trace shape: (339, 172)\n",
      "Laps in train set: [72 57 71 80 67 82 77 60 56 78 75 51 65 81 61 68 69]\n",
      "Train set: chunk 3 set [0]\n",
      "\n",
      "train trace shape: (325, 178)\n"
     ]
    },
    {
     "name": "stderr",
     "output_type": "stream",
     "text": [
      "         1      -91096.6444             +nan\n",
      "         2      -76978.9192      +14117.7251\n",
      "         3      -73554.6856       +3424.2336\n",
      "         4      -72324.6573       +1230.0283\n",
      "         5      -72110.7237        +213.9336\n",
      "         6      -71709.7428        +400.9810\n",
      "         7      -71674.2121         +35.5306\n",
      "         8      -71638.5011         +35.7111\n",
      "         9      -71473.8319        +164.6691\n",
      "        10      -71362.9754        +110.8565\n",
      "        11      -71365.2882          -2.3127\n",
      "The log probability of the last iteration decreased; reverting to previous state\n"
     ]
    },
    {
     "name": "stdout",
     "output_type": "stream",
     "text": [
      "[]\n",
      "Decoded state counts: [51 21  2 13 22  2  1  1 43  5  2  2 43  8 46 14 11  4 31  3]\n",
      "logprob_n: -219.5855021159564, length: 325\n",
      "Test set: chunk 3 set 1\n",
      "Laps in test set: [64 55 74 70 53 83 58 54 73 76 52 63 84 66 62 79 59]\n",
      "test trace shape: (281, 178)\n",
      "Test set: chunk 0 set 0\n",
      "Laps in test set: [16 13 26 28 12 30  7  2 31 32 22 20 15 27 33 10  1]\n",
      "test trace shape: (293, 178)\n",
      "Test set: chunk 0 set 1\n",
      "Laps in test set: [23  9 19 17  6 24  0 18  4 25  8 21  5 11 14 29  3]\n",
      "test trace shape: (326, 178)\n",
      "Test set: chunk 1 set 0\n",
      "Laps in test set: [48 44 35 50 26 40 46 33 20 39 41 21 47 17 31 37 38]\n",
      "test trace shape: (257, 178)\n",
      "Test set: chunk 1 set 1\n",
      "Laps in test set: [25 30 22 36 42 45 19 28 32 18 29 24 34 49 43 27 23]\n",
      "test trace shape: (274, 178)\n",
      "Test set: chunk 2 set 0\n",
      "Laps in test set: [35 50 49 55 58 47 52 65 44 64 38 61 54 62 46 45 66]\n",
      "test trace shape: (280, 178)\n",
      "Test set: chunk 2 set 1\n",
      "Laps in test set: [59 51 36 60 39 34 48 43 37 53 41 63 57 42 40 56 67]\n",
      "test trace shape: (266, 178)\n",
      "Test set: chunk 4 set 0\n",
      "Laps in test set: [100  86  99  75  96  82  97  72  74  79  76  83  69  98  94  70  89]\n",
      "test trace shape: (311, 178)\n",
      "Test set: chunk 4 set 1\n",
      "Laps in test set: [ 78  95  87  92  84  88  73  77  93  91  90 101  68  85  81  71  80]\n",
      "test trace shape: (339, 178)\n",
      "Train chunk: 4\n",
      "Laps in train set: [ 78  95  87  92  84  88  73  77  93  91  90 101  68  85  81  71  80]\n",
      "Train set: chunk 4 set [1]\n",
      "\n",
      "train trace shape: (339, 182)\n"
     ]
    },
    {
     "name": "stderr",
     "output_type": "stream",
     "text": [
      "         1      -80717.9994             +nan\n",
      "         2      -74180.1283       +6537.8711\n",
      "         3      -72468.1893       +1711.9389\n",
      "         4      -71563.9051        +904.2842\n",
      "         5      -70679.9765        +883.9286\n",
      "         6      -70306.1243        +373.8522\n",
      "         7      -70611.5143        -305.3899\n",
      "The log probability of the last iteration decreased; reverting to previous state\n"
     ]
    },
    {
     "name": "stdout",
     "output_type": "stream",
     "text": [
      "[]\n",
      "Decoded state counts: [22 27  2  2 12  5 43  5 27 55  7  1  4  2 37  7 62  4 10  5]\n",
      "logprob_n: -208.29355243208173, length: 339\n",
      "Test set: chunk 4 set 0\n",
      "Laps in test set: [100  86  99  75  96  82  97  72  74  79  76  83  69  98  94  70  89]\n",
      "test trace shape: (311, 182)\n",
      "Test set: chunk 0 set 0\n",
      "Laps in test set: [16 13 26 28 12 30  7  2 31 32 22 20 15 27 33 10  1]\n",
      "test trace shape: (293, 182)\n",
      "Test set: chunk 0 set 1\n",
      "Laps in test set: [23  9 19 17  6 24  0 18  4 25  8 21  5 11 14 29  3]\n",
      "test trace shape: (326, 182)\n",
      "Test set: chunk 1 set 0\n",
      "Laps in test set: [48 44 35 50 26 40 46 33 20 39 41 21 47 17 31 37 38]\n",
      "test trace shape: (257, 182)\n",
      "Test set: chunk 1 set 1\n",
      "Laps in test set: [25 30 22 36 42 45 19 28 32 18 29 24 34 49 43 27 23]\n",
      "test trace shape: (274, 182)\n",
      "Test set: chunk 2 set 0\n",
      "Laps in test set: [35 50 49 55 58 47 52 65 44 64 38 61 54 62 46 45 66]\n",
      "test trace shape: (280, 182)\n",
      "Test set: chunk 2 set 1\n",
      "Laps in test set: [59 51 36 60 39 34 48 43 37 53 41 63 57 42 40 56 67]\n",
      "test trace shape: (266, 182)\n",
      "Test set: chunk 3 set 0\n",
      "Laps in test set: [72 57 71 80 67 82 77 60 56 78 75 51 65 81 61 68 69]\n",
      "test trace shape: (325, 182)\n",
      "Test set: chunk 3 set 1\n",
      "Laps in test set: [64 55 74 70 53 83 58 54 73 76 52 63 84 66 62 79 59]\n",
      "test trace shape: (281, 182)\n",
      "Laps in train set: [100  86  99  75  96  82  97  72  74  79  76  83  69  98  94  70  89]\n",
      "Train set: chunk 4 set [0]\n",
      "\n",
      "train trace shape: (311, 185)\n"
     ]
    },
    {
     "name": "stderr",
     "output_type": "stream",
     "text": [
      "         1      -93337.8830             +nan\n",
      "         2      -82088.7248      +11249.1582\n",
      "         3      -79410.7697       +2677.9551\n",
      "         4      -78141.8519       +1268.9178\n",
      "         5      -77817.6447        +324.2072\n",
      "         6      -77178.9594        +638.6853\n",
      "         7      -76544.9388        +634.0206\n",
      "         8      -76257.5254        +287.4134\n",
      "         9      -76261.8458          -4.3204\n",
      "The log probability of the last iteration decreased; reverting to previous state\n"
     ]
    },
    {
     "name": "stdout",
     "output_type": "stream",
     "text": [
      "[]\n",
      "Decoded state counts: [18 21 18  1  4 11 26  2 73  2  1 15  3  3 36  1 14 10  1 51]\n",
      "logprob_n: -245.21493813839226, length: 311\n",
      "Test set: chunk 4 set 1\n",
      "Laps in test set: [ 78  95  87  92  84  88  73  77  93  91  90 101  68  85  81  71  80]\n",
      "test trace shape: (339, 185)\n",
      "Test set: chunk 0 set 0\n",
      "Laps in test set: [16 13 26 28 12 30  7  2 31 32 22 20 15 27 33 10  1]\n",
      "test trace shape: (293, 185)\n",
      "Test set: chunk 0 set 1\n",
      "Laps in test set: [23  9 19 17  6 24  0 18  4 25  8 21  5 11 14 29  3]\n",
      "test trace shape: (326, 185)\n",
      "Test set: chunk 1 set 0\n",
      "Laps in test set: [48 44 35 50 26 40 46 33 20 39 41 21 47 17 31 37 38]\n",
      "test trace shape: (257, 185)\n",
      "Test set: chunk 1 set 1\n",
      "Laps in test set: [25 30 22 36 42 45 19 28 32 18 29 24 34 49 43 27 23]\n",
      "test trace shape: (274, 185)\n",
      "Test set: chunk 2 set 0\n",
      "Laps in test set: [35 50 49 55 58 47 52 65 44 64 38 61 54 62 46 45 66]\n",
      "test trace shape: (280, 185)\n",
      "Test set: chunk 2 set 1\n",
      "Laps in test set: [59 51 36 60 39 34 48 43 37 53 41 63 57 42 40 56 67]\n",
      "test trace shape: (266, 185)\n",
      "Test set: chunk 3 set 0\n",
      "Laps in test set: [72 57 71 80 67 82 77 60 56 78 75 51 65 81 61 68 69]\n",
      "test trace shape: (325, 185)\n",
      "Test set: chunk 3 set 1\n",
      "Laps in test set: [64 55 74 70 53 83 58 54 73 76 52 63 84 66 62 79 59]\n",
      "test trace shape: (281, 185)\n",
      "============= 1 =============\n"
     ]
    }
   ],
   "source": [
    "if self.mode == 'HMM':\n",
    "    self.HMMSetCrossValid(text=True,plot=True, del_salstate=True)\n",
    "#     HMMSetCrossValid(self, text = True, plot = False, random = True, shuffle = None, del_salstate=False)\n",
    "elif self.mode == 'GP':\n",
    "    self.GaussianSetCrossValid(text=True,plot=True)"
   ]
  },
  {
   "cell_type": "markdown",
   "metadata": {},
   "source": [
    "___________ test end ______________"
   ]
  },
  {
   "cell_type": "code",
   "execution_count": 9,
   "metadata": {},
   "outputs": [
    {
     "name": "stdout",
     "output_type": "stream",
     "text": [
      "Train chunk: 0\n",
      "Laps in train set: [16 30 18 21 28 15  0  1 31 20  6 25  4 17  3 23]\n",
      "train trace shape: (236, 98)\n"
     ]
    },
    {
     "name": "stderr",
     "output_type": "stream",
     "text": [
      "         1      -23800.8340             +nan\n",
      "         2      -21837.5938       +1963.2402\n",
      "         3      -21600.4575        +237.1363\n",
      "         4      -21464.1760        +136.2815\n",
      "         5      -21181.6301        +282.5459\n",
      "         6      -20985.9853        +195.6448\n",
      "         7      -20948.2394         +37.7459\n",
      "         8      -20941.6455          +6.5939\n",
      "         9      -20930.5347         +11.1108\n",
      "        10      -20869.4659         +61.0688\n",
      "        11      -20869.4654          +0.0005\n"
     ]
    },
    {
     "name": "stdout",
     "output_type": "stream",
     "text": [
      "[]\n",
      "Decoded state counts: [99  6  2  2  1  5  3  5  1  6  4  1  1  2 76  2  8  7  4  1]\n",
      "logprob_n: -88.4299380846102, length: 236\n",
      "test trace shape: (239, 98)\n",
      "test trace shape: (262, 98)\n",
      "test trace shape: (273, 98)\n",
      "test trace shape: (265, 98)\n",
      "test trace shape: (273, 98)\n",
      "test trace shape: (256, 98)\n",
      "test trace shape: (262, 98)\n",
      "test trace shape: (267, 98)\n",
      "test trace shape: (258, 98)\n",
      "Laps in train set: [29  9 22  7  2 12 27 24 19 13 14 26 10  8 11  5]\n",
      "train trace shape: (239, 96)\n"
     ]
    },
    {
     "name": "stderr",
     "output_type": "stream",
     "text": [
      "         1      -23528.1890             +nan\n",
      "         2      -20467.8201       +3060.3689\n",
      "         3      -19726.7684        +741.0516\n",
      "         4      -19607.8990        +118.8694\n",
      "         5      -19518.2222         +89.6768\n",
      "         6      -19496.8702         +21.3519\n",
      "         7      -19438.4362         +58.4341\n",
      "         8      -19387.6041         +50.8321\n",
      "         9      -19387.6041          +0.0000\n"
     ]
    },
    {
     "name": "stdout",
     "output_type": "stream",
     "text": [
      "[]\n",
      "Decoded state counts: [ 4 82  3  4  2  5 71  4 22  2  1  4  5  5  1  5  8  3  5  3]\n",
      "logprob_n: -81.11968240948572, length: 239\n",
      "test trace shape: (236, 96)\n",
      "test trace shape: (262, 96)\n",
      "test trace shape: (273, 96)\n",
      "test trace shape: (265, 96)\n",
      "test trace shape: (273, 96)\n",
      "test trace shape: (256, 96)\n",
      "test trace shape: (262, 96)\n",
      "test trace shape: (267, 96)\n",
      "test trace shape: (258, 96)\n",
      "Train chunk: 1\n",
      "Laps in train set: [22 18 20 40 25 32 26 43 35 24 34 46 29 27 23 36]\n",
      "train trace shape: (273, 93)\n"
     ]
    },
    {
     "name": "stderr",
     "output_type": "stream",
     "text": [
      "         1      -23811.8687             +nan\n",
      "         2      -21757.7094       +2054.1594\n",
      "         3      -21244.7862        +512.9232\n",
      "         4      -20993.0964        +251.6898\n",
      "         5      -20969.0216         +24.0748\n",
      "         6      -20881.0539         +87.9678\n",
      "         7      -20801.5309         +79.5229\n",
      "         8      -20785.6649         +15.8660\n",
      "         9      -20785.4837          +0.1812\n",
      "        10      -20757.0648         +28.4189\n",
      "        11      -20741.4702         +15.5946\n",
      "        12      -20733.9168          +7.5534\n",
      "        13      -20723.7110         +10.2058\n",
      "        14      -20716.2400          +7.4711\n",
      "        15      -20716.2400          +0.0000\n"
     ]
    },
    {
     "name": "stdout",
     "output_type": "stream",
     "text": [
      "[]\n",
      "Decoded state counts: [ 93   1   5   2  10   2   1   4   4   6   2   2   4   4   6   1   1   3\n",
      "   4 118]\n",
      "logprob_n: -75.88366293488447, length: 273\n",
      "test trace shape: (262, 93)\n",
      "test trace shape: (239, 93)\n",
      "test trace shape: (236, 93)\n",
      "test trace shape: (265, 93)\n",
      "test trace shape: (273, 93)\n",
      "test trace shape: (256, 93)\n",
      "test trace shape: (262, 93)\n",
      "test trace shape: (267, 93)\n",
      "test trace shape: (258, 93)\n",
      "Laps in train set: [17 44 21 41 28 31 45 47 38 30 42 39 16 37 19 33]\n",
      "train trace shape: (262, 103)\n"
     ]
    },
    {
     "name": "stderr",
     "output_type": "stream",
     "text": [
      "         1      -29944.3219             +nan\n",
      "         2      -27313.8550       +2630.4669\n",
      "         3      -27036.9073        +276.9477\n",
      "         4      -26873.0330        +163.8743\n",
      "         5      -26842.3643         +30.6687\n",
      "         6      -26842.3629          +0.0014\n"
     ]
    },
    {
     "name": "stdout",
     "output_type": "stream",
     "text": [
      "[]\n",
      "Decoded state counts: [120   2   3   2   1   1   3   1   7  79   8   2   3   2  12   7   2   4\n",
      "   1   2]\n",
      "logprob_n: -102.4505395896463, length: 262\n",
      "test trace shape: (273, 103)\n",
      "test trace shape: (239, 103)\n",
      "test trace shape: (236, 103)\n",
      "test trace shape: (265, 103)\n",
      "test trace shape: (273, 103)\n",
      "test trace shape: (256, 103)\n",
      "test trace shape: (262, 103)\n",
      "test trace shape: (267, 103)\n",
      "test trace shape: (258, 103)\n",
      "Train chunk: 2\n",
      "Laps in train set: [56 46 62 57 37 55 61 35 33 36 51 40 53 38 52 34]\n",
      "train trace shape: (273, 97)\n"
     ]
    },
    {
     "name": "stderr",
     "output_type": "stream",
     "text": [
      "         1      -30424.1406             +nan\n",
      "         2      -28070.1346       +2354.0060\n",
      "         3      -27734.6878        +335.4468\n",
      "         4      -27638.4348         +96.2530\n",
      "         5      -27588.4401         +49.9946\n",
      "         6      -27199.1013        +389.3388\n",
      "         7      -27192.2069          +6.8944\n",
      "         8      -27192.2036          +0.0033\n"
     ]
    },
    {
     "name": "stdout",
     "output_type": "stream",
     "text": [
      "[4]\n",
      "Decoded state counts: [112   1   6   1  10   6   2  28   3   4   7  13   7  19   7   3  22  20\n",
      "   2]\n",
      "logprob_n: -99.60514148197456, length: 273\n",
      "test trace shape: (265, 97)\n",
      "test trace shape: (239, 97)\n",
      "test trace shape: (236, 97)\n",
      "test trace shape: (262, 97)\n",
      "test trace shape: (273, 97)\n",
      "test trace shape: (256, 97)\n",
      "test trace shape: (262, 97)\n",
      "test trace shape: (267, 97)\n",
      "test trace shape: (258, 97)\n",
      "Laps in train set: [44 58 63 43 39 49 54 45 42 47 60 48 32 41 50 59]\n",
      "train trace shape: (265, 95)\n"
     ]
    },
    {
     "name": "stderr",
     "output_type": "stream",
     "text": [
      "         1      -21976.4440             +nan\n",
      "         2      -20128.1271       +1848.3169\n",
      "         3      -19705.3945        +422.7326\n",
      "         4      -19544.8599        +160.5346\n",
      "         5      -19497.8010         +47.0589\n",
      "         6      -19430.3132         +67.4878\n",
      "         7      -19426.0351          +4.2782\n",
      "         8      -19426.0350          +0.0001\n"
     ]
    },
    {
     "name": "stdout",
     "output_type": "stream",
     "text": [
      "[]\n",
      "Decoded state counts: [ 12  94   2   4   1   2   1   6   1   1   1   1   2   5   5 112   3   1\n",
      "  10   1]\n",
      "logprob_n: -73.30579242020106, length: 265\n",
      "test trace shape: (273, 95)\n",
      "test trace shape: (239, 95)\n",
      "test trace shape: (236, 95)\n",
      "test trace shape: (262, 95)\n",
      "test trace shape: (273, 95)\n",
      "test trace shape: (256, 95)\n",
      "test trace shape: (262, 95)\n",
      "test trace shape: (267, 95)\n",
      "test trace shape: (258, 95)\n",
      "Train chunk: 3\n",
      "Laps in train set: [59 71 64 75 52 73 72 48 69 56 79 78 65 49 70 54]\n",
      "train trace shape: (262, 101)\n"
     ]
    },
    {
     "name": "stderr",
     "output_type": "stream",
     "text": [
      "         1      -30406.8500             +nan\n",
      "         2      -27503.8053       +2903.0447\n",
      "         3      -27032.5159        +471.2894\n",
      "         4      -26975.3431         +57.1729\n",
      "         5      -26917.2088         +58.1343\n",
      "         6      -26908.5366          +8.6722\n",
      "         7      -26836.2480         +72.2886\n",
      "         8      -26777.8356         +58.4124\n",
      "         9      -26690.5221         +87.3136\n",
      "        10      -26683.0967          +7.4253\n",
      "        11      -26682.6492          +0.4475\n",
      "        12      -26676.3578          +6.2914\n",
      "        13      -26380.1548        +296.2030\n",
      "        14      -25840.7318        +539.4230\n",
      "        15      -25562.9674        +277.7644\n",
      "        16      -25519.7858         +43.1816\n",
      "        17      -25499.3225         +20.4633\n",
      "        18      -25499.0579          +0.2646\n",
      "        19      -25494.3381          +4.7198\n",
      "        20      -25488.3933          +5.9447\n"
     ]
    },
    {
     "name": "stdout",
     "output_type": "stream",
     "text": [
      "[]\n",
      "Decoded state counts: [  2 127   2   1   6   1   6   2   1   3   2   2   2  77   7   5   1   4\n",
      "   5   6]\n",
      "logprob_n: -97.28377573781168, length: 262\n",
      "test trace shape: (256, 101)\n",
      "test trace shape: (239, 101)\n",
      "test trace shape: (236, 101)\n",
      "test trace shape: (262, 101)\n",
      "test trace shape: (273, 101)\n",
      "test trace shape: (265, 101)\n",
      "test trace shape: (273, 101)\n",
      "test trace shape: (267, 101)\n",
      "test trace shape: (258, 101)\n",
      "Laps in train set: [60 61 53 68 76 50 63 55 51 74 58 57 62 67 66 77]\n",
      "train trace shape: (256, 96)\n"
     ]
    },
    {
     "name": "stderr",
     "output_type": "stream",
     "text": [
      "         1      -24407.3087             +nan\n",
      "         2      -22497.0075       +1910.3011\n",
      "         3      -22238.3872        +258.6203\n",
      "         4      -22160.5382         +77.8490\n",
      "         5      -22153.2463          +7.2918\n",
      "         6      -22136.6540         +16.5923\n",
      "         7      -22119.1001         +17.5539\n",
      "         8      -22118.3069          +0.7931\n",
      "         9      -22118.3069          -0.0000\n",
      "The log probability of the last iteration decreased; reverting to previous state\n"
     ]
    },
    {
     "name": "stdout",
     "output_type": "stream",
     "text": [
      "[1]\n",
      "Decoded state counts: [ 23   1   1   1   2   1  12  14  14   4   3   5  24  16 116   2   7   4\n",
      "   6]\n",
      "logprob_n: -86.3996364489003, length: 256\n",
      "test trace shape: (262, 96)\n",
      "test trace shape: (239, 96)\n",
      "test trace shape: (236, 96)\n",
      "test trace shape: (262, 96)\n",
      "test trace shape: (273, 96)\n",
      "test trace shape: (265, 96)\n",
      "test trace shape: (273, 96)\n",
      "test trace shape: (267, 96)\n",
      "test trace shape: (258, 96)\n",
      "Train chunk: 4\n",
      "Laps in train set: [69 77 80 88 92 94 64 74 79 86 73 72 75 65 85 83]\n",
      "train trace shape: (258, 97)\n"
     ]
    },
    {
     "name": "stderr",
     "output_type": "stream",
     "text": [
      "         1      -26359.5890             +nan\n",
      "         2      -24955.2488       +1404.3402\n",
      "         3      -24730.1728        +225.0760\n",
      "         4      -24653.2376         +76.9351\n",
      "         5      -24653.2374          +0.0002\n"
     ]
    },
    {
     "name": "stdout",
     "output_type": "stream",
     "text": [
      "[0]\n",
      "Decoded state counts: [ 11   9  11   1   1  11   9   1   6   5   4   3   2   4  12 154   1   8\n",
      "   5]\n",
      "logprob_n: -95.55518373300434, length: 258\n",
      "test trace shape: (267, 97)\n",
      "test trace shape: (239, 97)\n",
      "test trace shape: (236, 97)\n",
      "test trace shape: (262, 97)\n",
      "test trace shape: (273, 97)\n",
      "test trace shape: (265, 97)\n",
      "test trace shape: (273, 97)\n",
      "test trace shape: (256, 97)\n",
      "test trace shape: (262, 97)\n",
      "Laps in train set: [71 95 76 81 93 82 91 84 87 70 78 68 67 90 66 89]\n",
      "train trace shape: (267, 103)\n"
     ]
    },
    {
     "name": "stderr",
     "output_type": "stream",
     "text": [
      "         1      -32783.9657             +nan\n",
      "         2      -30184.9724       +2598.9933\n",
      "         3      -29906.3293        +278.6431\n",
      "         4      -29730.3504        +175.9789\n",
      "         5      -29728.5539          +1.7965\n",
      "         6      -29728.3717          +0.1822\n",
      "         7      -29690.8385         +37.5332\n",
      "         8      -29641.0151         +49.8234\n",
      "         9      -29641.0135          +0.0016\n"
     ]
    },
    {
     "name": "stdout",
     "output_type": "stream",
     "text": [
      "[0]\n",
      "Decoded state counts: [ 25   1   1   7   1  11  10 129   1   2   6  11   1   3   1   4  23  17\n",
      "  13]\n",
      "logprob_n: -111.01503103527851, length: 267\n",
      "test trace shape: (258, 103)\n",
      "test trace shape: (239, 103)\n",
      "test trace shape: (236, 103)\n",
      "test trace shape: (262, 103)\n",
      "test trace shape: (273, 103)\n",
      "test trace shape: (265, 103)\n",
      "test trace shape: (273, 103)\n",
      "test trace shape: (256, 103)\n",
      "test trace shape: (262, 103)\n",
      "============= 2 =============\n",
      "Train chunk: 0\n",
      "Laps in train set: [11 13 30  1 18 16  8 26  9 28 23 20 29 27  6  7]\n",
      "train trace shape: (235, 96)\n"
     ]
    },
    {
     "name": "stderr",
     "output_type": "stream",
     "text": [
      "         1      -27516.1884             +nan\n",
      "         2      -25067.0841       +2449.1043\n",
      "         3      -24551.4815        +515.6026\n",
      "         4      -24444.4692        +107.0123\n",
      "         5      -24184.9841        +259.4851\n",
      "         6      -23944.8314        +240.1527\n",
      "         7      -23918.7001         +26.1313\n",
      "         8      -23896.4891         +22.2110\n",
      "         9      -23882.2417         +14.2474\n",
      "        10      -23882.2416          +0.0000\n"
     ]
    },
    {
     "name": "stdout",
     "output_type": "stream",
     "text": [
      "[1]\n",
      "Decoded state counts: [ 22 117   3   1   1   3  12   5   5   3   5   5  12   1   7   2   5  10\n",
      "  16]\n",
      "logprob_n: -101.55965675150242, length: 235\n",
      "test trace shape: (240, 96)\n",
      "test trace shape: (261, 96)\n",
      "test trace shape: (274, 96)\n",
      "test trace shape: (271, 96)\n",
      "test trace shape: (267, 96)\n",
      "test trace shape: (260, 96)\n",
      "test trace shape: (258, 96)\n",
      "test trace shape: (262, 96)\n",
      "test trace shape: (263, 96)\n",
      "Laps in train set: [ 4 12 10 31 15  3 25 21 17 19 24  0 22 14  5  2]\n",
      "train trace shape: (240, 97)\n"
     ]
    },
    {
     "name": "stderr",
     "output_type": "stream",
     "text": [
      "         1      -26666.7791             +nan\n",
      "         2      -23234.4501       +3432.3291\n",
      "         3      -22749.7862        +484.6638\n",
      "         4      -22728.2687         +21.5175\n",
      "         5      -22727.2426          +1.0261\n",
      "         6      -22719.8101          +7.4326\n",
      "         7      -22719.1999          +0.6102\n",
      "         8      -22719.1994          +0.0004\n"
     ]
    },
    {
     "name": "stdout",
     "output_type": "stream",
     "text": [
      "[]\n",
      "Decoded state counts: [ 71   2   2   1   3   5   2   4   2   2   3   6   3   3 106   1   2   7\n",
      "   5  10]\n",
      "logprob_n: -94.64031032359615, length: 240\n",
      "test trace shape: (235, 97)\n",
      "test trace shape: (261, 97)\n",
      "test trace shape: (274, 97)\n",
      "test trace shape: (271, 97)\n",
      "test trace shape: (267, 97)\n",
      "test trace shape: (260, 97)\n",
      "test trace shape: (258, 97)\n",
      "test trace shape: (262, 97)\n",
      "test trace shape: (263, 97)\n",
      "Train chunk: 1\n",
      "Laps in train set: [18 31 33 27 25 17 40 23 43 20 42 37 19 32 44 30]\n",
      "train trace shape: (274, 101)\n"
     ]
    },
    {
     "name": "stderr",
     "output_type": "stream",
     "text": [
      "         1      -27472.3239             +nan\n",
      "         2      -25486.6135       +1985.7104\n",
      "         3      -25071.1556        +415.4579\n",
      "         4      -24693.1482        +378.0074\n",
      "         5      -24426.2680        +266.8803\n",
      "         6      -24374.7414         +51.5266\n",
      "         7      -24373.3807          +1.3606\n",
      "         8      -24335.8617         +37.5191\n",
      "         9      -24236.6097         +99.2519\n",
      "        10      -24155.1385         +81.4712\n",
      "        11      -24109.9388         +45.1998\n",
      "        12      -24109.9386          +0.0002\n"
     ]
    },
    {
     "name": "stdout",
     "output_type": "stream",
     "text": [
      "[]\n",
      "Decoded state counts: [113   1   1   2   1   6   1   7   2 107   2  11   2   2   6   1   1   2\n",
      "   1   5]\n",
      "logprob_n: -87.9924764901381, length: 274\n",
      "test trace shape: (261, 101)\n",
      "test trace shape: (240, 101)\n",
      "test trace shape: (235, 101)\n",
      "test trace shape: (271, 101)\n",
      "test trace shape: (267, 101)\n",
      "test trace shape: (260, 101)\n",
      "test trace shape: (258, 101)\n",
      "test trace shape: (262, 101)\n",
      "test trace shape: (263, 101)\n",
      "Laps in train set: [35 47 41 24 28 26 39 16 21 45 38 22 36 46 29 34]\n",
      "train trace shape: (261, 94)\n"
     ]
    },
    {
     "name": "stderr",
     "output_type": "stream",
     "text": [
      "         1      -26856.9847             +nan\n",
      "         2      -24492.7134       +2364.2713\n",
      "         3      -23697.6370        +795.0764\n",
      "         4      -23305.6520        +391.9850\n",
      "         5      -23064.3789        +241.2731\n",
      "         6      -22929.0634        +135.3155\n",
      "         7      -22830.9139         +98.1495\n",
      "         8      -22745.2427         +85.6713\n",
      "         9      -22671.5779         +73.6648\n",
      "        10      -22671.5776          +0.0002\n"
     ]
    },
    {
     "name": "stdout",
     "output_type": "stream",
     "text": [
      "[]\n",
      "Decoded state counts: [ 2  1  2  3  3  3  2  4  1 98 11  6  1  4 10  3 10  1 90  6]\n",
      "logprob_n: -86.86428217785036, length: 261\n",
      "test trace shape: (274, 94)\n",
      "test trace shape: (240, 94)\n",
      "test trace shape: (235, 94)\n",
      "test trace shape: (271, 94)\n",
      "test trace shape: (267, 94)\n",
      "test trace shape: (260, 94)\n",
      "test trace shape: (258, 94)\n",
      "test trace shape: (262, 94)\n",
      "test trace shape: (263, 94)\n",
      "Train chunk: 2\n",
      "Laps in train set: [55 54 39 33 50 42 60 43 63 36 48 40 46 47 58 45]\n",
      "train trace shape: (267, 95)\n"
     ]
    },
    {
     "name": "stderr",
     "output_type": "stream",
     "text": [
      "         1      -25192.3745             +nan\n",
      "         2      -23297.3086       +1895.0660\n",
      "         3      -23174.0181        +123.2905\n",
      "         4      -23108.9336         +65.0844\n",
      "         5      -23077.8029         +31.1307\n",
      "         6      -23062.1792         +15.6237\n",
      "         7      -23055.2896          +6.8896\n",
      "         8      -23017.4890         +37.8006\n",
      "         9      -22874.5642        +142.9247\n",
      "        10      -22797.3868         +77.1774\n",
      "        11      -22797.3868          +0.0000\n"
     ]
    },
    {
     "name": "stdout",
     "output_type": "stream",
     "text": [
      "[]\n",
      "Decoded state counts: [  1 118   1   2   1   1   4   4   9   1   1   1   2   2   5 101   6   3\n",
      "   2   2]\n",
      "logprob_n: -85.38347106515906, length: 267\n",
      "test trace shape: (271, 95)\n",
      "test trace shape: (240, 95)\n",
      "test trace shape: (235, 95)\n",
      "test trace shape: (261, 95)\n",
      "test trace shape: (274, 95)\n",
      "test trace shape: (260, 95)\n",
      "test trace shape: (258, 95)\n",
      "test trace shape: (262, 95)\n",
      "test trace shape: (263, 95)\n",
      "Laps in train set: [34 35 59 53 38 57 37 49 32 52 61 51 62 44 41 56]\n",
      "train trace shape: (271, 96)\n"
     ]
    },
    {
     "name": "stderr",
     "output_type": "stream",
     "text": [
      "         1      -25382.3648             +nan\n",
      "         2      -22721.9445       +2660.4202\n",
      "         3      -22169.4329        +552.5117\n",
      "         4      -22118.1068         +51.3260\n",
      "         5      -21874.5264        +243.5805\n",
      "         6      -21823.9416         +50.5847\n",
      "         7      -21813.5910         +10.3506\n",
      "         8      -21792.0097         +21.5813\n",
      "         9      -21786.2665          +5.7432\n",
      "        10      -21784.1575          +2.1090\n",
      "        11      -21767.6154         +16.5421\n",
      "        12      -21767.5099          +0.1055\n",
      "        13      -21767.5099          +0.0000\n"
     ]
    },
    {
     "name": "stdout",
     "output_type": "stream",
     "text": [
      "[]\n",
      "Decoded state counts: [ 81   1   4   1   3   3   5   1   4   5   1   4   7   5   2 122   2   5\n",
      "   7   8]\n",
      "logprob_n: -80.3229146129073, length: 271\n",
      "test trace shape: (267, 96)\n",
      "test trace shape: (240, 96)\n",
      "test trace shape: (235, 96)\n",
      "test trace shape: (261, 96)\n",
      "test trace shape: (274, 96)\n",
      "test trace shape: (260, 96)\n",
      "test trace shape: (258, 96)\n",
      "test trace shape: (262, 96)\n",
      "test trace shape: (263, 96)\n",
      "Train chunk: 3\n",
      "Laps in train set: [71 72 77 48 66 58 56 53 67 49 60 55 63 57 68 62]\n",
      "train trace shape: (258, 90)\n"
     ]
    },
    {
     "name": "stderr",
     "output_type": "stream",
     "text": [
      "         1      -23570.7634             +nan\n",
      "         2      -21524.1147       +2046.6486\n",
      "         3      -21217.8063        +306.3084\n",
      "         4      -21174.5642         +43.2421\n",
      "         5      -21071.1528        +103.4114\n",
      "         6      -20839.7810        +231.3718\n",
      "         7      -20800.2523         +39.5288\n",
      "         8      -20793.8454          +6.4068\n",
      "         9      -20793.1280          +0.7175\n",
      "        10      -20776.7033         +16.4247\n",
      "        11      -20774.6152          +2.0881\n",
      "        12      -20774.6151          +0.0001\n",
      "         1      -30512.1522             +nan\n",
      "         2      -28813.0937       +1699.0585\n"
     ]
    },
    {
     "name": "stdout",
     "output_type": "stream",
     "text": [
      "[]\n",
      "Decoded state counts: [ 88   1   1   1   5   2   3   1   2   1   3   3   6   4   2   3 122   3\n",
      "   1   6]\n",
      "logprob_n: -80.52176394572706, length: 258\n",
      "test trace shape: (260, 90)\n",
      "test trace shape: (240, 90)\n",
      "test trace shape: (235, 90)\n",
      "test trace shape: (261, 90)\n",
      "test trace shape: (274, 90)\n",
      "test trace shape: (271, 90)\n",
      "test trace shape: (267, 90)\n",
      "test trace shape: (262, 90)\n",
      "test trace shape: (263, 90)\n",
      "Laps in train set: [52 59 76 73 54 78 70 75 79 64 65 61 69 50 51 74]\n",
      "train trace shape: (260, 96)\n"
     ]
    },
    {
     "name": "stderr",
     "output_type": "stream",
     "text": [
      "         3      -28701.4472        +111.6465\n",
      "         4      -28591.8924        +109.5548\n",
      "         5      -28589.9821          +1.9103\n",
      "         6      -28589.9821          +0.0000\n"
     ]
    },
    {
     "name": "stdout",
     "output_type": "stream",
     "text": [
      "[0]\n",
      "Decoded state counts: [ 12   1  33   6   1   9 102  17   5  20   3   2  21   3  12   1   9   2\n",
      "   1]\n",
      "logprob_n: -109.9614694729425, length: 260\n",
      "test trace shape: (258, 96)\n",
      "test trace shape: (240, 96)\n",
      "test trace shape: (235, 96)\n",
      "test trace shape: (261, 96)\n",
      "test trace shape: (274, 96)\n",
      "test trace shape: (271, 96)\n",
      "test trace shape: (267, 96)\n",
      "test trace shape: (262, 96)\n",
      "test trace shape: (263, 96)\n",
      "Train chunk: 4\n",
      "Laps in train set: [71 87 66 85 76 78 83 80 64 73 79 95 89 75 81 93]\n",
      "train trace shape: (263, 100)\n"
     ]
    },
    {
     "name": "stderr",
     "output_type": "stream",
     "text": [
      "         1      -31949.0517             +nan\n",
      "         2      -29746.6877       +2202.3640\n",
      "         3      -29197.7521        +548.9356\n",
      "         4      -28858.6799        +339.0722\n",
      "         5      -28783.7607         +74.9193\n",
      "         6      -28758.1443         +25.6163\n",
      "         7      -28758.1443          +0.0000\n"
     ]
    },
    {
     "name": "stdout",
     "output_type": "stream",
     "text": [
      "[1]\n",
      "Decoded state counts: [ 22   1   2   5  11   1   5  21   4   7   1   7  10  18  13   2  14   6\n",
      " 113]\n",
      "logprob_n: -109.34655638453492, length: 263\n",
      "test trace shape: (262, 100)\n",
      "test trace shape: (240, 100)\n",
      "test trace shape: (235, 100)\n",
      "test trace shape: (261, 100)\n",
      "test trace shape: (274, 100)\n",
      "test trace shape: (271, 100)\n",
      "test trace shape: (267, 100)\n",
      "test trace shape: (260, 100)\n",
      "test trace shape: (258, 100)\n",
      "Laps in train set: [92 82 86 74 72 68 84 90 70 65 77 88 91 94 67 69]\n",
      "train trace shape: (262, 96)\n"
     ]
    },
    {
     "name": "stderr",
     "output_type": "stream",
     "text": [
      "         1      -21980.9613             +nan\n",
      "         2      -19666.8092       +2314.1521\n",
      "         3      -19347.6174        +319.1918\n",
      "         4      -19119.8980        +227.7194\n",
      "         5      -18769.3189        +350.5791\n",
      "         6      -18538.2030        +231.1159\n",
      "         7      -18530.6047          +7.5983\n",
      "         8      -18530.6047          +0.0000\n"
     ]
    },
    {
     "name": "stdout",
     "output_type": "stream",
     "text": [
      "[]\n",
      "Decoded state counts: [118   1   1   1   8   1  79   6   1   2   2  11   1   1   7   5   3   2\n",
      "   1  11]\n",
      "logprob_n: -70.72749879145105, length: 262\n",
      "test trace shape: (263, 96)\n",
      "test trace shape: (240, 96)\n",
      "test trace shape: (235, 96)\n",
      "test trace shape: (261, 96)\n",
      "test trace shape: (274, 96)\n",
      "test trace shape: (271, 96)\n",
      "test trace shape: (267, 96)\n",
      "test trace shape: (260, 96)\n",
      "test trace shape: (258, 96)\n",
      "============= 3 =============\n",
      "Train chunk: 0\n",
      "Laps in train set: [16 19 29 17 27 22 10  2 24 13 28 18  0 26 21 30]\n",
      "train trace shape: (247, 98)\n"
     ]
    },
    {
     "name": "stderr",
     "output_type": "stream",
     "text": [
      "         1      -27705.2289             +nan\n",
      "         2      -25193.0667       +2512.1623\n",
      "         3      -24879.3957        +313.6710\n",
      "         4      -24758.5447        +120.8510\n",
      "         5      -24712.3897         +46.1550\n",
      "         6      -24712.3887          +0.0010\n"
     ]
    },
    {
     "name": "stdout",
     "output_type": "stream",
     "text": [
      "[]\n",
      "Decoded state counts: [  3 112   4   3   2   2   2   4   2   6   3   8  80   2   3   2   2   1\n",
      "   5   1]\n",
      "logprob_n: -100.05015681789332, length: 247\n",
      "test trace shape: (228, 98)\n",
      "test trace shape: (259, 98)\n",
      "test trace shape: (276, 98)\n",
      "test trace shape: (268, 98)\n",
      "test trace shape: (270, 98)\n",
      "test trace shape: (259, 98)\n",
      "test trace shape: (259, 98)\n",
      "test trace shape: (273, 98)\n",
      "test trace shape: (252, 98)\n",
      "Laps in train set: [14 31  4  9 20  8 11  5  6 15  3 23 25  1  7 12]\n",
      "train trace shape: (228, 95)\n"
     ]
    },
    {
     "name": "stderr",
     "output_type": "stream",
     "text": [
      "         1      -24633.4388             +nan\n",
      "         2      -22466.3593       +2167.0795\n",
      "         3      -21760.5085        +705.8508\n",
      "         4      -21625.5071        +135.0014\n",
      "         5      -21496.6413        +128.8657\n",
      "         6      -21495.1415          +1.4998\n",
      "         7      -21486.0321          +9.1094\n",
      "         8      -21415.3278         +70.7043\n",
      "         9      -21330.6875         +84.6404\n",
      "        10      -21156.3534        +174.3341\n",
      "        11      -21155.2948          +1.0585\n",
      "        12      -21155.2947          +0.0001\n"
     ]
    },
    {
     "name": "stdout",
     "output_type": "stream",
     "text": [
      "[]\n",
      "Decoded state counts: [ 2  1 15 89  3  4  1  4  1 77  1  1  3  9  2  3  1  4  3  4]\n",
      "logprob_n: -92.78635856302223, length: 228\n",
      "test trace shape: (247, 95)\n",
      "test trace shape: (259, 95)\n",
      "test trace shape: (276, 95)\n",
      "test trace shape: (268, 95)\n",
      "test trace shape: (270, 95)\n",
      "test trace shape: (259, 95)\n",
      "test trace shape: (259, 95)\n",
      "test trace shape: (273, 95)\n",
      "test trace shape: (252, 95)\n",
      "Train chunk: 1\n",
      "Laps in train set: [47 38 23 24 42 44 27 43 17 19 31 35 40 33 32 46]\n",
      "train trace shape: (276, 104)\n"
     ]
    },
    {
     "name": "stderr",
     "output_type": "stream",
     "text": [
      "         1      -26799.5807             +nan\n",
      "         2      -24500.5701       +2299.0106\n",
      "         3      -23919.6984        +580.8717\n",
      "         4      -23680.8498        +238.8486\n",
      "         5      -23581.1682         +99.6816\n",
      "         6      -23525.3009         +55.8673\n",
      "         7      -23484.4893         +40.8116\n",
      "         8      -23483.8694          +0.6199\n",
      "         9      -23483.8694          +0.0000\n"
     ]
    },
    {
     "name": "stdout",
     "output_type": "stream",
     "text": [
      "[]\n",
      "Decoded state counts: [104   2   2   4   1   3   1   6   3   1   4   1   5   3   6   4 107   3\n",
      "   7   9]\n",
      "logprob_n: -85.0864833091032, length: 276\n",
      "test trace shape: (259, 104)\n",
      "test trace shape: (228, 104)\n",
      "test trace shape: (247, 104)\n",
      "test trace shape: (268, 104)\n",
      "test trace shape: (270, 104)\n",
      "test trace shape: (259, 104)\n",
      "test trace shape: (259, 104)\n",
      "test trace shape: (273, 104)\n",
      "test trace shape: (252, 104)\n",
      "Laps in train set: [20 41 26 36 45 22 25 21 30 18 28 29 34 16 37 39]\n",
      "train trace shape: (259, 95)\n"
     ]
    },
    {
     "name": "stderr",
     "output_type": "stream",
     "text": [
      "         1      -26247.0415             +nan\n",
      "         2      -23564.8662       +2682.1753\n",
      "         3      -22916.2760        +648.5902\n",
      "         4      -22781.0046        +135.2713\n",
      "         5      -22773.5169          +7.4878\n",
      "         6      -22773.4260          +0.0909\n",
      "         7      -22773.1931          +0.2329\n",
      "         8      -22772.1110          +1.0821\n",
      "         9      -22770.9947          +1.1164\n",
      "        10      -22770.9758          +0.0189\n",
      "        11      -22770.9758          +0.0000\n",
      "         1      -28383.9775             +nan\n"
     ]
    },
    {
     "name": "stdout",
     "output_type": "stream",
     "text": [
      "[11]\n",
      "Decoded state counts: [14 64  5 12  1 17  1  1  3  3 10  9 11  4  5 88  1  2  8]\n",
      "logprob_n: -87.91882539640089, length: 259\n",
      "test trace shape: (276, 95)\n",
      "test trace shape: (228, 95)\n",
      "test trace shape: (247, 95)\n",
      "test trace shape: (268, 95)\n",
      "test trace shape: (270, 95)\n",
      "test trace shape: (259, 95)\n",
      "test trace shape: (259, 95)\n",
      "test trace shape: (273, 95)\n",
      "test trace shape: (252, 95)\n",
      "Train chunk: 2\n",
      "Laps in train set: [60 46 41 51 63 42 36 62 50 35 47 49 38 55 33 57]\n",
      "train trace shape: (270, 98)\n"
     ]
    },
    {
     "name": "stderr",
     "output_type": "stream",
     "text": [
      "         2      -25847.1347       +2536.8428\n",
      "         3      -25292.8485        +554.2862\n",
      "         4      -24995.1906        +297.6578\n",
      "         5      -24723.1956        +271.9950\n",
      "         6      -24637.3306         +85.8649\n",
      "         7      -24611.4036         +25.9270\n",
      "         8      -24590.4894         +20.9142\n",
      "         9      -24590.4894          +0.0000\n"
     ]
    },
    {
     "name": "stdout",
     "output_type": "stream",
     "text": [
      "[]\n",
      "Decoded state counts: [  3  91   2   1   8   1   1   6   1   3   4 114   5   8   1   8   2   3\n",
      "   2   6]\n",
      "logprob_n: -91.07588679432348, length: 270\n",
      "test trace shape: (268, 98)\n",
      "test trace shape: (228, 98)\n",
      "test trace shape: (247, 98)\n",
      "test trace shape: (259, 98)\n",
      "test trace shape: (276, 98)\n",
      "test trace shape: (259, 98)\n",
      "test trace shape: (259, 98)\n",
      "test trace shape: (273, 98)\n",
      "test trace shape: (252, 98)\n",
      "Laps in train set: [61 44 58 59 39 43 32 37 40 56 48 52 53 34 45 54]\n",
      "train trace shape: (268, 94)\n"
     ]
    },
    {
     "name": "stderr",
     "output_type": "stream",
     "text": [
      "         1      -22194.1355             +nan\n",
      "         2      -20548.9131       +1645.2224\n",
      "         3      -20425.2197        +123.6934\n",
      "         4      -20299.9938        +125.2259\n",
      "         5      -20284.2082         +15.7856\n",
      "         6      -20284.2081          +0.0000\n"
     ]
    },
    {
     "name": "stdout",
     "output_type": "stream",
     "text": [
      "[]\n",
      "Decoded state counts: [  3   1   1 111   5  10   2   1   1   4   4   1   1   5   2 108   2   2\n",
      "   3   1]\n",
      "logprob_n: -75.68734374364676, length: 268\n",
      "test trace shape: (270, 94)\n",
      "test trace shape: (228, 94)\n",
      "test trace shape: (247, 94)\n",
      "test trace shape: (259, 94)\n",
      "test trace shape: (276, 94)\n",
      "test trace shape: (259, 94)\n",
      "test trace shape: (259, 94)\n",
      "test trace shape: (273, 94)\n",
      "test trace shape: (252, 94)\n",
      "Train chunk: 3\n",
      "Laps in train set: [58 64 51 66 74 56 69 62 71 65 63 52 55 59 77 68]\n",
      "train trace shape: (259, 98)\n"
     ]
    },
    {
     "name": "stderr",
     "output_type": "stream",
     "text": [
      "         1      -24686.9983             +nan\n",
      "         2      -23019.0013       +1667.9970\n",
      "         3      -22878.5080        +140.4933\n",
      "         4      -22814.6729         +63.8351\n",
      "         5      -22676.0181        +138.6548\n",
      "         6      -22676.0180          +0.0001\n"
     ]
    },
    {
     "name": "stdout",
     "output_type": "stream",
     "text": [
      "[5]\n",
      "Decoded state counts: [128   1   9   1  18   3   8  13  19   5   4   5   2  16   2   8   3   3\n",
      "  11]\n",
      "logprob_n: -87.55219320324268, length: 259\n",
      "test trace shape: (259, 98)\n",
      "test trace shape: (228, 98)\n",
      "test trace shape: (247, 98)\n",
      "test trace shape: (259, 98)\n",
      "test trace shape: (276, 98)\n",
      "test trace shape: (268, 98)\n",
      "test trace shape: (270, 98)\n",
      "test trace shape: (273, 98)\n",
      "test trace shape: (252, 98)\n",
      "Laps in train set: [78 57 50 67 72 76 75 48 49 60 54 73 79 53 70 61]\n",
      "train trace shape: (259, 98)\n"
     ]
    },
    {
     "name": "stderr",
     "output_type": "stream",
     "text": [
      "         1      -31348.1559             +nan\n",
      "         2      -27657.7977       +3690.3582\n",
      "         3      -27051.6341        +606.1636\n",
      "         4      -26810.1736        +241.4605\n",
      "         5      -26577.3336        +232.8399\n",
      "         6      -26503.8357         +73.4979\n",
      "         7      -26471.8297         +32.0060\n",
      "         8      -26471.8297          +0.0000\n"
     ]
    },
    {
     "name": "stdout",
     "output_type": "stream",
     "text": [
      "[]\n",
      "Decoded state counts: [  2 107   1   8   3   1   2   5  97   8   2   1   3   2   3   2   7   1\n",
      "   2   2]\n",
      "logprob_n: -102.2078367556738, length: 259\n",
      "test trace shape: (259, 98)\n",
      "test trace shape: (228, 98)\n",
      "test trace shape: (247, 98)\n",
      "test trace shape: (259, 98)\n",
      "test trace shape: (276, 98)\n",
      "test trace shape: (268, 98)\n",
      "test trace shape: (270, 98)\n",
      "test trace shape: (273, 98)\n",
      "test trace shape: (252, 98)\n",
      "Train chunk: 4\n",
      "Laps in train set: [75 74 91 72 66 90 65 92 79 73 89 93 71 84 94 87]\n",
      "train trace shape: (252, 94)\n"
     ]
    },
    {
     "name": "stderr",
     "output_type": "stream",
     "text": [
      "         1      -23629.4128             +nan\n",
      "         2      -21814.6143       +1814.7985\n",
      "         3      -21599.0640        +215.5503\n",
      "         4      -21591.1489          +7.9151\n",
      "         5      -21591.1489          +0.0000\n"
     ]
    },
    {
     "name": "stdout",
     "output_type": "stream",
     "text": [
      "[1]\n",
      "Decoded state counts: [  6 104   2   1   5   6   1  25   1   2  30  13   7  21   6   1   7   8\n",
      "   6]\n",
      "logprob_n: -85.67916231662113, length: 252\n",
      "test trace shape: (273, 94)\n",
      "test trace shape: (228, 94)\n",
      "test trace shape: (247, 94)\n",
      "test trace shape: (259, 94)\n",
      "test trace shape: (276, 94)\n",
      "test trace shape: (268, 94)\n",
      "test trace shape: (270, 94)\n",
      "test trace shape: (259, 94)\n",
      "test trace shape: (259, 94)\n",
      "Laps in train set: [78 83 70 85 86 81 64 67 68 69 95 82 77 88 76 80]\n",
      "train trace shape: (273, 103)\n"
     ]
    },
    {
     "name": "stderr",
     "output_type": "stream",
     "text": [
      "         1      -28880.3495             +nan\n",
      "         2      -24733.0881       +4147.2614\n",
      "         3      -24069.4591        +663.6290\n",
      "         4      -23776.1597        +293.2994\n",
      "         5      -23694.2961         +81.8635\n",
      "         6      -23660.9354         +33.3607\n",
      "         7      -23660.9351          +0.0003\n"
     ]
    },
    {
     "name": "stdout",
     "output_type": "stream",
     "text": [
      "[]\n",
      "Decoded state counts: [ 13   2   2 121  73   3   1   2   5   4   2   1   7  13   1   7   4   5\n",
      "   2   5]\n",
      "logprob_n: -86.67009208896029, length: 273\n",
      "test trace shape: (252, 103)\n",
      "test trace shape: (228, 103)\n",
      "test trace shape: (247, 103)\n",
      "test trace shape: (259, 103)\n",
      "test trace shape: (276, 103)\n",
      "test trace shape: (268, 103)\n",
      "test trace shape: (270, 103)\n",
      "test trace shape: (259, 103)\n",
      "test trace shape: (259, 103)\n",
      "============= 4 =============\n",
      "Train chunk: 0\n",
      "Laps in train set: [ 7 18  8 10 15  6 30 16  0 20 27  2 23  4 11 28]\n",
      "train trace shape: (228, 91)\n"
     ]
    },
    {
     "name": "stderr",
     "output_type": "stream",
     "text": [
      "         1      -25486.5659             +nan\n",
      "         2      -23243.9293       +2242.6366\n",
      "         3      -22808.5860        +435.3432\n",
      "         4      -22689.0626        +119.5234\n",
      "         5      -22684.7780          +4.2846\n",
      "         6      -22630.3789         +54.3991\n",
      "         7      -22614.9525         +15.4264\n",
      "         8      -22512.9217        +102.0308\n",
      "         9      -22509.1116          +3.8101\n",
      "        10      -22490.0263         +19.0853\n",
      "        11      -22490.0192          +0.0071\n"
     ]
    },
    {
     "name": "stdout",
     "output_type": "stream",
     "text": [
      "[]\n",
      "Decoded state counts: [86  1  1  2  1  5  4  3  5  6  1 25  2  3  4  1 72  3  1  2]\n",
      "logprob_n: -98.64043526596485, length: 228\n",
      "test trace shape: (247, 91)\n",
      "test trace shape: (263, 91)\n",
      "test trace shape: (272, 91)\n",
      "test trace shape: (264, 91)\n",
      "test trace shape: (274, 91)\n",
      "test trace shape: (280, 91)\n",
      "test trace shape: (238, 91)\n",
      "test trace shape: (260, 91)\n",
      "test trace shape: (265, 91)\n",
      "Laps in train set: [26 21 25 24  3 17 14  1 22 12 31 29  5  9 13 19]\n",
      "train trace shape: (247, 95)\n"
     ]
    },
    {
     "name": "stderr",
     "output_type": "stream",
     "text": [
      "         1      -26844.4504             +nan\n",
      "         2      -24270.3950       +2574.0554\n",
      "         3      -23768.3310        +502.0640\n",
      "         4      -23742.1100         +26.2211\n",
      "         5      -23664.6265         +77.4835\n",
      "         6      -23664.5344          +0.0921\n",
      "         7      -23664.5318          +0.0026\n"
     ]
    },
    {
     "name": "stdout",
     "output_type": "stream",
     "text": [
      "[4]\n",
      "Decoded state counts: [ 11   1   1   9   3   5   9   3  10  23   2   5  20   2   2  10   9 111\n",
      "  11]\n",
      "logprob_n: -95.80781921865278, length: 247\n",
      "test trace shape: (228, 95)\n",
      "test trace shape: (263, 95)\n",
      "test trace shape: (272, 95)\n",
      "test trace shape: (264, 95)\n",
      "test trace shape: (274, 95)\n",
      "test trace shape: (280, 95)\n",
      "test trace shape: (238, 95)\n",
      "test trace shape: (260, 95)\n",
      "test trace shape: (265, 95)\n",
      "Train chunk: 1\n",
      "Laps in train set: [44 37 18 26 38 33 43 27 47 30 29 32 42 39 46 25]\n",
      "train trace shape: (272, 97)\n"
     ]
    },
    {
     "name": "stderr",
     "output_type": "stream",
     "text": [
      "         1      -26806.0591             +nan\n",
      "         2      -24759.1163       +2046.9428\n",
      "         3      -24397.2160        +361.9003\n",
      "         4      -24312.0411         +85.1749\n",
      "         5      -24169.6382        +142.4029\n",
      "         6      -24002.6889        +166.9493\n",
      "         7      -24002.6889          +0.0000\n"
     ]
    },
    {
     "name": "stdout",
     "output_type": "stream",
     "text": [
      "[1]\n",
      "Decoded state counts: [ 5  1  9  9  1 10  1 93  3  4 30  1 18  1  2  9 30 36  9]\n",
      "logprob_n: -88.24517581037031, length: 272\n",
      "test trace shape: (263, 97)\n",
      "test trace shape: (247, 97)\n",
      "test trace shape: (228, 97)\n",
      "test trace shape: (264, 97)\n",
      "test trace shape: (274, 97)\n",
      "test trace shape: (280, 97)\n",
      "test trace shape: (238, 97)\n",
      "test trace shape: (260, 97)\n",
      "test trace shape: (265, 97)\n",
      "Laps in train set: [17 20 31 36 23 19 16 34 22 41 35 40 21 45 28 24]\n",
      "train trace shape: (263, 100)\n"
     ]
    },
    {
     "name": "stderr",
     "output_type": "stream",
     "text": [
      "         1      -30633.2227             +nan\n",
      "         2      -27824.8792       +2808.3435\n",
      "         3      -27464.8367        +360.0424\n",
      "         4      -27342.9305        +121.9062\n",
      "         5      -27340.5784          +2.3521\n",
      "         6      -27268.1040         +72.4744\n",
      "         7      -27248.1465         +19.9575\n",
      "         8      -27211.8379         +36.3086\n",
      "         9      -27025.2393        +186.5986\n",
      "        10      -27003.3874         +21.8519\n",
      "        11      -26971.7684         +31.6191\n",
      "        12      -26971.7682          +0.0001\n",
      "         1      -24994.8165             +nan\n"
     ]
    },
    {
     "name": "stdout",
     "output_type": "stream",
     "text": [
      "[]\n",
      "Decoded state counts: [  2 123   3   4   3   5   1   7   3   5   1   7   1   5   1   3   1  82\n",
      "   1   5]\n",
      "logprob_n: -102.55421612800427, length: 263\n",
      "test trace shape: (272, 100)\n",
      "test trace shape: (247, 100)\n",
      "test trace shape: (228, 100)\n",
      "test trace shape: (264, 100)\n",
      "test trace shape: (274, 100)\n",
      "test trace shape: (280, 100)\n",
      "test trace shape: (238, 100)\n",
      "test trace shape: (260, 100)\n",
      "test trace shape: (265, 100)\n",
      "Train chunk: 2\n",
      "Laps in train set: [51 34 44 52 35 33 42 59 45 32 57 58 50 53 54 56]\n",
      "train trace shape: (274, 100)\n"
     ]
    },
    {
     "name": "stderr",
     "output_type": "stream",
     "text": [
      "         2      -22361.4407       +2633.3758\n",
      "         3      -21644.3511        +717.0895\n",
      "         4      -21553.1197         +91.2314\n",
      "         5      -21474.8861         +78.2336\n",
      "         6      -21192.5381        +282.3480\n",
      "         7      -21190.3320          +2.2061\n",
      "         8      -21190.3291          +0.0029\n"
     ]
    },
    {
     "name": "stdout",
     "output_type": "stream",
     "text": [
      "[]\n",
      "Decoded state counts: [  7  95   6   1   3   1   1   3   2   2   1   5   7   3   3 113   4   1\n",
      "   4  12]\n",
      "logprob_n: -77.3361641386484, length: 274\n",
      "test trace shape: (264, 100)\n",
      "test trace shape: (247, 100)\n",
      "test trace shape: (228, 100)\n",
      "test trace shape: (263, 100)\n",
      "test trace shape: (272, 100)\n",
      "test trace shape: (280, 100)\n",
      "test trace shape: (238, 100)\n",
      "test trace shape: (260, 100)\n",
      "test trace shape: (265, 100)\n",
      "Laps in train set: [48 46 36 40 49 63 55 62 43 38 39 37 60 61 47 41]\n",
      "train trace shape: (264, 99)\n"
     ]
    },
    {
     "name": "stderr",
     "output_type": "stream",
     "text": [
      "         1      -24194.1844             +nan\n",
      "         2      -22151.2806       +2042.9038\n",
      "         3      -21544.3331        +606.9475\n",
      "         4      -21242.5605        +301.7726\n",
      "         5      -21153.4321         +89.1283\n",
      "         6      -21077.4778         +75.9543\n",
      "         7      -21077.4712          +0.0066\n"
     ]
    },
    {
     "name": "stdout",
     "output_type": "stream",
     "text": [
      "[]\n",
      "Decoded state counts: [ 92   2   1   2   1   4   4   2   1   2   9   6   2   1   2   9 103  11\n",
      "   1   9]\n",
      "logprob_n: -79.83890579276175, length: 264\n",
      "test trace shape: (274, 99)\n",
      "test trace shape: (247, 99)\n",
      "test trace shape: (228, 99)\n",
      "test trace shape: (263, 99)\n",
      "test trace shape: (272, 99)\n",
      "test trace shape: (280, 99)\n",
      "test trace shape: (238, 99)\n",
      "test trace shape: (260, 99)\n",
      "test trace shape: (265, 99)\n",
      "Train chunk: 3\n",
      "Laps in train set: [50 56 77 79 65 73 48 63 61 66 78 53 76 62 64 74]\n",
      "train trace shape: (238, 91)\n"
     ]
    },
    {
     "name": "stderr",
     "output_type": "stream",
     "text": [
      "         1      -22763.4343             +nan\n",
      "         2      -21798.4550        +964.9793\n",
      "         3      -21749.1216         +49.3335\n",
      "         4      -21725.3992         +23.7223\n",
      "         5      -21725.3992          +0.0000\n"
     ]
    },
    {
     "name": "stdout",
     "output_type": "stream",
     "text": [
      "[0]\n",
      "Decoded state counts: [ 10   1   1  14   8  18 116   2   3   3  21   9   1   7   7   1   9   2\n",
      "   5]\n",
      "logprob_n: -91.28318994501109, length: 238\n",
      "test trace shape: (280, 91)\n",
      "test trace shape: (247, 91)\n",
      "test trace shape: (228, 91)\n",
      "test trace shape: (263, 91)\n",
      "test trace shape: (272, 91)\n",
      "test trace shape: (264, 91)\n",
      "test trace shape: (274, 91)\n",
      "test trace shape: (260, 91)\n",
      "test trace shape: (265, 91)\n",
      "Laps in train set: [60 55 71 49 58 72 51 57 54 70 69 52 75 67 68 59]\n",
      "train trace shape: (280, 101)\n"
     ]
    },
    {
     "name": "stderr",
     "output_type": "stream",
     "text": [
      "         1      -31326.5955             +nan\n",
      "         2      -29517.7363       +1808.8592\n",
      "         3      -29123.0243        +394.7120\n",
      "         4      -29085.6676         +37.3567\n",
      "         5      -28958.5490        +127.1186\n",
      "         6      -28926.5110         +32.0380\n",
      "         7      -28926.5110          +0.0000\n"
     ]
    },
    {
     "name": "stdout",
     "output_type": "stream",
     "text": [
      "[]\n",
      "Decoded state counts: [122   3   1   4   6   1   1   1   2   2   4   3   2   2   5 110   2   1\n",
      "   5   3]\n",
      "logprob_n: -103.30896787187476, length: 280\n",
      "test trace shape: (238, 101)\n",
      "test trace shape: (247, 101)\n",
      "test trace shape: (228, 101)\n",
      "test trace shape: (263, 101)\n",
      "test trace shape: (272, 101)\n",
      "test trace shape: (264, 101)\n",
      "test trace shape: (274, 101)\n",
      "test trace shape: (260, 101)\n",
      "test trace shape: (265, 101)\n",
      "Train chunk: 4\n",
      "Laps in train set: [89 66 90 79 83 70 65 87 93 69 85 84 94 68 81 67]\n",
      "train trace shape: (265, 99)\n"
     ]
    },
    {
     "name": "stderr",
     "output_type": "stream",
     "text": [
      "         1      -29868.0144             +nan\n",
      "         2      -27572.8683       +2295.1460\n",
      "         3      -26911.5371        +661.3312\n",
      "         4      -26499.1805        +412.3566\n",
      "         5      -26447.5829         +51.5976\n",
      "         6      -26433.5165         +14.0664\n",
      "         7      -26405.9866         +27.5299\n",
      "         8      -26385.9555         +20.0311\n",
      "         9      -26385.9555          +0.0000\n"
     ]
    },
    {
     "name": "stdout",
     "output_type": "stream",
     "text": [
      "[]\n",
      "Decoded state counts: [  7 105   1   2   1   4   8   1   2   2   5   3   1   2   2  93   3   9\n",
      "   9   5]\n",
      "logprob_n: -99.5696434436708, length: 265\n",
      "test trace shape: (260, 99)\n",
      "test trace shape: (247, 99)\n",
      "test trace shape: (228, 99)\n",
      "test trace shape: (263, 99)\n",
      "test trace shape: (272, 99)\n",
      "test trace shape: (264, 99)\n",
      "test trace shape: (274, 99)\n",
      "test trace shape: (280, 99)\n",
      "test trace shape: (238, 99)\n",
      "Laps in train set: [64 76 92 95 71 91 73 75 74 72 78 77 80 86 88 82]\n",
      "train trace shape: (260, 97)\n"
     ]
    },
    {
     "name": "stderr",
     "output_type": "stream",
     "text": [
      "         1      -21375.3523             +nan\n",
      "         2      -19613.9326       +1761.4197\n",
      "         3      -19285.9141        +328.0185\n",
      "         4      -19146.0368        +139.8773\n",
      "         5      -19118.1941         +27.8427\n",
      "         6      -19101.0714         +17.1227\n",
      "         7      -19100.7163          +0.3551\n",
      "         8      -19096.9189          +3.7974\n",
      "         9      -19074.6256         +22.2933\n",
      "        10      -18987.8560         +86.7696\n",
      "        11      -18975.8144         +12.0416\n",
      "        12      -18975.8144          +0.0000\n"
     ]
    },
    {
     "name": "stdout",
     "output_type": "stream",
     "text": [
      "[11]\n",
      "Decoded state counts: [  6 117   1  95   1   1   3   2   1   4   1   6   3   2   1   1   1   8\n",
      "   6]\n",
      "logprob_n: -72.98390139428092, length: 260\n",
      "test trace shape: (265, 97)\n",
      "test trace shape: (247, 97)\n",
      "test trace shape: (228, 97)\n",
      "test trace shape: (263, 97)\n",
      "test trace shape: (272, 97)\n",
      "test trace shape: (264, 97)\n",
      "test trace shape: (274, 97)\n",
      "test trace shape: (280, 97)\n",
      "test trace shape: (238, 97)\n",
      "============= 5 =============\n",
      "Train chunk: 0\n",
      "Laps in train set: [ 9 28 31 18  1 29 24 17 15  2  3 13 10  4  7 12]\n",
      "train trace shape: (236, 95)\n"
     ]
    },
    {
     "name": "stderr",
     "output_type": "stream",
     "text": [
      "         1      -23919.5644             +nan\n",
      "         2      -21074.2128       +2845.3516\n",
      "         3      -20607.9499        +466.2629\n",
      "         4      -20539.2654         +68.6845\n",
      "         5      -20436.5793        +102.6861\n",
      "         6      -20398.4716         +38.1077\n",
      "         7      -20398.4692          +0.0024\n"
     ]
    },
    {
     "name": "stdout",
     "output_type": "stream",
     "text": [
      "[]\n",
      "Decoded state counts: [ 2 92  1  4  7  2  5  4  1  1  7  9  2  1  5  4  4 78  4  3]\n",
      "logprob_n: -86.1868046550421, length: 236\n",
      "test trace shape: (239, 95)\n",
      "test trace shape: (279, 95)\n",
      "test trace shape: (256, 95)\n",
      "test trace shape: (281, 95)\n",
      "test trace shape: (257, 95)\n",
      "test trace shape: (254, 95)\n",
      "test trace shape: (264, 95)\n",
      "test trace shape: (269, 95)\n",
      "test trace shape: (256, 95)\n",
      "Laps in train set: [14 26  8 22 23  6 25 11  0 21 20 30 27 19 16  5]\n",
      "train trace shape: (239, 97)\n"
     ]
    },
    {
     "name": "stderr",
     "output_type": "stream",
     "text": [
      "         1      -26002.7224             +nan\n",
      "         2      -23099.3761       +2903.3462\n",
      "         3      -22572.1727        +527.2035\n",
      "         4      -22360.7588        +211.4139\n",
      "         5      -22233.8706        +126.8882\n",
      "         6      -22219.4891         +14.3815\n",
      "         7      -22212.6412          +6.8479\n",
      "         8      -22212.5960          +0.0451\n",
      "         9      -22206.6495          +5.9465\n",
      "        10      -22193.8904         +12.7592\n",
      "        11      -22176.4733         +17.4171\n",
      "        12      -22156.1103         +20.3630\n",
      "        13      -22144.7090         +11.4013\n",
      "        14      -22144.7073          +0.0017\n"
     ]
    },
    {
     "name": "stdout",
     "output_type": "stream",
     "text": [
      "[]\n",
      "Decoded state counts: [  1  76   2   2   7   9   2   1   2   6   3   3   3 104   2   1   6   1\n",
      "   7   1]\n",
      "logprob_n: -92.65548814399205, length: 239\n",
      "test trace shape: (236, 97)\n",
      "test trace shape: (279, 97)\n",
      "test trace shape: (256, 97)\n",
      "test trace shape: (281, 97)\n",
      "test trace shape: (257, 97)\n",
      "test trace shape: (254, 97)\n",
      "test trace shape: (264, 97)\n",
      "test trace shape: (269, 97)\n",
      "test trace shape: (256, 97)\n",
      "Train chunk: 1\n",
      "Laps in train set: [43 36 34 32 39 44 45 35 42 28 26 17 25 47 16 23]\n",
      "train trace shape: (256, 92)\n"
     ]
    },
    {
     "name": "stderr",
     "output_type": "stream",
     "text": [
      "         1      -21131.8730             +nan\n",
      "         2      -19330.4583       +1801.4146\n",
      "         3      -19073.4707        +256.9876\n",
      "         4      -18979.8198         +93.6509\n",
      "         5      -18943.1151         +36.7047\n",
      "         6      -18926.7486         +16.3664\n",
      "         7      -18889.1776         +37.5711\n",
      "         8      -18866.9925         +22.1851\n",
      "         9      -18860.1639          +6.8285\n",
      "        10      -18844.7007         +15.4633\n",
      "        11      -18844.6581          +0.0425\n",
      "        12      -18843.1920          +1.4661\n",
      "        13      -18831.2563         +11.9357\n",
      "        14      -18831.0300          +0.2263\n",
      "        15      -18831.0300          +0.0000\n"
     ]
    },
    {
     "name": "stdout",
     "output_type": "stream",
     "text": [
      "[]\n",
      "Decoded state counts: [102   3   1   3   5   2 100   1   5   1   5   7   1   6   3   1   4   2\n",
      "   2   2]\n",
      "logprob_n: -73.55871098461007, length: 256\n",
      "test trace shape: (279, 92)\n",
      "test trace shape: (239, 92)\n",
      "test trace shape: (236, 92)\n",
      "test trace shape: (281, 92)\n",
      "test trace shape: (257, 92)\n",
      "test trace shape: (254, 92)\n",
      "test trace shape: (264, 92)\n",
      "test trace shape: (269, 92)\n",
      "test trace shape: (256, 92)\n",
      "Laps in train set: [31 46 22 33 20 38 27 19 40 21 37 24 30 18 29 41]\n",
      "train trace shape: (279, 101)\n"
     ]
    },
    {
     "name": "stderr",
     "output_type": "stream",
     "text": [
      "         1      -35020.6098             +nan\n",
      "         2      -31752.8169       +3267.7928\n",
      "         3      -31176.5801        +576.2368\n",
      "         4      -30725.7130        +450.8671\n",
      "         5      -30570.9674        +154.7456\n",
      "         6      -30456.5304        +114.4371\n",
      "         7      -30234.2227        +222.3077\n",
      "         8      -30204.3827         +29.8400\n",
      "         9      -30204.3827          +0.0000\n"
     ]
    },
    {
     "name": "stdout",
     "output_type": "stream",
     "text": [
      "[]\n",
      "Decoded state counts: [  7 115   2   1   1   3   1   1   2   2   2   2   5   5 102   3   6   6\n",
      "  12   1]\n",
      "logprob_n: -108.25943618050783, length: 279\n",
      "test trace shape: (256, 101)\n",
      "test trace shape: (239, 101)\n",
      "test trace shape: (236, 101)\n",
      "test trace shape: (281, 101)\n",
      "test trace shape: (257, 101)\n",
      "test trace shape: (254, 101)\n",
      "test trace shape: (264, 101)\n",
      "test trace shape: (269, 101)\n",
      "test trace shape: (256, 101)\n",
      "Train chunk: 2\n",
      "Laps in train set: [54 38 47 55 56 51 53 49 48 58 37 33 63 42 43 62]\n",
      "train trace shape: (257, 101)\n"
     ]
    },
    {
     "name": "stderr",
     "output_type": "stream",
     "text": [
      "         1      -29130.7100             +nan\n",
      "         2      -26996.2082       +2134.5018\n",
      "         3      -26645.4890        +350.7192\n",
      "         4      -26617.8460         +27.6429\n",
      "         5      -26584.5908         +33.2552\n",
      "         6      -26447.1162        +137.4747\n",
      "         7      -26447.1162          +0.0000\n"
     ]
    },
    {
     "name": "stdout",
     "output_type": "stream",
     "text": [
      "[3]\n",
      "Decoded state counts: [104  30   2   1   9   2  14  15   3   7   5   1  11   2  15  22   1   5\n",
      "   8]\n",
      "logprob_n: -102.90706675654175, length: 257\n",
      "test trace shape: (281, 101)\n",
      "test trace shape: (239, 101)\n",
      "test trace shape: (236, 101)\n",
      "test trace shape: (279, 101)\n",
      "test trace shape: (256, 101)\n",
      "test trace shape: (254, 101)\n",
      "test trace shape: (264, 101)\n",
      "test trace shape: (269, 101)\n",
      "test trace shape: (256, 101)\n",
      "Laps in train set: [50 46 39 35 60 61 59 41 57 40 32 45 52 34 44 36]\n",
      "train trace shape: (281, 88)\n"
     ]
    },
    {
     "name": "stderr",
     "output_type": "stream",
     "text": [
      "         1      -22971.7583             +nan\n",
      "         2      -20786.9124       +2184.8459\n",
      "         3      -20336.2414        +450.6710\n",
      "         4      -20055.6744        +280.5670\n",
      "         5      -19896.5214        +159.1530\n",
      "         6      -19762.7928        +133.7285\n",
      "         7      -19747.7205         +15.0724\n",
      "         8      -19718.3840         +29.3365\n",
      "         9      -19704.6507         +13.7333\n",
      "        10      -19704.6157          +0.0350\n",
      "        11      -19651.7913         +52.8244\n",
      "        12      -19568.9580         +82.8333\n",
      "        13      -19516.6680         +52.2900\n",
      "        14      -19493.4925         +23.1755\n",
      "        15      -19465.2725         +28.2201\n",
      "        16      -19465.1274          +0.1451\n",
      "        17      -19465.1274          +0.0000\n"
     ]
    },
    {
     "name": "stdout",
     "output_type": "stream",
     "text": [
      "[]\n",
      "Decoded state counts: [  2  72 129   7   5   5   2   3   2   4   6   2  16   1   5   3   2  12\n",
      "   2   1]\n",
      "logprob_n: -69.2709158883789, length: 281\n",
      "test trace shape: (257, 88)\n",
      "test trace shape: (239, 88)\n",
      "test trace shape: (236, 88)\n",
      "test trace shape: (279, 88)\n",
      "test trace shape: (256, 88)\n",
      "test trace shape: (254, 88)\n",
      "test trace shape: (264, 88)\n",
      "test trace shape: (269, 88)\n",
      "test trace shape: (256, 88)\n",
      "Train chunk: 3\n",
      "Laps in train set: [54 52 70 74 60 53 71 76 58 68 51 63 77 75 67 73]\n",
      "train trace shape: (264, 102)\n"
     ]
    },
    {
     "name": "stderr",
     "output_type": "stream",
     "text": [
      "         1      -28944.5249             +nan\n",
      "         2      -26991.8831       +1952.6419\n",
      "         3      -26746.1147        +245.7684\n",
      "         4      -26623.1014        +123.0133\n",
      "         5      -26604.2131         +18.8883\n",
      "         6      -26587.1302         +17.0828\n",
      "         7      -26554.3399         +32.7903\n",
      "         8      -26554.3075          +0.0324\n",
      "         9      -26553.9086          +0.3989\n",
      "        10      -26547.8660          +6.0426\n",
      "        11      -26545.1524          +2.7136\n",
      "        12      -26545.1524          +0.0000\n"
     ]
    },
    {
     "name": "stdout",
     "output_type": "stream",
     "text": [
      "[0]\n",
      "Decoded state counts: [15  3 11  2 19 29  4 32 11  1  3  8  5 85  1  1  2 23  9]\n",
      "logprob_n: -100.54981956917172, length: 264\n",
      "test trace shape: (254, 102)\n",
      "test trace shape: (239, 102)\n",
      "test trace shape: (236, 102)\n",
      "test trace shape: (279, 102)\n",
      "test trace shape: (256, 102)\n",
      "test trace shape: (281, 102)\n",
      "test trace shape: (257, 102)\n",
      "test trace shape: (269, 102)\n",
      "test trace shape: (256, 102)\n",
      "Laps in train set: [50 64 66 59 65 78 55 69 48 79 56 62 61 49 57 72]\n",
      "train trace shape: (254, 91)\n"
     ]
    },
    {
     "name": "stderr",
     "output_type": "stream",
     "text": [
      "         1      -23371.8522             +nan\n",
      "         2      -20863.8999       +2507.9523\n",
      "         3      -20305.1937        +558.7062\n",
      "         4      -19835.4589        +469.7348\n",
      "         5      -19674.0372        +161.4217\n",
      "         6      -19606.4605         +67.5767\n",
      "         7      -19594.1748         +12.2857\n",
      "         8      -19561.1013         +33.0735\n",
      "         9      -19508.2845         +52.8168\n",
      "        10      -19502.4916          +5.7929\n",
      "        11      -19502.3225          +0.1691\n",
      "        12      -19491.5548         +10.7678\n",
      "        13      -19485.9896          +5.5652\n",
      "        14      -19482.3735          +3.6162\n",
      "        15      -19456.8947         +25.4788\n",
      "        16      -19456.8823          +0.0124\n",
      "        17      -19456.8823          +0.0000\n"
     ]
    },
    {
     "name": "stdout",
     "output_type": "stream",
     "text": [
      "[]\n",
      "Decoded state counts: [ 76   6   1   4   4   4   3  14   2   2   1   1   1   9   3   1   2 107\n",
      "   6   7]\n",
      "logprob_n: -76.601898835718, length: 254\n",
      "test trace shape: (264, 91)\n",
      "test trace shape: (239, 91)\n",
      "test trace shape: (236, 91)\n",
      "test trace shape: (279, 91)\n",
      "test trace shape: (256, 91)\n",
      "test trace shape: (281, 91)\n",
      "test trace shape: (257, 91)\n",
      "test trace shape: (269, 91)\n",
      "test trace shape: (256, 91)\n",
      "Train chunk: 4\n",
      "Laps in train set: [87 73 66 95 89 72 94 83 86 69 84 64 80 79 77 88]\n",
      "train trace shape: (256, 94)\n"
     ]
    },
    {
     "name": "stderr",
     "output_type": "stream",
     "text": [
      "         1      -24048.0132             +nan\n",
      "         2      -22726.3259       +1321.6873\n",
      "         3      -22521.4950        +204.8309\n",
      "         4      -22440.4591         +81.0358\n",
      "         5      -22384.0343         +56.4249\n",
      "         6      -22372.6603         +11.3740\n",
      "         7      -22372.6603          +0.0000\n"
     ]
    },
    {
     "name": "stdout",
     "output_type": "stream",
     "text": [
      "[11]\n",
      "Decoded state counts: [ 12   6   3   6   5   6  13   3   4   6   3   2  29   7   1 135   1   3\n",
      "  11]\n",
      "logprob_n: -87.39320410254643, length: 256\n",
      "test trace shape: (269, 94)\n",
      "test trace shape: (239, 94)\n",
      "test trace shape: (236, 94)\n",
      "test trace shape: (279, 94)\n",
      "test trace shape: (256, 94)\n",
      "test trace shape: (281, 94)\n",
      "test trace shape: (257, 94)\n",
      "test trace shape: (254, 94)\n",
      "test trace shape: (264, 94)\n",
      "Laps in train set: [91 71 74 81 93 78 65 70 68 67 90 76 82 92 75 85]\n",
      "train trace shape: (269, 103)\n"
     ]
    },
    {
     "name": "stderr",
     "output_type": "stream",
     "text": [
      "         1      -28201.1816             +nan\n",
      "         2      -25819.2459       +2381.9357\n",
      "         3      -25355.8767        +463.3692\n",
      "         4      -25026.5661        +329.3106\n",
      "         5      -24925.7788        +100.7873\n",
      "         6      -24801.0141        +124.7647\n",
      "         7      -24676.9652        +124.0489\n",
      "         8      -24617.9682         +58.9970\n",
      "         9      -24523.2718         +94.6964\n",
      "        10      -24449.2171         +74.0547\n",
      "        11      -24449.2171          +0.0000\n"
     ]
    },
    {
     "name": "stdout",
     "output_type": "stream",
     "text": [
      "[]\n",
      "Decoded state counts: [ 72   1   1   4   5  23   1   3  13   3   3   3   2   3   2   2   3   5\n",
      "   5 115]\n",
      "logprob_n: -90.88928299981785, length: 269\n",
      "test trace shape: (256, 103)\n",
      "test trace shape: (239, 103)\n",
      "test trace shape: (236, 103)\n",
      "test trace shape: (279, 103)\n",
      "test trace shape: (256, 103)\n",
      "test trace shape: (281, 103)\n",
      "test trace shape: (257, 103)\n",
      "test trace shape: (254, 103)\n",
      "test trace shape: (264, 103)\n",
      "============= 6 =============\n"
     ]
    }
   ],
   "source": [
    "i_iter=0\n",
    "while i_iter<5:\n",
    "    try:\n",
    "        if self.mode == 'HMM':\n",
    "            self.HMMSetCrossValid(text=False, del_salstate=True)\n",
    "        elif self.mode == 'GP':\n",
    "            self.GaussianSetCrossValid(text=False)\n",
    "        i_iter+=1\n",
    "    except:\n",
    "        print('failed')\n",
    "        pass"
   ]
  },
  {
   "cell_type": "markdown",
   "metadata": {},
   "source": [
    "### Gaussian/Poisson Cross Validation: Debug log(0)"
   ]
  },
  {
   "cell_type": "code",
   "execution_count": null,
   "metadata": {},
   "outputs": [],
   "source": [
    "%matplotlib"
   ]
  },
  {
   "cell_type": "code",
   "execution_count": null,
   "metadata": {},
   "outputs": [],
   "source": [
    "self.Trace_train.mean(axis=0).shape"
   ]
  },
  {
   "cell_type": "code",
   "execution_count": null,
   "metadata": {},
   "outputs": [],
   "source": [
    "for i in range(81):\n",
    "    plt.plot(self.Trace_train[:,i]/np.max(self.Trace_train[:,i])+i)"
   ]
  },
  {
   "cell_type": "code",
   "execution_count": null,
   "metadata": {},
   "outputs": [],
   "source": [
    "plt.plot(np.mean(self.Trace_train,axis=0))"
   ]
  },
  {
   "cell_type": "code",
   "execution_count": null,
   "metadata": {},
   "outputs": [],
   "source": [
    "mean_cal.shape"
   ]
  },
  {
   "cell_type": "code",
   "execution_count": null,
   "metadata": {},
   "outputs": [],
   "source": [
    "plt.plot(mean_cal[16,:])\n",
    "plt.show()"
   ]
  },
  {
   "cell_type": "code",
   "execution_count": null,
   "metadata": {},
   "outputs": [],
   "source": [
    "# d = np.unique(self.Distance0)\n",
    "# dbins = d.shape[0]\n",
    "mean_cal, std_cal, not_once, once = hcv.EstimateModelParam(self.Trace_train, self.Distance_train, d, dbins)"
   ]
  },
  {
   "cell_type": "code",
   "execution_count": null,
   "metadata": {},
   "outputs": [],
   "source": [
    "np.where(np.sum(mean_cal, axis=1)==0)[0]"
   ]
  },
  {
   "cell_type": "code",
   "execution_count": null,
   "metadata": {},
   "outputs": [],
   "source": [
    "from scipy.stats import norm, poisson"
   ]
  },
  {
   "cell_type": "code",
   "execution_count": null,
   "metadata": {},
   "outputs": [],
   "source": [
    "err_rate, logprob, decoded_pos_prob, Decoded_pos = hcv.test_Model(self.Trace_train, self.Distance_train, d, dbins, mean_cal, std_cal, not_once, once, self.name, plot=True)"
   ]
  },
  {
   "cell_type": "code",
   "execution_count": null,
   "metadata": {},
   "outputs": [],
   "source": [
    "plt.matshow(decoded_pos_prob,vmax=300)\n",
    "plt.colorbar()"
   ]
  },
  {
   "cell_type": "code",
   "execution_count": null,
   "metadata": {},
   "outputs": [],
   "source": [
    "k = poisson.pmf(self.Trace_train,mu=mean_cal[16,:])\n",
    "k.shape"
   ]
  },
  {
   "cell_type": "code",
   "execution_count": null,
   "metadata": {},
   "outputs": [],
   "source": [
    "np.log(5+1e-100)"
   ]
  },
  {
   "cell_type": "code",
   "execution_count": null,
   "metadata": {},
   "outputs": [],
   "source": [
    "np.log(5)"
   ]
  },
  {
   "cell_type": "code",
   "execution_count": null,
   "metadata": {},
   "outputs": [],
   "source": [
    "plt.plot(self.Distance_train)\n",
    "plt.plot(self.Distance0[self.train_idx[0][1]],'.')"
   ]
  },
  {
   "cell_type": "code",
   "execution_count": null,
   "metadata": {},
   "outputs": [],
   "source": [
    "mean_cal, std_cal, not_once, once = hcv.EstimateModelParam(self.Trace_train, self.Distance_train, d, dbins)\n",
    "err_rate, logprob, decoded_pos_prob = hcv.test_Model(self.Trace_train, self.Distance_train, d, dbins, mean_cal, std_cal, not_once, once, self.name, plot=True)         "
   ]
  },
  {
   "cell_type": "code",
   "execution_count": null,
   "metadata": {},
   "outputs": [],
   "source": [
    "plt.matshow(decoded_pos_prob)\n",
    "plt.plot(np.arange(235),dec_state,'*')"
   ]
  },
  {
   "cell_type": "code",
   "execution_count": null,
   "metadata": {},
   "outputs": [],
   "source": [
    "dec_state = np.argmax(decoded_pos_prob.T, axis = 1)"
   ]
  },
  {
   "cell_type": "code",
   "execution_count": null,
   "metadata": {},
   "outputs": [],
   "source": [
    "i_iter=0\n",
    "while i_iter<19:\n",
    "    try:\n",
    "        self.GaussianSetCrossValid(text=False)\n",
    "        i_iter+=1\n",
    "    except:\n",
    "        print('failed')\n",
    "        pass"
   ]
  },
  {
   "cell_type": "markdown",
   "metadata": {},
   "source": [
    "# Show Results"
   ]
  },
  {
   "cell_type": "code",
   "execution_count": null,
   "metadata": {},
   "outputs": [],
   "source": [
    "self=CalHMM.load_object('/Users/daiyiluo/Documents/ELEC599/Trace_KQ086_210110_8.pkl')"
   ]
  },
  {
   "cell_type": "code",
   "execution_count": 17,
   "metadata": {},
   "outputs": [
    {
     "data": {
      "image/png": "[encoded data removed]",
      "text/plain": [
       "<Figure size 864x72 with 1 Axes>"
      ]
     },
     "metadata": {
      "needs_background": "light"
     },
     "output_type": "display_data"
    },
    {
     "data": {
      "image/png": "[encoded data removed]",
      "text/plain": [
       "<Figure size 864x72 with 1 Axes>"
      ]
     },
     "metadata": {
      "needs_background": "light"
     },
     "output_type": "display_data"
    },
    {
     "data": {
      "image/png": "[encoded data removed]",
      "text/plain": [
       "<Figure size 864x72 with 1 Axes>"
      ]
     },
     "metadata": {
      "needs_background": "light"
     },
     "output_type": "display_data"
    },
    {
     "data": {
      "image/png": "[encoded data removed]",
      "text/plain": [
       "<Figure size 864x72 with 1 Axes>"
      ]
     },
     "metadata": {
      "needs_background": "light"
     },
     "output_type": "display_data"
    },
    {
     "data": {
      "image/png": "[encoded data removed]",
      "text/plain": [
       "<Figure size 864x72 with 1 Axes>"
      ]
     },
     "metadata": {
      "needs_background": "light"
     },
     "output_type": "display_data"
    }
   ],
   "source": [
    "for i in range(len(self.lap_range)):\n",
    "    plt.figure(figsize=(12,1))\n",
    "    plt.plot(self.Distance0)\n",
    "    plt.plot(self.train_idx[i][0],self.Distance0[self.train_idx[i][0]],'.',label='set0')\n",
    "    plt.plot(self.train_idx[i][1],self.Distance0[self.train_idx[i][1]],'.',label='set1')\n",
    "    plt.title(f'chunk{i}')\n",
    "    plt.ylabel('position')\n",
    "    plt.legend()\n",
    "    plt.show()"
   ]
  },
  {
   "cell_type": "code",
   "execution_count": null,
   "metadata": {},
   "outputs": [],
   "source": [
    "%matplotlib inline"
   ]
  },
  {
   "cell_type": "code",
   "execution_count": 19,
   "metadata": {},
   "outputs": [
    {
     "data": {
      "image/png": "[encoded data removed]",
      "text/plain": [
       "<Figure size 288x144 with 1 Axes>"
      ]
     },
     "metadata": {
      "needs_background": "light"
     },
     "output_type": "display_data"
    },
    {
     "data": {
      "image/png": "[encoded data removed]",
      "text/plain": [
       "<Figure size 288x144 with 1 Axes>"
      ]
     },
     "metadata": {
      "needs_background": "light"
     },
     "output_type": "display_data"
    },
    {
     "data": {
      "image/png": "[encoded data removed]",
      "text/plain": [
       "<Figure size 288x144 with 1 Axes>"
      ]
     },
     "metadata": {
      "needs_background": "light"
     },
     "output_type": "display_data"
    },
    {
     "data": {
      "image/png": "[encoded data removed]",
      "text/plain": [
       "<Figure size 288x144 with 1 Axes>"
      ]
     },
     "metadata": {
      "needs_background": "light"
     },
     "output_type": "display_data"
    },
    {
     "data": {
      "image/png": "[encoded data removed]",
      "text/plain": [
       "<Figure size 288x144 with 1 Axes>"
      ]
     },
     "metadata": {
      "needs_background": "light"
     },
     "output_type": "display_data"
    }
   ],
   "source": [
    "n=len(self.lap_range)\n",
    "for i in range(n):\n",
    "    plt.figure(figsize=(4,2))\n",
    "    plt.boxplot(self.logprob_test[i])\n",
    "    plt.xticks(np.arange(1,n+1),np.arange(n))\n",
    "    plt.xlabel('Test chunk')\n",
    "    plt.ylabel('Log probability')\n",
    "    plt.title(f'Train chunk: {i}')\n",
    "    plt.show()"
   ]
  },
  {
   "cell_type": "code",
   "execution_count": null,
   "metadata": {},
   "outputs": [],
   "source": [
    "self.folder"
   ]
  },
  {
   "cell_type": "code",
   "execution_count": null,
   "metadata": {},
   "outputs": [],
   "source": [
    "CalHMM.save_object(self,f'{self.folder}/{self.name}')"
   ]
  },
  {
   "cell_type": "code",
   "execution_count": 13,
   "metadata": {},
   "outputs": [
    {
     "data": {
      "image/png": "[encoded data removed]",
      "text/plain": [
       "<Figure size 288x144 with 1 Axes>"
      ]
     },
     "metadata": {
      "needs_background": "light"
     },
     "output_type": "display_data"
    },
    {
     "data": {
      "image/png": "[encoded data removed]",
      "text/plain": [
       "<Figure size 288x144 with 1 Axes>"
      ]
     },
     "metadata": {
      "needs_background": "light"
     },
     "output_type": "display_data"
    },
    {
     "data": {
      "image/png": "[encoded data removed]",
      "text/plain": [
       "<Figure size 288x144 with 1 Axes>"
      ]
     },
     "metadata": {
      "needs_background": "light"
     },
     "output_type": "display_data"
    },
    {
     "data": {
      "image/png": "[encoded data removed]",
      "text/plain": [
       "<Figure size 288x144 with 1 Axes>"
      ]
     },
     "metadata": {
      "needs_background": "light"
     },
     "output_type": "display_data"
    },
    {
     "data": {
      "image/png": "[encoded data removed]",
      "text/plain": [
       "<Figure size 288x144 with 1 Axes>"
      ]
     },
     "metadata": {
      "needs_background": "light"
     },
     "output_type": "display_data"
    }
   ],
   "source": [
    "for i in range(n):\n",
    "    plt.figure(figsize=(4,2))\n",
    "    plt.boxplot(self.errrate_test[i])\n",
    "    plt.xticks(np.arange(1,n+1),np.arange(n))\n",
    "    plt.xlabel('Test chunk')\n",
    "    plt.ylabel('Error rate')\n",
    "    plt.title(f'Train chunk: {i}')\n",
    "    plt.show()"
   ]
  },
  {
   "cell_type": "code",
   "execution_count": 50,
   "metadata": {},
   "outputs": [
    {
     "name": "stdout",
     "output_type": "stream",
     "text": [
      "logprob_test_mean: [[-285.07650301 -248.69453494 -267.73388627 -296.8248324  -317.5469827 ]\n",
      " [-255.76182627 -232.81418186 -210.62845749 -270.12892216 -283.56565982]\n",
      " [-283.34963047 -230.3663459  -219.62074119 -242.74120186 -267.94943247]\n",
      " [-323.2921819  -281.84187063 -241.87754525 -298.75519842 -278.26279166]\n",
      " [-341.35857597 -314.98387025 -286.68876596 -283.79271603 -318.81667706]]\n",
      "errrate_test_mean: [[0.19901733 0.17799759 0.22412856 0.25784952 0.26988156]\n",
      " [0.20271275 0.15220268 0.17344463 0.23693555 0.25662061]\n",
      " [0.21902077 0.16521079 0.14742899 0.18711886 0.2227502 ]\n",
      " [0.23786964 0.20490411 0.18368997 0.20668859 0.21284273]\n",
      " [0.26599332 0.23056897 0.20613673 0.19460871 0.19702688]]\n"
     ]
    }
   ],
   "source": [
    "self.estimate_mean()"
   ]
  },
  {
   "cell_type": "code",
   "execution_count": 51,
   "metadata": {},
   "outputs": [],
   "source": [
    "if self.win>1:\n",
    "    logprob_test_mean = self.logprob_test_mean.copy()\n",
    "    errrate_test_mean = self.errrate_test_mean.copy()\n",
    "    n = len(self.lap_range)\n",
    "    for i in range(n-1):\n",
    "        logprob_test_mean[i,i+1]=None\n",
    "        logprob_test_mean[i+1,i]=None\n",
    "        errrate_test_mean[i,i+1]=None\n",
    "        errrate_test_mean[i+1,i]=None\n",
    "\n",
    "    tick=[]\n",
    "    tick.append([f'set{i}' for i in range(n)])\n",
    "#     plt.figure(figsize=(4,4))\n",
    "    plt.imshow(logprob_test_mean)\n",
    "    plt.xlabel('Test set')\n",
    "    plt.ylabel('Train set')\n",
    "    plt.xticks(np.arange(n),tick[0])\n",
    "    plt.yticks(np.arange(n),tick[0])\n",
    "    plt.title('Loglikehood/Total Number of Frames')\n",
    "    plt.colorbar()\n",
    "    plt.show()\n",
    "\n",
    "    plt.imshow(errrate_test_mean)\n",
    "    plt.xlabel('Test set')\n",
    "    plt.ylabel('Train set')\n",
    "    plt.xticks(np.arange(n),tick[0])\n",
    "    plt.yticks(np.arange(n),tick[0])\n",
    "    plt.title('Error Rate')\n",
    "    plt.colorbar()\n",
    "    plt.show()"
   ]
  },
  {
   "cell_type": "code",
   "execution_count": null,
   "metadata": {},
   "outputs": [],
   "source": [
    "tick=[]\n",
    "tick.append([f'set{i}' for i in range(n)])\n",
    "tick[0]"
   ]
  },
  {
   "cell_type": "code",
   "execution_count": null,
   "metadata": {},
   "outputs": [],
   "source": [
    "if self.win==1:\n",
    "    logprob_test_mean = self.logprob_test_mean.copy()\n",
    "    errrate_test_mean = self.errrate_test_mean.copy()\n",
    "\n",
    "    plt.imshow(logprob_test_mean, cmap='hot')\n",
    "    plt.xlabel('Test set (laps)')\n",
    "    plt.ylabel('Train set (laps)')\n",
    "    plt.xticks(np.arange(self.n_chunks+1)-0.5,np.arange(self.n_chunks+1)*self.n_laps_perchunk)\n",
    "    plt.yticks(np.arange(self.n_chunks+1)-0.5,np.arange(self.n_chunks+1)*self.n_laps_perchunk)\n",
    "    plt.title('Loglikehood/Total Number of Frames')\n",
    "    plt.colorbar()\n",
    "    plt.show()\n",
    "\n",
    "    plt.imshow(errrate_test_mean, cmap='hot')\n",
    "    plt.xlabel('Test set (laps)')\n",
    "    plt.ylabel('Train set (laps)')\n",
    "    plt.xticks(np.arange(self.n_chunks+1)-0.5,np.arange(self.n_chunks+1)*self.n_laps_perchunk)\n",
    "    plt.yticks(np.arange(self.n_chunks+1)-0.5,np.arange(self.n_chunks+1)*self.n_laps_perchunk)\n",
    "    plt.title('Error Rate')\n",
    "    plt.colorbar()\n",
    "    plt.show()"
   ]
  },
  {
   "cell_type": "code",
   "execution_count": null,
   "metadata": {},
   "outputs": [],
   "source": []
  },
  {
   "cell_type": "markdown",
   "metadata": {},
   "source": [
    "## Test HMM failure"
   ]
  },
  {
   "cell_type": "code",
   "execution_count": null,
   "metadata": {},
   "outputs": [],
   "source": [
    "import hmmlearn.hmm"
   ]
  },
  {
   "cell_type": "code",
   "execution_count": null,
   "metadata": {},
   "outputs": [],
   "source": [
    "imp.reload(hmmlearn.hmm)"
   ]
  },
  {
   "cell_type": "code",
   "execution_count": null,
   "metadata": {},
   "outputs": [],
   "source": [
    "self = hcv.datainfo(folder, timebin, name, n_chunks, k, win,normalize=True)\n",
    "train_lap, train_lap_len, train_idx = self.separate_chunk_set()\n",
    "Trace_train = self.Trace0[train_idx[3][0],:]\n",
    "Distance_train = self.Distance0[train_idx[3][0]]\n",
    "len_train = train_lap_len[3][0]"
   ]
  },
  {
   "cell_type": "code",
   "execution_count": null,
   "metadata": {},
   "outputs": [],
   "source": [
    "Trace_train = self.Trace_train.copy()\n",
    "Distance_train = self.Distance_train.copy()\n",
    "len_train = self.len_train.copy()"
   ]
  },
  {
   "cell_type": "markdown",
   "metadata": {},
   "source": [
    "### Run HMM one iteration at a time"
   ]
  },
  {
   "cell_type": "code",
   "execution_count": null,
   "metadata": {},
   "outputs": [],
   "source": [
    "def check_clustering(origin, Trace_train, len_train):\n",
    "    _, posterior_states = origin.score_samples(Trace_train, len_train)\n",
    "    pre_state = np.argmax(posterior_states, axis=1)\n",
    "    value, count = np.unique(pre_state, return_counts=True)\n",
    "    print(f'Decoded state after first iteration: \\nstate: {value}\\noccurrence: {count}')"
   ]
  },
  {
   "cell_type": "code",
   "execution_count": null,
   "metadata": {},
   "outputs": [],
   "source": [
    "origin = hmmlearn.hmm.PoissonHMM(n_components=20, verbose=True, n_iter=1)\n",
    "origin, stats = origin.fit(Trace_train, len_train, first=True)\n",
    "print([origin.transmat_.sum(axis=1), stats['trans'].sum(axis=1)])\n",
    "check_clustering(origin, Trace_train, len_train)"
   ]
  },
  {
   "cell_type": "code",
   "execution_count": null,
   "metadata": {},
   "outputs": [],
   "source": [
    "origin = hmmlearn.hmm.PoissonHMM(n_components=20, verbose=True, n_iter=1)\n",
    "origin, stats = origin.fit(Trace_train, len_train, first=True)\n",
    "print([origin.transmat_.sum(axis=1), stats['trans'].sum(axis=1)])\n",
    "check_clustering(origin, Trace_train, len_train)"
   ]
  },
  {
   "cell_type": "code",
   "execution_count": null,
   "metadata": {
    "scrolled": true
   },
   "outputs": [],
   "source": [
    "for i in range(10):\n",
    "    pre_stats = stats.copy()\n",
    "    pre_trans = origin.transmat_.copy()\n",
    "    origin, stats = origin.fit(Trace_train, len_train, first=False)\n",
    "    print([np.where(origin.transmat_.sum(axis=1)==0), np.where(stats['trans'].sum(axis=1)==0)])\n",
    "    check_clustering(origin, Trace_train, len_train)"
   ]
  },
  {
   "cell_type": "markdown",
   "metadata": {},
   "source": [
    "### Try to figure out why one state salient"
   ]
  },
  {
   "cell_type": "code",
   "execution_count": 12,
   "metadata": {
    "collapsed": true
   },
   "outputs": [
    {
     "name": "stderr",
     "output_type": "stream",
     "text": [
      "         1      -23889.9311             +nan\n",
      "         2      -19522.0669       +4367.8642\n",
      "         3      -18848.7714        +673.2956\n",
      "         4      -18465.0760        +383.6954\n",
      "         5      -18316.4056        +148.6704\n",
      "         6      -18222.7710         +93.6346\n",
      "         7      -18180.8617         +41.9092\n",
      "         8      -18186.2064          -5.3446\n",
      "The log probability of the last iteration decreased; reverting to previous state\n"
     ]
    },
    {
     "data": {
      "text/plain": [
       "(PoissonHMM(n_components=20, n_iter=20, verbose=True),\n",
       " {'nobs': 16,\n",
       "  'start': array([1.19999629e+001, 1.00000000e+000, 0.00000000e+000, 0.00000000e+000,\n",
       "         2.57164326e-262, 0.00000000e+000, 1.65326441e-122, 0.00000000e+000,\n",
       "         0.00000000e+000, 2.51017162e-274, 0.00000000e+000, 4.40895570e-029,\n",
       "         0.00000000e+000, 1.00003713e+000, 1.63041663e-320, 0.00000000e+000,\n",
       "         2.00000000e+000, 1.05842413e-294, 2.08432006e-296, 1.76911097e-095]),\n",
       "  'trans': array([[9.96058904e+001, 1.00000000e+000, 2.00000000e+000,\n",
       "          3.01732991e-046, 1.48453469e+000, 1.00000000e+000,\n",
       "          5.79644673e-027, 1.00000000e+000, 1.00000000e+000,\n",
       "          1.00000000e+000, 2.00000000e+000, 1.08907257e+001,\n",
       "          1.00000000e+000, 4.00552403e+000, 2.43224293e-135,\n",
       "          0.00000000e+000, 1.22796397e+001, 4.00000000e+000,\n",
       "          3.28542659e-134, 9.99999999e-001],\n",
       "         [1.00000000e+000, 3.00000000e+000, 4.16236761e-197,\n",
       "          4.75479215e-121, 2.00553022e-089, 1.39625732e-123,\n",
       "          2.55446883e-134, 0.00000000e+000, 6.45917456e-106,\n",
       "          5.70035682e-170, 6.30532489e-162, 6.54767109e-093,\n",
       "          1.61127819e-209, 6.89958212e-126, 8.06303480e-166,\n",
       "          0.00000000e+000, 1.00000000e+000, 9.19481288e-164,\n",
       "          9.41484564e-273, 2.70113534e-156],\n",
       "         [8.84333373e-041, 7.18705047e-170, 0.00000000e+000,\n",
       "          0.00000000e+000, 3.59407118e-273, 0.00000000e+000,\n",
       "          2.58145902e-217, 0.00000000e+000, 0.00000000e+000,\n",
       "          0.00000000e+000, 0.00000000e+000, 1.00000000e+000,\n",
       "          0.00000000e+000, 5.56484180e-143, 5.17346019e-319,\n",
       "          0.00000000e+000, 5.26890151e-118, 0.00000000e+000,\n",
       "          1.00000000e+000, 1.27377444e-221],\n",
       "         [1.09351948e-209, 4.24469108e-192, 0.00000000e+000,\n",
       "          0.00000000e+000, 0.00000000e+000, 0.00000000e+000,\n",
       "          1.52461662e-239, 0.00000000e+000, 0.00000000e+000,\n",
       "          0.00000000e+000, 0.00000000e+000, 4.85894763e-227,\n",
       "          0.00000000e+000, 3.91727005e-177, 0.00000000e+000,\n",
       "          0.00000000e+000, 1.00000000e+000, 0.00000000e+000,\n",
       "          0.00000000e+000, 7.52294600e-244],\n",
       "         [2.00000000e+000, 1.14064782e-248, 0.00000000e+000,\n",
       "          8.98156280e-284, 2.00000000e+000, 0.00000000e+000,\n",
       "          3.60248819e-273, 1.35150344e-264, 0.00000000e+000,\n",
       "          0.00000000e+000, 0.00000000e+000, 1.81523932e-154,\n",
       "          0.00000000e+000, 1.00000000e+000, 0.00000000e+000,\n",
       "          0.00000000e+000, 1.56860203e-128, 2.54434028e-293,\n",
       "          0.00000000e+000, 4.30587464e-304],\n",
       "         [6.23500104e-260, 0.00000000e+000, 0.00000000e+000,\n",
       "          0.00000000e+000, 0.00000000e+000, 1.00000000e+000,\n",
       "          0.00000000e+000, 0.00000000e+000, 0.00000000e+000,\n",
       "          0.00000000e+000, 0.00000000e+000, 0.00000000e+000,\n",
       "          0.00000000e+000, 0.00000000e+000, 0.00000000e+000,\n",
       "          0.00000000e+000, 0.00000000e+000, 0.00000000e+000,\n",
       "          0.00000000e+000, 0.00000000e+000],\n",
       "         [1.00000002e+000, 6.14751326e-205, 3.58978351e-287,\n",
       "          3.59556904e-198, 2.48387196e-196, 5.26863038e-282,\n",
       "          1.00000000e+000, 0.00000000e+000, 2.52155672e-278,\n",
       "          1.01075144e-272, 1.54181949e-255, 5.20925758e-131,\n",
       "          9.39497721e-296, 1.04644002e-173, 1.52207386e-227,\n",
       "          0.00000000e+000, 1.54906440e-126, 6.85204792e-225,\n",
       "          0.00000000e+000, 8.28597534e-234],\n",
       "         [1.29349830e-100, 0.00000000e+000, 0.00000000e+000,\n",
       "          0.00000000e+000, 0.00000000e+000, 0.00000000e+000,\n",
       "          0.00000000e+000, 0.00000000e+000, 0.00000000e+000,\n",
       "          0.00000000e+000, 0.00000000e+000, 4.40024690e-068,\n",
       "          0.00000000e+000, 3.85328823e-034, 0.00000000e+000,\n",
       "          0.00000000e+000, 1.74447712e-317, 2.01117760e-134,\n",
       "          0.00000000e+000, 0.00000000e+000],\n",
       "         [1.00000000e+000, 6.31262388e-122, 0.00000000e+000,\n",
       "          0.00000000e+000, 3.85069389e-267, 0.00000000e+000,\n",
       "          1.05050220e-141, 0.00000000e+000, 1.68930585e-169,\n",
       "          0.00000000e+000, 3.18672342e-321, 2.88755164e-121,\n",
       "          2.52823436e-299, 3.67388956e-094, 7.62002837e-286,\n",
       "          0.00000000e+000, 6.33972161e-058, 0.00000000e+000,\n",
       "          2.51476583e-230, 9.56189542e-159],\n",
       "         [1.00000000e+000, 9.25169234e-104, 0.00000000e+000,\n",
       "          0.00000000e+000, 0.00000000e+000, 0.00000000e+000,\n",
       "          5.02528710e-256, 0.00000000e+000, 2.01492078e-078,\n",
       "          6.21496381e-098, 0.00000000e+000, 5.01382441e-108,\n",
       "          0.00000000e+000, 1.08301888e-181, 0.00000000e+000,\n",
       "          0.00000000e+000, 1.57619900e-112, 0.00000000e+000,\n",
       "          0.00000000e+000, 2.47963737e-260],\n",
       "         [1.99999685e+000, 8.35127116e-151, 0.00000000e+000,\n",
       "          0.00000000e+000, 1.31681922e-289, 0.00000000e+000,\n",
       "          7.23729785e-188, 0.00000000e+000, 0.00000000e+000,\n",
       "          0.00000000e+000, 1.27404088e-247, 3.14518000e-006,\n",
       "          9.04208683e-316, 3.43374850e-124, 0.00000000e+000,\n",
       "          0.00000000e+000, 6.82105773e-066, 1.08775396e-249,\n",
       "          4.33388258e-265, 2.56706617e-199],\n",
       "         [1.03807999e+001, 1.00000000e+000, 5.75602775e-097,\n",
       "          1.00000000e+000, 5.15465305e-001, 7.36771483e-095,\n",
       "          5.62586518e-093, 0.00000000e+000, 1.78393214e-119,\n",
       "          3.20489304e-129, 2.73351283e-067, 7.86182465e+000,\n",
       "          2.18440400e-101, 1.05017106e-041, 6.76985940e-066,\n",
       "          1.00000000e+000, 4.55473498e-019, 1.50446329e-063,\n",
       "          4.33690411e-186, 5.45412239e-088],\n",
       "         [1.00000000e+000, 0.00000000e+000, 0.00000000e+000,\n",
       "          2.42837507e-314, 5.57792184e-285, 0.00000000e+000,\n",
       "          1.38406837e-243, 0.00000000e+000, 0.00000000e+000,\n",
       "          0.00000000e+000, 0.00000000e+000, 1.10717598e-261,\n",
       "          1.00000000e+000, 5.08531869e-258, 0.00000000e+000,\n",
       "          0.00000000e+000, 1.89887820e-227, 0.00000000e+000,\n",
       "          0.00000000e+000, 0.00000000e+000],\n",
       "         [8.99707792e+000, 2.22524497e-117, 2.25622617e-171,\n",
       "          2.57735178e-095, 2.24683331e-069, 2.88796922e-169,\n",
       "          2.88852766e-087, 0.00000000e+000, 1.27439040e-187,\n",
       "          8.62966731e-145, 3.16107886e-066, 3.40724205e-074,\n",
       "          4.79569399e-178, 3.00259146e+000, 2.18758731e-146,\n",
       "          0.00000000e+000, 4.18081395e-058, 4.98407248e-138,\n",
       "          1.00000000e+000, 4.74894946e-136],\n",
       "         [1.65255608e-135, 2.34386719e-318, 0.00000000e+000,\n",
       "          1.37424547e-290, 0.00000000e+000, 0.00000000e+000,\n",
       "          0.00000000e+000, 0.00000000e+000, 0.00000000e+000,\n",
       "          0.00000000e+000, 0.00000000e+000, 1.00000000e+000,\n",
       "          0.00000000e+000, 1.43630724e-281, 4.76936238e-278,\n",
       "          0.00000000e+000, 3.17567284e-220, 1.62261924e-299,\n",
       "          0.00000000e+000, 8.60141658e-243],\n",
       "         [9.22171238e-175, 1.50126420e-187, 0.00000000e+000,\n",
       "          0.00000000e+000, 0.00000000e+000, 0.00000000e+000,\n",
       "          5.39227073e-235, 0.00000000e+000, 0.00000000e+000,\n",
       "          0.00000000e+000, 0.00000000e+000, 1.01706088e-134,\n",
       "          0.00000000e+000, 1.00000000e+000, 0.00000000e+000,\n",
       "          0.00000000e+000, 2.98548848e-107, 0.00000000e+000,\n",
       "          0.00000000e+000, 2.66071883e-239],\n",
       "         [7.97640803e+000, 3.55443937e-030, 2.16483985e-079,\n",
       "          1.02494017e-132, 3.20623927e-017, 2.77099475e-077,\n",
       "          1.00000002e+000, 9.59032239e-260, 1.24375226e-116,\n",
       "          3.65617466e-304, 5.32686595e-046, 2.00008345e+000,\n",
       "          7.50614886e-079, 2.99954923e+000, 1.00000000e+000,\n",
       "          0.00000000e+000, 1.19998854e+001, 7.80397219e-050,\n",
       "          6.84877366e-167, 1.00000002e+000],\n",
       "         [2.00000000e+000, 0.00000000e+000, 0.00000000e+000,\n",
       "          0.00000000e+000, 1.00000000e+000, 0.00000000e+000,\n",
       "          3.45040028e-279, 0.00000000e+000, 0.00000000e+000,\n",
       "          0.00000000e+000, 0.00000000e+000, 1.91221846e-280,\n",
       "          0.00000000e+000, 1.45493834e-228, 0.00000000e+000,\n",
       "          0.00000000e+000, 6.90348505e-180, 0.00000000e+000,\n",
       "          0.00000000e+000, 0.00000000e+000],\n",
       "         [2.00000000e+000, 1.86191763e-173, 0.00000000e+000,\n",
       "          0.00000000e+000, 3.24143881e-286, 0.00000000e+000,\n",
       "          6.68777159e-221, 0.00000000e+000, 0.00000000e+000,\n",
       "          0.00000000e+000, 0.00000000e+000, 6.67243010e-073,\n",
       "          4.50164988e-311, 6.40314451e-074, 0.00000000e+000,\n",
       "          0.00000000e+000, 3.53806428e-084, 6.21534647e-303,\n",
       "          3.00000000e+000, 3.29991752e-225],\n",
       "         [1.00000002e+000, 1.65857673e-167, 1.19611507e-247,\n",
       "          1.36635652e-171, 1.07114809e-151, 1.53102715e-245,\n",
       "          3.46347990e-164, 0.00000000e+000, 2.35202609e-253,\n",
       "          4.57489068e-221, 7.22508467e-207, 4.83371158e-085,\n",
       "          6.51578551e-253, 1.05935546e-131, 1.98761171e-216,\n",
       "          0.00000000e+000, 2.85498187e-022, 5.65039785e-214,\n",
       "          3.96917800e-287, 1.00000000e+000]]),\n",
       "  'post': array([152.96013606,   6.        ,   2.        ,   1.        ,\n",
       "           5.        ,   2.        ,   2.00000002,   1.        ,\n",
       "           1.        ,   1.        ,   2.        ,  22.7526369 ,\n",
       "           2.        ,  13.00770185,   1.        ,   1.        ,\n",
       "          28.27952514,   4.        ,   5.        ,   3.00000002]),\n",
       "  'obs': array([[4.69999979e+001, 2.80183849e+001, 1.50866496e-045, ...,\n",
       "          6.43116532e-194, 1.09999995e+001, 1.45999845e+002],\n",
       "         [3.57550019e-023, 1.72493788e-019, 2.37739608e-120, ...,\n",
       "          0.00000000e+000, 3.58833222e-026, 1.01204859e-019],\n",
       "         [2.84275585e-083, 4.37475283e-059, 0.00000000e+000, ...,\n",
       "          0.00000000e+000, 4.90756761e-060, 1.24029924e-056],\n",
       "         ...,\n",
       "         [1.10498238e-044, 1.97436779e-042, 0.00000000e+000, ...,\n",
       "          0.00000000e+000, 1.23181611e-049, 1.15839097e-042],\n",
       "         [7.83775573e-056, 1.89806220e-044, 0.00000000e+000, ...,\n",
       "          0.00000000e+000, 2.60766407e-048, 1.60000000e+001],\n",
       "         [1.79572180e-025, 3.20857177e-023, 6.83178259e-171, ...,\n",
       "          1.68000000e+002, 1.71728841e-029, 2.75424022e-021]])})"
      ]
     },
     "execution_count": 12,
     "metadata": {},
     "output_type": "execute_result"
    }
   ],
   "source": [
    "origin = hmmlearn.hmm.PoissonHMM(n_components=20, verbose=True, n_iter=20)\n",
    "origin.fit(self.Trace_train, self.len_train)"
   ]
  },
  {
   "cell_type": "code",
   "execution_count": 22,
   "metadata": {},
   "outputs": [
    {
     "data": {
      "text/plain": [
       "((256, 20),\n",
       " (array([ 0,  1,  2,  3,  4,  5,  6,  7,  8,  9, 10, 11, 12, 13, 14, 15, 16,\n",
       "         17, 18, 19]),\n",
       "  array([153,   6,   2,   1,   5,   2,   2,   1,   1,   1,   2,  24,   2,\n",
       "          13,   1,   1,  28,   3,   5,   3])))"
      ]
     },
     "execution_count": 22,
     "metadata": {},
     "output_type": "execute_result"
    }
   ],
   "source": [
    "_,pp = origin.score_samples(self.Trace_train)\n",
    "pp.shape,np.unique(np.argmax(pp,axis=1),return_counts=True)"
   ]
  },
  {
   "cell_type": "code",
   "execution_count": 14,
   "metadata": {},
   "outputs": [],
   "source": [
    "dec_state=np.argmax(pp,axis=1)\n",
    "_,c=np.unique(dec_state,return_counts=True)"
   ]
  },
  {
   "cell_type": "code",
   "execution_count": 15,
   "metadata": {},
   "outputs": [
    {
     "data": {
      "text/plain": [
       "(0, 0.970654282178812)"
      ]
     },
     "execution_count": 15,
     "metadata": {},
     "output_type": "execute_result"
    }
   ],
   "source": [
    "np.argmax(c),origin.means_.max(axis=1)[np.argmax(c)]"
   ]
  },
  {
   "cell_type": "code",
   "execution_count": 16,
   "metadata": {},
   "outputs": [
    {
     "data": {
      "text/plain": [
       "<matplotlib.image.AxesImage at 0x7ffb015f4ca0>"
      ]
     },
     "execution_count": 16,
     "metadata": {},
     "output_type": "execute_result"
    },
    {
     "data": {
      "image/png": "[encoded data removed]",
      "text/plain": [
       "<Figure size 1152x235.102 with 1 Axes>"
      ]
     },
     "metadata": {
      "needs_background": "light"
     },
     "output_type": "display_data"
    }
   ],
   "source": [
    "plt.matshow(origin.means_)"
   ]
  },
  {
   "cell_type": "code",
   "execution_count": 26,
   "metadata": {},
   "outputs": [
    {
     "data": {
      "text/plain": [
       "(20, 91)"
      ]
     },
     "execution_count": 26,
     "metadata": {},
     "output_type": "execute_result"
    }
   ],
   "source": [
    "origin.means_.shape"
   ]
  },
  {
   "cell_type": "code",
   "execution_count": 18,
   "metadata": {},
   "outputs": [
    {
     "data": {
      "text/plain": [
       "array([  0.97065428,  59.66666666,  70.5       , 233.        ,\n",
       "        61.2       , 151.5       ,  92.49999994, 139.        ,\n",
       "       128.        , 114.        ,  81.        ,  12.75201282,\n",
       "        38.5       ,  12.00151751,  99.        , 173.        ,\n",
       "         7.33740144,  29.5       ,  44.4       ,  55.99999759])"
      ]
     },
     "execution_count": 18,
     "metadata": {},
     "output_type": "execute_result"
    }
   ],
   "source": [
    "origin.means_.max(axis=1)"
   ]
  },
  {
   "cell_type": "code",
   "execution_count": 17,
   "metadata": {},
   "outputs": [
    {
     "data": {
      "image/png": "[encoded data removed]",
      "text/plain": [
       "<Figure size 432x288 with 1 Axes>"
      ]
     },
     "metadata": {
      "needs_background": "light"
     },
     "output_type": "display_data"
    }
   ],
   "source": [
    "plt.plot(origin.means_[:5,:].T)\n",
    "plt.show()"
   ]
  },
  {
   "cell_type": "code",
   "execution_count": 49,
   "metadata": {},
   "outputs": [
    {
     "data": {
      "text/plain": [
       "[<matplotlib.lines.Line2D at 0x7f9953bd4ca0>]"
      ]
     },
     "execution_count": 49,
     "metadata": {},
     "output_type": "execute_result"
    }
   ],
   "source": [
    "plt.plot(self.Distance_train)\n",
    "plt.plot(Decoded_pos,'.')"
   ]
  },
  {
   "cell_type": "code",
   "execution_count": 26,
   "metadata": {},
   "outputs": [
    {
     "data": {
      "text/plain": [
       "((256, 98), (256,), (256,))"
      ]
     },
     "execution_count": 26,
     "metadata": {},
     "output_type": "execute_result"
    }
   ],
   "source": [
    "self.Trace_train.shape, self.Trace_train.max(axis=1).shape, self.Trace_train.std(axis=1).shape"
   ]
  },
  {
   "cell_type": "code",
   "execution_count": 28,
   "metadata": {},
   "outputs": [
    {
     "name": "stdout",
     "output_type": "stream",
     "text": [
      "Using matplotlib backend: MacOSX\n"
     ]
    }
   ],
   "source": [
    "%matplotlib"
   ]
  },
  {
   "cell_type": "code",
   "execution_count": null,
   "metadata": {},
   "outputs": [],
   "source": [
    "max_acrosstime = self.Trace_train.max(axis=1)\n",
    "ratio = max_acrosstime/self.Trace_train.std(axis=1)"
   ]
  },
  {
   "cell_type": "code",
   "execution_count": 43,
   "metadata": {},
   "outputs": [
    {
     "data": {
      "text/plain": [
       "(59,)"
      ]
     },
     "execution_count": 43,
     "metadata": {},
     "output_type": "execute_result"
    }
   ],
   "source": [
    "np.where(max_acrosstime<2)[0].shape"
   ]
  },
  {
   "cell_type": "code",
   "execution_count": 69,
   "metadata": {},
   "outputs": [
    {
     "data": {
      "text/plain": [
       "('Spike', '/Users/daiyiluo/Downloads/KQ086_210112/spks10')"
      ]
     },
     "execution_count": 69,
     "metadata": {},
     "output_type": "execute_result"
    }
   ],
   "source": [
    "self.name, self.folder"
   ]
  },
  {
   "cell_type": "code",
   "execution_count": 70,
   "metadata": {},
   "outputs": [
    {
     "name": "stdout",
     "output_type": "stream",
     "text": [
      "CA3 third day, Spike\n",
      "total number of frames: 1391\n",
      "number of frames when no neuron fires: 258\n"
     ]
    }
   ],
   "source": [
    "print(f'CA3 third day, {self.name}')\n",
    "print(f'total number of frames: {self.Trace0.shape[0]}')\n",
    "print(f'number of frames when no neuron fires: {np.where(self.Trace0.std(axis=1)==0)[0].size}')"
   ]
  },
  {
   "cell_type": "code",
   "execution_count": 37,
   "metadata": {},
   "outputs": [
    {
     "data": {
      "text/plain": [
       "((98,), 0.0)"
      ]
     },
     "execution_count": 37,
     "metadata": {},
     "output_type": "execute_result"
    }
   ],
   "source": [
    "self.Trace_train[0,:].shape,np.std(self.Trace_train[0,:])"
   ]
  },
  {
   "cell_type": "code",
   "execution_count": 38,
   "metadata": {},
   "outputs": [
    {
     "data": {
      "text/plain": [
       "array([0., 0., 0., 0., 0., 0., 0., 0., 0., 0., 0., 0., 0., 0., 0., 0., 0.,\n",
       "       0., 0., 0., 0., 0., 0., 0., 0., 0., 0., 0., 0., 0., 0., 0., 0., 0.,\n",
       "       0., 0., 0., 0., 0., 0., 0., 0., 0., 0., 0., 0., 0., 0., 0., 0., 0.,\n",
       "       0., 0., 0., 0., 0., 0., 0., 0., 0., 0., 0., 0., 0., 0., 0., 0., 0.,\n",
       "       0., 0., 0., 0., 0., 0., 0., 0., 0., 0., 0., 0., 0., 0., 0., 0., 0.,\n",
       "       0., 0., 0., 0., 0., 0., 0., 0., 0., 0., 0., 0., 0.])"
      ]
     },
     "execution_count": 38,
     "metadata": {},
     "output_type": "execute_result"
    }
   ],
   "source": [
    "self.Trace_train[0,:]"
   ]
  },
  {
   "cell_type": "code",
   "execution_count": 32,
   "metadata": {},
   "outputs": [
    {
     "data": {
      "text/plain": [
       "array([       nan,        nan, 9.95039242, 9.94801475, 9.88824385,\n",
       "       9.82513381, 9.95039242, 9.93384512,        nan, 9.95039242,\n",
       "              nan, 9.18018453, 9.95039242,        nan, 8.63376552,\n",
       "              nan, 9.85703739, 9.74045656, 8.10842411, 9.95039242,\n",
       "       9.95039242, 9.95039242, 8.95896645, 9.95039242,        nan,\n",
       "       9.75013322, 8.10634031, 9.95039242, 7.29681274, 9.91762257,\n",
       "       9.2931615 , 9.95039242,        nan, 9.46910241, 6.56101707,\n",
       "              nan, 6.72659255, 9.79322925, 9.86463384,        nan,\n",
       "              nan, 9.87988498, 9.95039242, 9.66675028, 9.71754936,\n",
       "       7.53714923, 9.95039242, 8.19873191, 9.92164943, 9.95039242,\n",
       "       8.93683075,        nan,        nan,        nan,        nan,\n",
       "              nan, 9.95039242, 6.40632849, 6.87037116, 9.95039242,\n",
       "              nan,        nan, 9.95039242, 8.57701047, 9.02294832,\n",
       "       8.77306627,        nan, 8.1951717 ,        nan,        nan,\n",
       "              nan, 9.95039242, 9.95039242, 9.95039242, 9.95039242,\n",
       "       9.95039242, 9.95039242,        nan, 9.95039242,        nan,\n",
       "       9.95039242,        nan,        nan, 9.95039242, 9.95039242,\n",
       "       9.81607406, 9.86368373, 5.90743076,        nan,        nan,\n",
       "       9.95039242, 9.7982778 , 8.62007014, 9.95039242,        nan,\n",
       "       8.82683655,        nan,        nan, 9.95039242, 9.2717265 ,\n",
       "       9.95039242, 9.95039242, 7.90308125, 8.4342389 , 9.95039242,\n",
       "       9.95039242, 9.65793458, 6.73239602, 9.95039242, 7.57531491,\n",
       "       9.86463384, 9.66270862, 9.95039242, 8.28300067, 9.65250744,\n",
       "       9.95039242,        nan, 9.95039242,        nan, 9.95039242,\n",
       "       9.95039242, 7.65905534, 9.57281572, 9.95039242, 9.83145636,\n",
       "       8.31890397, 9.91113218, 7.24126894, 9.95039242, 9.95039242,\n",
       "              nan, 9.95039242, 9.95039242, 9.89755766, 7.76190069,\n",
       "              nan, 9.95039242,        nan,        nan, 9.95039242,\n",
       "       9.95039242, 9.81252871, 9.95039242,        nan, 8.1951717 ,\n",
       "       9.95039242, 9.90458828, 9.95039242, 9.95039242, 8.40635776,\n",
       "       9.1786514 , 9.57895818, 9.95039242, 7.63490461,        nan,\n",
       "       9.07020059, 9.90074227, 9.61961018, 9.95039242, 9.95039242,\n",
       "       9.77886916, 9.67747345, 9.26116091, 9.95039242, 7.90583818,\n",
       "       7.73213144, 8.571465  , 8.27272727, 8.31890397, 9.94265883,\n",
       "       9.95039242, 9.87988498, 9.49852829, 9.91875223, 9.5157965 ,\n",
       "       8.71461962, 9.86102126, 9.95039242, 8.08739434, 9.95039242,\n",
       "       9.95039242, 8.58855091, 9.95039242, 9.95039242,        nan,\n",
       "       6.58823529, 9.95039242,        nan, 8.76958211, 7.65152415,\n",
       "       7.58298638,        nan,        nan,        nan, 9.95039242,\n",
       "       9.95039242, 8.72637947, 9.95039242, 9.87019364, 9.95039242,\n",
       "       8.4342389 , 8.60550085, 9.95039242, 9.93956553, 8.47728583,\n",
       "       9.95039242, 9.90074227, 8.01677954, 9.95039242,        nan,\n",
       "       9.95039242, 9.95039242, 9.95039242, 9.51509565, 9.04391236,\n",
       "       9.90931233, 9.59370189, 7.90097401, 6.76715542, 9.95039242,\n",
       "              nan, 9.52544892, 9.95039242, 9.95039242,        nan,\n",
       "       9.95039242, 9.77656433, 9.95039242, 9.95039242, 9.95039242,\n",
       "       9.91875223,        nan,        nan, 9.95039242, 5.6       ,\n",
       "       9.84714044, 9.95089902,        nan, 9.75725362, 7.0725408 ,\n",
       "       9.95039242, 9.91875223, 8.88494681, 9.83145636,        nan,\n",
       "              nan,        nan, 8.47171612,        nan,        nan,\n",
       "       9.95039242, 8.44855777, 8.59171753,        nan,        nan,\n",
       "       9.95039242])"
      ]
     },
     "execution_count": 32,
     "metadata": {},
     "output_type": "execute_result"
    }
   ],
   "source": [
    "ratio"
   ]
  },
  {
   "cell_type": "code",
   "execution_count": null,
   "metadata": {},
   "outputs": [],
   "source": []
  }
 ],
 "metadata": {
  "kernelspec": {
   "display_name": "Python 3",
   "language": "python",
   "name": "python3"
  },
  "language_info": {
   "codemirror_mode": {
    "name": "ipython",
    "version": 3
   },
   "file_extension": ".py",
   "mimetype": "text/x-python",
   "name": "python",
   "nbconvert_exporter": "python",
   "pygments_lexer": "ipython3",
   "version": "3.8.3"
  }
 },
 "nbformat": 4,
 "nbformat_minor": 4
}
