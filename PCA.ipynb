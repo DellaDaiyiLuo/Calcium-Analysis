{
 "cells": [
  {
   "cell_type": "code",
   "execution_count": 1,
   "id": "fewer-begin",
   "metadata": {},
   "outputs": [],
   "source": [
    "import numpy as np\n",
    "import matplotlib.pyplot as plt"
   ]
  },
  {
   "cell_type": "code",
   "execution_count": 28,
   "id": "cross-camel",
   "metadata": {},
   "outputs": [],
   "source": [
    "def PCA(Data):\n",
    "    '''Data (n_feature, n_sample)'''\n",
    "    Data_z = Data - np.mean(Data, axis = 1)[:, np.newaxis] # zero-mean data\n",
    "    S = np.dot(Data_z, Data_z.T) / Data_z.shape[1]\n",
    "    eigenVal, eigenVec = np.linalg.eig(S)\n",
    "    return eigenVal, eigenVec, Data_z"
   ]
  },
  {
   "cell_type": "code",
   "execution_count": 23,
   "id": "brutal-incident",
   "metadata": {},
   "outputs": [],
   "source": [
    "def offset_PCA(Data):\n",
    "    '''Data (n_feature, n_sample)'''\n",
    "    Data_z = Data - np.mean(Data, axis = 1)[:, np.newaxis] # zero-mean data\n",
    "    S = (np.dot(Data_z[:,:-1], Data_z[:,1:].T) + np.dot(Data_z[:,1:], Data_z[:,:-1].T)) / (2*Data_z.shape[1]-2)\n",
    "    eigenVal, eigenVec = np.linalg.eig(S)\n",
    "    return eigenVal, eigenVec, Data_z"
   ]
  },
  {
   "cell_type": "code",
   "execution_count": null,
   "id": "attended-acrobat",
   "metadata": {},
   "outputs": [],
   "source": [
    "def plot_eigenSpectrum(eigenVal):\n",
    "    plt.plot(np.arange(eigenVal.shape[0])+1, np.sqrt(eigenVal), '.-')\n",
    "    plt.ylabel('$\\\\sqrt{\\\\lambda_i}$')\n",
    "    plt.xlabel('i')\n",
    "    plt.title('Eigenvalue Spectrum')\n",
    "    print('Percentage of overall variance captured by the top 3 principal components: ')\n",
    "    for i in range(3):\n",
    "        print(f\\\"{i+1}: {eigenVal[i]/np.sum(eigenVal)*100: .2f}%\\\")"
   ]
  },
  {
   "cell_type": "code",
   "execution_count": 18,
   "id": "serial-accident",
   "metadata": {},
   "outputs": [
    {
     "data": {
      "text/plain": [
       "array([[1, 2, 3, 4, 5],\n",
       "       [1, 2, 3, 4, 5],\n",
       "       [1, 2, 3, 4, 5],\n",
       "       [1, 2, 3, 4, 5]])"
      ]
     },
     "execution_count": 18,
     "metadata": {},
     "output_type": "execute_result"
    }
   ],
   "source": [
    "a = np.arange(1,6)\n",
    "b = np.repeat(a,4).reshape(5,4).T\n",
    "b"
   ]
  },
  {
   "cell_type": "code",
   "execution_count": 21,
   "id": "public-corporation",
   "metadata": {},
   "outputs": [
    {
     "data": {
      "text/plain": [
       "array([[40, 40, 40, 40],\n",
       "       [40, 40, 40, 40],\n",
       "       [40, 40, 40, 40],\n",
       "       [40, 40, 40, 40]])"
      ]
     },
     "execution_count": 21,
     "metadata": {},
     "output_type": "execute_result"
    }
   ],
   "source": [
    "np.dot(b[:,1:],b[:,:-1].T)"
   ]
  },
  {
   "cell_type": "code",
   "execution_count": 22,
   "id": "democratic-traveler",
   "metadata": {},
   "outputs": [
    {
     "data": {
      "text/plain": [
       "(array([[2, 3, 4, 5],\n",
       "        [2, 3, 4, 5],\n",
       "        [2, 3, 4, 5],\n",
       "        [2, 3, 4, 5]]),\n",
       " array([[1, 1, 1, 1],\n",
       "        [2, 2, 2, 2],\n",
       "        [3, 3, 3, 3],\n",
       "        [4, 4, 4, 4]]))"
      ]
     },
     "execution_count": 22,
     "metadata": {},
     "output_type": "execute_result"
    }
   ],
   "source": [
    "b[:,1:],b[:,:-1].T"
   ]
  },
  {
   "cell_type": "code",
   "execution_count": 31,
   "id": "educated-extra",
   "metadata": {},
   "outputs": [
    {
     "data": {
      "text/plain": [
       "(array([0., 4., 0., 0.]),\n",
       " array([[-8.66025404e-01,  5.00000000e-01, -2.77555756e-17,\n",
       "         -2.77555756e-17],\n",
       "        [ 2.88675135e-01,  5.00000000e-01, -5.77350269e-01,\n",
       "         -5.77350269e-01],\n",
       "        [ 2.88675135e-01,  5.00000000e-01,  7.88675135e-01,\n",
       "         -2.11324865e-01],\n",
       "        [ 2.88675135e-01,  5.00000000e-01, -2.11324865e-01,\n",
       "          7.88675135e-01]]),\n",
       " array([[-2., -1.,  0.,  1.,  2.],\n",
       "        [-2., -1.,  0.,  1.,  2.],\n",
       "        [-2., -1.,  0.,  1.,  2.],\n",
       "        [-2., -1.,  0.,  1.,  2.]]))"
      ]
     },
     "execution_count": 31,
     "metadata": {},
     "output_type": "execute_result"
    }
   ],
   "source": [
    "offset_PCA(b)"
   ]
  },
  {
   "cell_type": "code",
   "execution_count": 32,
   "id": "frequent-color",
   "metadata": {},
   "outputs": [],
   "source": [
    "eigenValue, eigenVector, avg = PCA(b)"
   ]
  },
  {
   "cell_type": "code",
   "execution_count": 33,
   "id": "generic-nothing",
   "metadata": {},
   "outputs": [],
   "source": [
    "z = eigenVector.T.dot(avg)"
   ]
  },
  {
   "cell_type": "code",
   "execution_count": 34,
   "id": "operating-language",
   "metadata": {},
   "outputs": [
    {
     "data": {
      "text/plain": [
       "((4, 4), (4, 5))"
      ]
     },
     "execution_count": 34,
     "metadata": {},
     "output_type": "execute_result"
    }
   ],
   "source": [
    "eigenVector.shape, avg.shape"
   ]
  },
  {
   "cell_type": "code",
   "execution_count": 35,
   "id": "lasting-wages",
   "metadata": {},
   "outputs": [
    {
     "data": {
      "text/plain": [
       "(4, 5)"
      ]
     },
     "execution_count": 35,
     "metadata": {},
     "output_type": "execute_result"
    }
   ],
   "source": [
    "b.shape"
   ]
  },
  {
   "cell_type": "code",
   "execution_count": 36,
   "id": "enabling-ozone",
   "metadata": {},
   "outputs": [
    {
     "data": {
      "text/plain": [
       "(array([[-2., -1.,  0.,  1.,  2.],\n",
       "        [-2., -1.,  0.,  1.,  2.],\n",
       "        [-2., -1.,  0.,  1.,  2.],\n",
       "        [-2., -1.,  0.,  1.,  2.]]),\n",
       " array([[-2., -1.,  0.,  1.,  2.],\n",
       "        [-2., -1.,  0.,  1.,  2.],\n",
       "        [-2., -1.,  0.,  1.,  2.],\n",
       "        [-2., -1.,  0.,  1.,  2.]]))"
      ]
     },
     "execution_count": 36,
     "metadata": {},
     "output_type": "execute_result"
    }
   ],
   "source": [
    "eigenVector.dot(z),avg"
   ]
  },
  {
   "cell_type": "code",
   "execution_count": null,
   "id": "swedish-possibility",
   "metadata": {},
   "outputs": [],
   "source": []
  }
 ],
 "metadata": {
  "kernelspec": {
   "display_name": "Python 3",
   "language": "python",
   "name": "python3"
  },
  "language_info": {
   "codemirror_mode": {
    "name": "ipython",
    "version": 3
   },
   "file_extension": ".py",
   "mimetype": "text/x-python",
   "name": "python",
   "nbconvert_exporter": "python",
   "pygments_lexer": "ipython3",
   "version": "3.8.5"
  }
 },
 "nbformat": 4,
 "nbformat_minor": 5
}
