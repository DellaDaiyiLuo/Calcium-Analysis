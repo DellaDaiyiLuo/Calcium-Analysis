{
 "cells": [
  {
   "cell_type": "code",
   "execution_count": 1,
   "metadata": {},
   "outputs": [],
   "source": [
    "import numpy as np\n",
    "import matplotlib.pyplot as plt\n",
    "from scipy.io import loadmat"
   ]
  },
  {
   "cell_type": "markdown",
   "metadata": {},
   "source": [
    "### a. Load data"
   ]
  },
  {
   "cell_type": "code",
   "execution_count": 2,
   "metadata": {},
   "outputs": [
    {
     "data": {
      "text/plain": [
       "((96593,), (96593,), (96593,))"
      ]
     },
     "execution_count": 2,
     "metadata": {},
     "output_type": "execute_result"
    }
   ],
   "source": [
    "folder = '/Users/daiyiluo/Downloads/KQ095_210205' #'/Users/daiyiluo/Downloads/KQ086_210112' #'/Users/daiyiluo/Downloads/caiman_t/dan_CA1' #\n",
    "\n",
    "# load behavior data\n",
    "data = np.load(f'{folder}/S.npz')\n",
    "spd = data['spd']\n",
    "dis = data['dis']\n",
    "lk = data['lk']\n",
    "\n",
    "del data\n",
    "\n",
    "spd.shape, dis.shape, lk.shape"
   ]
  },
  {
   "cell_type": "code",
   "execution_count": 3,
   "metadata": {},
   "outputs": [],
   "source": [
    "spd=spd.squeeze()\n",
    "dis=dis.squeeze()"
   ]
  },
  {
   "cell_type": "code",
   "execution_count": 3,
   "metadata": {},
   "outputs": [
    {
     "data": {
      "text/plain": [
       "dict_keys(['__header__', '__version__', '__globals__', 'B'])"
      ]
     },
     "execution_count": 3,
     "metadata": {},
     "output_type": "execute_result"
    }
   ],
   "source": [
    "# load neural activity data to be of size (#sample * #Neurons)\n",
    "# # Daniel\n",
    "# spks0 = np.load(f'{folder}/spk.npz')['spks'].T\n",
    "# traces = np.load(f'{folder}/spk.npz')['traces'].T\n",
    "\n",
    "# Fish\n",
    "spks0 = np.load(f'{folder}/spk.npz')['spks']\n",
    "data = loadmat(f'{folder}/dFishQ_raw.mat')\n",
    "data.keys() # check the name of the variable"
   ]
  },
  {
   "cell_type": "code",
   "execution_count": 4,
   "metadata": {},
   "outputs": [
    {
     "name": "stdout",
     "output_type": "stream",
     "text": [
      "Shape of calcium traces: (96593, 219)\n"
     ]
    }
   ],
   "source": [
    "key = 'B' # 'B' for CA1 data, 'dFishQ_raw' for CA3 data\n",
    "traces = data[key]\n",
    "del data\n",
    "print(f'Shape of calcium traces: {traces.shape}')"
   ]
  },
  {
   "cell_type": "code",
   "execution_count": 5,
   "metadata": {},
   "outputs": [
    {
     "name": "stdout",
     "output_type": "stream",
     "text": [
      "Using matplotlib backend: MacOSX\n"
     ]
    }
   ],
   "source": [
    "%matplotlib"
   ]
  },
  {
   "cell_type": "code",
   "execution_count": 9,
   "metadata": {},
   "outputs": [],
   "source": [
    "spks = np.round(spks0*50)"
   ]
  },
  {
   "cell_type": "code",
   "execution_count": 11,
   "metadata": {},
   "outputs": [
    {
     "data": {
      "text/plain": [
       "<matplotlib.legend.Legend at 0x7f8a1633e3a0>"
      ]
     },
     "execution_count": 11,
     "metadata": {},
     "output_type": "execute_result"
    }
   ],
   "source": [
    "plt.plot(traces[:,1],label='Trace')\n",
    "# plt.plot(spks[:,1],label='Spike')\n",
    "plt.plot(spks0[:,1]*10,label='Spike')\n",
    "plt.legend()"
   ]
  },
  {
   "cell_type": "code",
   "execution_count": 37,
   "metadata": {},
   "outputs": [],
   "source": [
    "plt.figure()\n",
    "for i,f in enumerate([11,13,14]):\n",
    "    t = traces[:,f]\n",
    "    t1 = avgtrc[:,f]\n",
    "    s = spks0[:,f]\n",
    "    plt.plot(t/np.max(t)+i,'b')\n",
    "    plt.plot(s/np.max(s)+i,'r')\n",
    "    plt.plot(idx_dis,t1/np.max(t1)+i ,'k.')\n",
    "# plt.legend()"
   ]
  },
  {
   "cell_type": "code",
   "execution_count": 38,
   "metadata": {},
   "outputs": [
    {
     "data": {
      "text/plain": [
       "<matplotlib.legend.Legend at 0x7f89fa1da280>"
      ]
     },
     "execution_count": 38,
     "metadata": {},
     "output_type": "execute_result"
    }
   ],
   "source": [
    "i=9\n",
    "t = traces[:,i]\n",
    "t1 = avgtrc[:,i]\n",
    "s = spks0[:,i]\n",
    "plt.plot(t/np.max(t)+i,'b', label = 'Trace')\n",
    "plt.plot(s/np.max(s)+i,'r', label = 'Spike')\n",
    "plt.plot(idx_dis,t1/np.max(t1)+i ,'k.',label = 'Binned Trace')\n",
    "plt.legend()"
   ]
  },
  {
   "cell_type": "code",
   "execution_count": 42,
   "metadata": {},
   "outputs": [
    {
     "data": {
      "text/plain": [
       "(91120.0, 91310.0)"
      ]
     },
     "execution_count": 42,
     "metadata": {},
     "output_type": "execute_result"
    }
   ],
   "source": [
    "plt.xlim(91120,91310)"
   ]
  },
  {
   "cell_type": "markdown",
   "metadata": {},
   "source": [
    "### b. Sort into time bin"
   ]
  },
  {
   "cell_type": "code",
   "execution_count": 13,
   "metadata": {},
   "outputs": [
    {
     "data": {
      "text/plain": [
       "15"
      ]
     },
     "execution_count": 13,
     "metadata": {},
     "output_type": "execute_result"
    }
   ],
   "source": [
    "new_tb = 500  # 2Hz: 500ms\n",
    "ratio = int(30*new_tb/1000)\n",
    "ratio"
   ]
  },
  {
   "cell_type": "code",
   "execution_count": 14,
   "metadata": {},
   "outputs": [
    {
     "data": {
      "text/plain": [
       "((6439,), (6439,))"
      ]
     },
     "execution_count": 14,
     "metadata": {},
     "output_type": "execute_result"
    }
   ],
   "source": [
    "# Sample speed\n",
    "avgspd = np.convolve(spd, np.ones(ratio)/ratio, mode='valid')\n",
    "avgspd = avgspd[::ratio]\n",
    "\n",
    "# Sample position\n",
    "idx_dis = np.arange(round(ratio/2), len(dis)-round(ratio/2)+1, ratio)\n",
    "avgdis = dis[idx_dis]\n",
    "\n",
    "avgspd.shape, avgdis.shape"
   ]
  },
  {
   "cell_type": "markdown",
   "metadata": {},
   "source": [
    "---------- Trace -----------"
   ]
  },
  {
   "cell_type": "code",
   "execution_count": 15,
   "metadata": {},
   "outputs": [
    {
     "data": {
      "text/plain": [
       "(6439, 219)"
      ]
     },
     "execution_count": 15,
     "metadata": {},
     "output_type": "execute_result"
    }
   ],
   "source": [
    "# Sample traces\n",
    "avgtrc = []\n",
    "for i in range(traces.shape[1]):\n",
    "    t = np.convolve(traces[:,i], np.ones(ratio)/ratio, mode='valid')\n",
    "    avgtrc.append(t[::ratio])    \n",
    "avgtrc = (np.vstack(avgtrc)).T\n",
    "\n",
    "avgtrc.shape"
   ]
  },
  {
   "cell_type": "markdown",
   "metadata": {},
   "source": [
    "---------- Spike -----------"
   ]
  },
  {
   "cell_type": "code",
   "execution_count": 10,
   "metadata": {},
   "outputs": [
    {
     "data": {
      "text/plain": [
       "(1879, 99)"
      ]
     },
     "execution_count": 10,
     "metadata": {},
     "output_type": "execute_result"
    }
   ],
   "source": [
    "# Sample spks\n",
    "avgspk = []\n",
    "for i in range(spks.shape[1]):\n",
    "    t = np.convolve(spks[:,i], np.ones(ratio)/ratio, mode='valid')\n",
    "    avgspk.append(t[::ratio]*ratio)    \n",
    "avgspk = (np.vstack(avgspk)).T\n",
    "\n",
    "avgspk.shape"
   ]
  },
  {
   "cell_type": "markdown",
   "metadata": {},
   "source": [
    "### c. Exclude immobile time bins "
   ]
  },
  {
   "cell_type": "code",
   "execution_count": 11,
   "metadata": {},
   "outputs": [
    {
     "name": "stdout",
     "output_type": "stream",
     "text": [
      "Using matplotlib backend: MacOSX\n"
     ]
    },
    {
     "data": {
      "text/plain": [
       "[<matplotlib.lines.Line2D at 0x7faeef6186a0>]"
      ]
     },
     "execution_count": 11,
     "metadata": {},
     "output_type": "execute_result"
    }
   ],
   "source": [
    "spd_thr = 0.03 # 0.02 for 1s tb, 0.03 for 200/500 ms\n",
    "pass_thr = np.where(avgspd>spd_thr)[0]\n",
    "%matplotlib\n",
    "plt.plot(avgspd)\n",
    "plt.plot(avgdis)\n",
    "# plt.plot(pass_thr,avgdis[pass_thr],'*')\n",
    "plt.plot(pass_thr,avgspd[pass_thr],'*')\n",
    "plt.plot([0,len(avgspd)], [spd_thr,spd_thr])"
   ]
  },
  {
   "cell_type": "code",
   "execution_count": 12,
   "metadata": {},
   "outputs": [
    {
     "data": {
      "text/plain": [
       "((1414,), (1414,))"
      ]
     },
     "execution_count": 12,
     "metadata": {},
     "output_type": "execute_result"
    }
   ],
   "source": [
    "Distance = avgdis[avgspd>spd_thr]\n",
    "idx = idx_dis[avgspd>spd_thr] # for licking data because it is not sorted into 500ms time bins\n",
    "Distance.shape, idx.shape"
   ]
  },
  {
   "cell_type": "markdown",
   "metadata": {},
   "source": [
    "---------- Trace -----------"
   ]
  },
  {
   "cell_type": "code",
   "execution_count": 13,
   "metadata": {},
   "outputs": [
    {
     "data": {
      "text/plain": [
       "(1414, 99)"
      ]
     },
     "execution_count": 13,
     "metadata": {},
     "output_type": "execute_result"
    }
   ],
   "source": [
    "Trace = avgtrc[avgspd>spd_thr,:]\n",
    "Trace.shape"
   ]
  },
  {
   "cell_type": "markdown",
   "metadata": {},
   "source": [
    "---------- Spike -----------"
   ]
  },
  {
   "cell_type": "code",
   "execution_count": 14,
   "metadata": {},
   "outputs": [
    {
     "data": {
      "text/plain": [
       "(1414, 99)"
      ]
     },
     "execution_count": 14,
     "metadata": {},
     "output_type": "execute_result"
    }
   ],
   "source": [
    "Spike = avgspk[avgspd>spd_thr,:]\n",
    "Spike.shape"
   ]
  },
  {
   "cell_type": "code",
   "execution_count": 15,
   "metadata": {},
   "outputs": [
    {
     "data": {
      "text/plain": [
       "((1414, 98), (1414, 98))"
      ]
     },
     "execution_count": 15,
     "metadata": {},
     "output_type": "execute_result"
    }
   ],
   "source": [
    "# Some neurons don't fire during running period\n",
    "Trace = np.delete(Trace,obj=np.where(np.sum(Spike,axis=0)==0),axis=1)\n",
    "Spike = np.delete(Spike,obj=np.where(np.sum(Spike,axis=0)==0),axis=1)\n",
    "\n",
    "Trace.shape, Spike.shape"
   ]
  },
  {
   "cell_type": "code",
   "execution_count": 76,
   "metadata": {},
   "outputs": [
    {
     "data": {
      "text/plain": [
       "41.0"
      ]
     },
     "execution_count": 76,
     "metadata": {},
     "output_type": "execute_result"
    }
   ],
   "source": [
    "Spike[:,57].max()"
   ]
  },
  {
   "cell_type": "code",
   "execution_count": 78,
   "metadata": {},
   "outputs": [],
   "source": [
    "# Show all spike data\n",
    "\n",
    "for i in range(Spike.shape[1]):\n",
    "    plt.plot(Spike[:,i]/np.max(Spike[:,i])+i)"
   ]
  },
  {
   "cell_type": "markdown",
   "metadata": {},
   "source": [
    "### d. Sort into spatial bins and Locate laps"
   ]
  },
  {
   "cell_type": "code",
   "execution_count": 16,
   "metadata": {},
   "outputs": [
    {
     "data": {
      "text/plain": [
       "(50,)"
      ]
     },
     "execution_count": 16,
     "metadata": {},
     "output_type": "execute_result"
    }
   ],
   "source": [
    "l=avgdis.max()/49\n",
    "Distance0=np.round(Distance/l)*l\n",
    "np.unique(Distance0).shape"
   ]
  },
  {
   "cell_type": "code",
   "execution_count": 17,
   "metadata": {},
   "outputs": [
    {
     "data": {
      "text/plain": [
       "[<matplotlib.lines.Line2D at 0x7faed6d9d3a0>]"
      ]
     },
     "execution_count": 17,
     "metadata": {},
     "output_type": "execute_result"
    }
   ],
   "source": [
    "plt.plot(Distance)\n",
    "plt.plot(Distance0)"
   ]
  },
  {
   "cell_type": "code",
   "execution_count": 18,
   "metadata": {},
   "outputs": [
    {
     "name": "stdout",
     "output_type": "stream",
     "text": [
      "Number of spatial bins: (50,)\n",
      "Length of data: (1414,)\n"
     ]
    }
   ],
   "source": [
    "# nbin = 50 # expected number of spatial bins\n",
    "# n = np.floor(1/(avgdis.max()/nbin))\n",
    "# Distance0 = np.round(Distance*n)/n # round the distance\n",
    "print(f'Number of spatial bins: {np.unique(Distance0).shape}\\nLength of data: {Distance0.shape}')"
   ]
  },
  {
   "cell_type": "code",
   "execution_count": 20,
   "metadata": {},
   "outputs": [
    {
     "data": {
      "text/plain": [
       "[<matplotlib.lines.Line2D at 0x7faedba11c40>]"
      ]
     },
     "execution_count": 20,
     "metadata": {},
     "output_type": "execute_result"
    }
   ],
   "source": [
    "Distance = Distance0\n",
    "\n",
    "d = np.diff(Distance)\n",
    "lap_end = np.where(d<-1.3)[0] # Locate the point where the laps end\n",
    "\n",
    "plt.plot(Distance)\n",
    "plt.plot(lap_end,Distance[lap_end],'*')"
   ]
  },
  {
   "cell_type": "code",
   "execution_count": 21,
   "metadata": {},
   "outputs": [
    {
     "name": "stdout",
     "output_type": "stream",
     "text": [
      "Length of data after excluded the incomplete first lap: (1391,)\n",
      "Where the first complete lap starts: 23\n"
     ]
    }
   ],
   "source": [
    "Distance = Distance[lap_end[0]:]\n",
    "idx = idx[lap_end[0]:]\n",
    "f=lap_end[0]\n",
    "print(f'Length of data after excluded the incomplete first lap: {Distance.shape}\\nWhere the first complete lap starts: {f}')"
   ]
  },
  {
   "cell_type": "markdown",
   "metadata": {},
   "source": [
    "---------- Trace -----------"
   ]
  },
  {
   "cell_type": "code",
   "execution_count": 22,
   "metadata": {},
   "outputs": [
    {
     "data": {
      "text/plain": [
       "((1391, 98), (1391,), (1391,))"
      ]
     },
     "execution_count": 22,
     "metadata": {},
     "output_type": "execute_result"
    }
   ],
   "source": [
    "Trace = Trace[f:]\n",
    "lap_end = lap_end-lap_end[0]\n",
    "np.savez(f'{folder}/timebin_{new_tb}.npz', Trace=Trace, Distance=Distance, idx=idx, lap_end=lap_end)\n",
    "\n",
    "Trace.shape, Distance.shape, idx.shape"
   ]
  },
  {
   "cell_type": "markdown",
   "metadata": {},
   "source": [
    "---------- Spike -----------"
   ]
  },
  {
   "cell_type": "code",
   "execution_count": 25,
   "metadata": {},
   "outputs": [
    {
     "data": {
      "text/plain": [
       "((1391, 99), (1391,), (1391,))"
      ]
     },
     "execution_count": 25,
     "metadata": {},
     "output_type": "execute_result"
    }
   ],
   "source": [
    "Spike = Spike[f:]\n",
    "np.save(f'{folder}/timebin_{new_tb}_spks.npy', Spike)\n",
    "\n",
    "Spike.shape, Distance.shape, idx.shape"
   ]
  },
  {
   "cell_type": "code",
   "execution_count": null,
   "metadata": {},
   "outputs": [],
   "source": []
  }
 ],
 "metadata": {
  "kernelspec": {
   "display_name": "Python 3",
   "language": "python",
   "name": "python3"
  },
  "language_info": {
   "codemirror_mode": {
    "name": "ipython",
    "version": 3
   },
   "file_extension": ".py",
   "mimetype": "text/x-python",
   "name": "python",
   "nbconvert_exporter": "python",
   "pygments_lexer": "ipython3",
   "version": "3.8.3"
  }
 },
 "nbformat": 4,
 "nbformat_minor": 4
}
