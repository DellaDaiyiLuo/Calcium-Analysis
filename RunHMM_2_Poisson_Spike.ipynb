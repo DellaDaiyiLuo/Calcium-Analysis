{
 "cells": [
  {
   "cell_type": "code",
   "execution_count": 2,
   "metadata": {},
   "outputs": [],
   "source": [
    "# import sys\n",
    "# sys.path.append('/Users/daiyiluo/Documents/ELEC599')\n",
    "import CalHMM\n",
    "import numpy as np\n",
    "import matplotlib.pyplot as plt\n",
    "import hmmlearn.hmm\n",
    "import warnings\n",
    "warnings.filterwarnings('ignore')\n",
    "import imp"
   ]
  },
  {
   "cell_type": "code",
   "execution_count": 3,
   "metadata": {},
   "outputs": [],
   "source": [
    "plt.show(block=True)"
   ]
  },
  {
   "cell_type": "code",
   "execution_count": null,
   "metadata": {},
   "outputs": [],
   "source": [
    "imp.reload(CalHMM)"
   ]
  },
  {
   "cell_type": "markdown",
   "metadata": {},
   "source": [
    "## a. Load data"
   ]
  },
  {
   "cell_type": "code",
   "execution_count": 4,
   "metadata": {},
   "outputs": [],
   "source": [
    "folder = '/home/kemerelab/Documents/599/KQ095_210205' #dan_CA1'  #'KQ095_210205' #KQ086_210110' #\n",
    "timebin = 500"
   ]
  },
  {
   "cell_type": "code",
   "execution_count": 5,
   "metadata": {},
   "outputs": [
    {
     "data": {
      "text/plain": [
       "((1821, 219), (1821,))"
      ]
     },
     "execution_count": 5,
     "metadata": {},
     "output_type": "execute_result"
    }
   ],
   "source": [
    "data = np.load(f'{folder}/tb_{timebin}/timebin_{timebin}.npz') #{folder}/timebin_500.npz\n",
    "Distance = data['Distance']\n",
    "lap_end = [] #data['lap_end']\n",
    "idx = data['idx']\n",
    "del data\n",
    "\n",
    "Spike = np.load(f'{folder}/tb_{timebin}/timebin_{timebin}_spks.npy')\n",
    "\n",
    "Spike.shape, Distance.shape #, idx.shape # Spike should be of shape (#sample, #neuron)"
   ]
  },
  {
   "cell_type": "code",
   "execution_count": null,
   "metadata": {},
   "outputs": [],
   "source": [
    "plt.plot(Spike[:,30])"
   ]
  },
  {
   "cell_type": "markdown",
   "metadata": {},
   "source": [
    "## b. Run Poisson HMM\n",
    "### Original data"
   ]
  },
  {
   "cell_type": "code",
   "execution_count": 6,
   "metadata": {},
   "outputs": [
    {
     "name": "stdout",
     "output_type": "stream",
     "text": [
      "Error Rate: 0.17762433792802512\n"
     ]
    }
   ],
   "source": [
    "origin = hmmlearn.hmm.PoissonHMM(n_components=20) \n",
    "origin.fit(Spike)\n",
    "\n",
    "x1, plst1, occ1, posterior_states1, pos_COM1 = CalHMM.comp_poststates_pos(origin, Spike, Distance, sort='angle')\n",
    "err_rate1, dev1, Decoded_position1 = CalHMM.comp_decoded_pos_acc(Distance, posterior_states1, pos_COM1, mode = 'circle')\n",
    "\n",
    "print(f'Error Rate: {err_rate1}')"
   ]
  },
  {
   "cell_type": "code",
   "execution_count": null,
   "metadata": {},
   "outputs": [],
   "source": [
    "plt.matshow(x1)"
   ]
  },
  {
   "cell_type": "code",
   "execution_count": null,
   "metadata": {},
   "outputs": [],
   "source": [
    "plt.figure()\n",
    "plt.plot(x1[1,:])"
   ]
  },
  {
   "cell_type": "code",
   "execution_count": null,
   "metadata": {},
   "outputs": [],
   "source": [
    "plt.plot(pos_COM1)\n",
    "plt.plot(pos_COM1[plst1])"
   ]
  },
  {
   "cell_type": "code",
   "execution_count": null,
   "metadata": {},
   "outputs": [],
   "source": [
    "pos_COM1.shape"
   ]
  },
  {
   "cell_type": "code",
   "execution_count": null,
   "metadata": {},
   "outputs": [],
   "source": [
    "d=np.unique(Distance)\n",
    "dif=d[1]-d[0]\n",
    "dif"
   ]
  },
  {
   "cell_type": "code",
   "execution_count": null,
   "metadata": {},
   "outputs": [],
   "source": [
    "d=np.unique(Distance)\n",
    "dif=d[1]-d[0]\n",
    "plt.matshow(x1)\n",
    "for i,pos in enumerate(pos_COM1[plst1]):\n",
    "    line, = plt.plot(pos/dif,i,'r*')\n",
    "line.set_label('most probable position')\n",
    "plt.title('Fish, CA1, 500ms timebin')\n",
    "plt.legend()"
   ]
  },
  {
   "cell_type": "code",
   "execution_count": null,
   "metadata": {},
   "outputs": [],
   "source": [
    "d=np.unique(Distance)\n",
    "dif=d[1]-d[0]\n",
    "plt.matshow(x1)\n",
    "for i,pos in enumerate(pos_COM1[plst1]):\n",
    "    line, = plt.plot(pos/dif,i,'r*')\n",
    "line.set_label('most probable position')\n",
    "plt.title('Fish, CA1, 500ms timebin')\n",
    "plt.legend()"
   ]
  },
  {
   "cell_type": "code",
   "execution_count": null,
   "metadata": {},
   "outputs": [],
   "source": [
    "%matplotlib"
   ]
  },
  {
   "cell_type": "code",
   "execution_count": null,
   "metadata": {},
   "outputs": [],
   "source": [
    "plt.matshow(-posterior_states1[:,plst1].T, cmap = 'gray')\n",
    "plt.plot(Distance/Distance.max()*20, label='position')"
   ]
  },
  {
   "cell_type": "code",
   "execution_count": null,
   "metadata": {},
   "outputs": [],
   "source": [
    "_, _, _, _, _, _ = CalHMM.show_all_plots(origin, Spike, Distance, lap_end, t_st=100, t_duration=600,vmax=.2)"
   ]
  },
  {
   "cell_type": "markdown",
   "metadata": {},
   "source": [
    "### Time Shuffle"
   ]
  },
  {
   "cell_type": "code",
   "execution_count": null,
   "metadata": {},
   "outputs": [],
   "source": [
    "ts_Spike = CalHMM.get_time_shuffle(Spike)\n",
    "ts = hmmlearn.hmm.PoissonHMM(n_components=20) \n",
    "ts.fit(ts_Spike)\n",
    "\n",
    "x2, plst2, occ2, posterior_states2, pos_COM2 = CalHMM.comp_poststates_pos(ts, Spike, Distance)\n",
    "err_rate2, dev2, Decoded_position2 = CalHMM.comp_decoded_pos_acc(Distance, posterior_states2, pos_COM2)\n",
    "\n",
    "print(f'Error Rate: {err_rate2}')"
   ]
  },
  {
   "cell_type": "code",
   "execution_count": null,
   "metadata": {},
   "outputs": [],
   "source": [
    "_, _, _, _, _, _ = CalHMM.show_all_plots(ts, Spike, Distance, lap_end, t_st=200, t_duration=300,vmax=.2)"
   ]
  },
  {
   "cell_type": "markdown",
   "metadata": {},
   "source": [
    "## c. Save and Reolad"
   ]
  },
  {
   "cell_type": "code",
   "execution_count": null,
   "metadata": {},
   "outputs": [],
   "source": [
    "save = False\n",
    "if save==True:\n",
    "    CalHMM.save_object(origin, f'{folder}/timebin_{timebin}_spk_origin.pkl')\n",
    "    CalHMM.save_object(ts, f'{folder}/timebin_{timebin}_spk_ts.pkl')\n",
    "    CalHMM.save_object(trsn, f'{folder}/timebin_{timebin}_spk_trsn.pkl')"
   ]
  },
  {
   "cell_type": "code",
   "execution_count": null,
   "metadata": {},
   "outputs": [],
   "source": [
    "origin = CalHMM.load_object(f'{folder}/timebin_{timebin}_spk_origin.pkl')\n",
    "ts = CalHMM.load_object(f'{folder}/timebin_{timebin}_spk_ts.pkl')\n",
    "trsn = CalHMM.load_object(f'{folder}/timebin_{timebin}_spk_trsn.pkl')"
   ]
  },
  {
   "cell_type": "markdown",
   "metadata": {},
   "source": [
    "## Check coactivation in states"
   ]
  },
  {
   "cell_type": "code",
   "execution_count": null,
   "metadata": {},
   "outputs": [],
   "source": [
    "origin.means_.shape"
   ]
  },
  {
   "cell_type": "code",
   "execution_count": null,
   "metadata": {},
   "outputs": [],
   "source": [
    "%matplotlib"
   ]
  },
  {
   "cell_type": "code",
   "execution_count": null,
   "metadata": {},
   "outputs": [],
   "source": [
    "# plt.matshow(origin.means_,vmax=3)\n",
    "# plt.colorbar()"
   ]
  },
  {
   "cell_type": "code",
   "execution_count": null,
   "metadata": {},
   "outputs": [],
   "source": [
    "# n=plst1[8]\n",
    "# means=origin.means_[n,:]\n",
    "# thr=means.mean()+3*means.std()\n",
    "# nn=np.where(origin.means_[n,:]>thr)[0]\n",
    "# plt.plot(means)\n",
    "# plt.plot([0,origin.means_.shape[1]],[thr,thr])\n",
    "# plt.plot(nn, means[nn],'*')\n",
    "# plt.xlabel('#neuron')\n",
    "# plt.ylabel('value in mean matrix')\n",
    "# plt.title(f'{n}th state before sorting')\n",
    "# print(nn)"
   ]
  },
  {
   "cell_type": "code",
   "execution_count": null,
   "metadata": {},
   "outputs": [],
   "source": [
    "# plt.figure(figsize=(15,4))\n",
    "# s=np.where(np.argmax(posterior_states1, axis = 1)==i)[0]\n",
    "\n",
    "# for j,i in enumerate(nn):\n",
    "#     t=Spike[:,i].copy()\n",
    "#     t=t/np.max(t)\n",
    "#     plt.plot(t+j, label=f'{i}')\n",
    "\n",
    "# plt.plot(s,np.zeros_like(s),'*')\n",
    "# plt.legend()"
   ]
  },
  {
   "cell_type": "code",
   "execution_count": null,
   "metadata": {},
   "outputs": [],
   "source": [
    "%matplotlib"
   ]
  },
  {
   "cell_type": "code",
   "execution_count": null,
   "metadata": {},
   "outputs": [],
   "source": [
    "# for i,s in enumerate(Spike):\n",
    "#     plt.plot(s+i*100)\n",
    "# plt.show()"
   ]
  },
  {
   "cell_type": "code",
   "execution_count": null,
   "metadata": {},
   "outputs": [],
   "source": [
    "%matplotlib inline"
   ]
  },
  {
   "cell_type": "code",
   "execution_count": null,
   "metadata": {},
   "outputs": [],
   "source": [
    "neuron=10\n"
   ]
  },
  {
   "cell_type": "code",
   "execution_count": null,
   "metadata": {},
   "outputs": [],
   "source": [
    "# plt.figure()\n",
    "# for i in range(10):\n",
    "#     means=origin.means_[:,i]\n",
    "#     thr=means.mean()+means.std()\n",
    "#     nn=np.where(means>thr)[0]\n",
    "#     plt.plot(means)\n",
    "# #     plt.plot([0,origin.means_.shape[0]],[thr,thr])\n",
    "# #     plt.plot([0,origin.means_.shape[0]],[means.mean(),means.mean()],label='mean')\n",
    "# #     plt.plot([0,origin.means_.shape[0]],[means.std(),means.std()],label='std')\n",
    "    \n",
    "#     plt.plot(nn, means[nn],'*')\n",
    "#     plt.xlabel('#state')\n",
    "#     plt.ylabel('value in mean matrix')\n",
    "# #     plt.title(f'{n}th state before sorting')\n",
    "#     print(nn)"
   ]
  },
  {
   "cell_type": "code",
   "execution_count": null,
   "metadata": {},
   "outputs": [],
   "source": [
    "origin.means_.shape"
   ]
  },
  {
   "cell_type": "code",
   "execution_count": 7,
   "metadata": {},
   "outputs": [
    {
     "data": {
      "text/plain": [
       "Text(0, 0.5, '# State')"
      ]
     },
     "execution_count": 7,
     "metadata": {},
     "output_type": "execute_result"
    },
    {
     "data": {
      "image/png": "[encoded data removed]",
      "text/plain": [
       "<Figure size 1152x144 with 1 Axes>"
      ]
     },
     "metadata": {
      "needs_background": "light"
     },
     "output_type": "display_data"
    }
   ],
   "source": [
    "nn=[]\n",
    "neuron_inv = np.zeros_like(origin.means_)\n",
    "for i in range(origin.means_.shape[1]):\n",
    "    means=origin.means_[:,i]\n",
    "    thr=means.mean()+3*means.std()\n",
    "    nn.append(np.where(means>thr)[0])\n",
    "    neuron_inv[np.where(means>thr)[0],i]=1\n",
    "    \n",
    "plt.matshow(neuron_inv)\n",
    "plt.title('Neuron Involved\\nthr: mean+3*std')\n",
    "plt.xlabel('# Neuron')\n",
    "plt.ylabel('# State')"
   ]
  },
  {
   "cell_type": "code",
   "execution_count": null,
   "metadata": {},
   "outputs": [],
   "source": [
    "state=plst1[8]\n",
    "# plt.figure(figsize=(15,4))\n",
    "# s=np.where(np.argmax(posterior_states1, axis = 1)==state)[0]\n",
    "\n",
    "# for i,j in enumerate(np.where(neuron_inv[state,:])[0]):\n",
    "#     t=Spike[:,j].copy()\n",
    "#     t=t/origin.means_[state,j]\n",
    "# #     t=t/np.max(t)\n",
    "#     plt.plot(t+i, label=f'{j}')\n",
    "\n",
    "# plt.plot(s,np.zeros_like(s),'*')\n",
    "# plt.legend()"
   ]
  },
  {
   "cell_type": "code",
   "execution_count": 24,
   "metadata": {
    "scrolled": false
   },
   "outputs": [],
   "source": [
    "state=2\n",
    "xx = Spike[np.concatenate((np.where(idx==state)[0],np.where(idx!=state)[0])),:].copy()\n",
    "xx = xx[:,np.where(neuron_inv[state,:])[0]]\n",
    "xx/=np.max(xx,axis=0)\n",
    "# #     xx/=np.sum(xx,axis=1)[:,np.newaxis]\n",
    "# # xx/=origin.means_[state,np.where(neuron_inv[state,:])[0]]\n",
    "# plt.matshow(xx.T)\n",
    "# plt.xlabel(f'timebin of state {state}')\n",
    "# plt.ylabel('involved neurons')\n",
    "# plt.plot([np.where(idx==state)[0].shape[0],np.where(idx==state)[0].shape[0]],[0,np.where(neuron_inv[state,:])[0].shape[0]-1],'r--')\n",
    "# # plt.plot(s,np.zeros_like(s),'*')\n",
    "# plt.show()\n",
    "# print(np.where(neuron_inv[state,:])[0])"
   ]
  },
  {
   "cell_type": "code",
   "execution_count": 23,
   "metadata": {},
   "outputs": [],
   "source": [
    "%matplotlib inline"
   ]
  },
  {
   "cell_type": "code",
   "execution_count": 31,
   "metadata": {
    "scrolled": false
   },
   "outputs": [],
   "source": [
    "state=4\n",
    "xx = Spike[np.concatenate((np.where(idx==state)[0],np.where(idx!=state)[0])),:].copy()\n",
    "xx = xx[:,np.where(neuron_inv[state,:])[0]]\n",
    "xx/=np.max(xx,axis=0)"
   ]
  },
  {
   "cell_type": "code",
   "execution_count": 32,
   "metadata": {},
   "outputs": [
    {
     "data": {
      "text/plain": [
       "<matplotlib.legend.Legend at 0x7fd03417ddc0>"
      ]
     },
     "execution_count": 32,
     "metadata": {},
     "output_type": "execute_result"
    },
    {
     "data": {
      "image/png": "[encoded data removed]",
      "text/plain": [
       "<Figure size 1080x288 with 1 Axes>"
      ]
     },
     "metadata": {
      "needs_background": "light"
     },
     "output_type": "display_data"
    }
   ],
   "source": [
    "plt.figure(figsize=(15,4))\n",
    "plt.plot(xx.sum(axis=1))\n",
    "plt.plot(np.where(idx==state)[0].shape[0],0,'*',label=f'state{state} * other states')\n",
    "plt.ylabel('Sum activation')\n",
    "plt.xlabel('timebin')\n",
    "plt.legend()"
   ]
  },
  {
   "cell_type": "code",
   "execution_count": 11,
   "metadata": {},
   "outputs": [],
   "source": [
    "idx=np.argmax(posterior_states1, axis = 1)"
   ]
  },
  {
   "cell_type": "code",
   "execution_count": 12,
   "metadata": {},
   "outputs": [
    {
     "name": "stdout",
     "output_type": "stream",
     "text": [
      "[   7   15   26   29   37   39   42   57   63   68   78   85  106  118\n",
      "  132  145  151  161  170  174  179  183  187  190  207  220  223  224\n",
      "  245  246  248  249  258  259  260  261  273  274  275  276  287  288\n",
      "  289  290  291  294  295  301  303  304  305  308  310  311  322  323\n",
      "  325  336  337  339  351  352  354  366  369  381  382  383  385  386\n",
      "  395  396  397  398  399  400  412  413  414  415  419  428  429  431\n",
      "  460  466  467  468  469  470  475  482  483  484  485  494  496  497\n",
      "  498  499  510  511  512  513  523  524  525  526  527  537  538  539\n",
      "  540  552  553  554  555  556  570  571  572  584  585  586  587  601\n",
      "  602  603  605  618  620  621  634  647  648  649  651  663  664  665\n",
      "  666  667  677  678  692  693  694  706  707  708  721  724  735  736\n",
      "  737  750  751  752  766  767  768  769  770  787  788  800  815  816\n",
      "  817  818  829  830  832  850  869  870  871  884  885  886  897  898\n",
      "  899  900  910  911  912  913  914  915  925  926  927  928  939  940\n",
      "  941  942  947  949  955  957  958  971  973  974  979  989  990  992\n",
      "  999 1003 1005 1006 1007 1024 1025 1026 1027 1038 1039 1042 1054 1055\n",
      " 1056 1070 1071 1076 1083 1086 1087 1089 1092 1093 1094 1101 1102 1115\n",
      " 1126 1134 1135 1147 1148 1153 1163 1164 1167 1181 1182 1183 1184 1191\n",
      " 1196 1197 1198 1199 1205 1214 1216 1217 1257 1258 1260 1266 1273 1274\n",
      " 1291 1294 1307 1308 1315 1316 1320 1321 1322 1323 1326 1336 1338 1346\n",
      " 1354 1355 1356 1357 1358 1359 1374 1375 1376 1378 1381 1382 1424 1425\n",
      " 1440 1441 1442 1443 1467 1473 1474 1475 1476 1477 1478 1479 1482 1490\n",
      " 1492 1493 1499 1504 1506 1508 1509 1510 1516 1518 1520 1521 1522 1523\n",
      " 1535 1536 1538 1539 1540 1541 1542 1543 1545 1559 1563 1564 1565 1568\n",
      " 1575 1581 1582 1583 1584 1585 1588 1595 1614 1615 1616 1617 1620 1632\n",
      " 1635 1636 1637 1640 1654 1665 1667 1668 1669 1670 1675 1676 1688 1694\n",
      " 1698 1702 1704 1705 1727 1728 1730 1731 1732 1735 1740 1741 1743 1745\n",
      " 1759 1761 1762 1763 1764 1765 1767 1775 1780 1782 1783 1784 1786 1789\n",
      " 1791 1812]\n"
     ]
    }
   ],
   "source": [
    "state=0\n",
    "tb=np.where(idx==state)[0]"
   ]
  },
  {
   "cell_type": "code",
   "execution_count": 13,
   "metadata": {},
   "outputs": [],
   "source": [
    "h=np.ones_like(tb)*(np.where(neuron_inv[state,:])[0].shape[0]-1)\n",
    "xx = Spike[:,np.where(neuron_inv[state,:])[0]]\n",
    "xx/=np.max(xx,axis=0)"
   ]
  },
  {
   "cell_type": "code",
   "execution_count": 14,
   "metadata": {},
   "outputs": [
    {
     "data": {
      "text/plain": [
       "(1821, 5)"
      ]
     },
     "execution_count": 14,
     "metadata": {},
     "output_type": "execute_result"
    }
   ],
   "source": [
    "xx.shape"
   ]
  },
  {
   "cell_type": "code",
   "execution_count": 1,
   "metadata": {},
   "outputs": [
    {
     "data": {
      "text/plain": [
       "'module://ipykernel.pylab.backend_inline'"
      ]
     },
     "execution_count": 1,
     "metadata": {},
     "output_type": "execute_result"
    }
   ],
   "source": [
    "import matplotlib\n",
    "matplotlib.get_backend()"
   ]
  },
  {
   "cell_type": "code",
   "execution_count": 9,
   "metadata": {},
   "outputs": [
    {
     "name": "stdout",
     "output_type": "stream",
     "text": [
      "Using matplotlib backend: GTK3Agg\n"
     ]
    }
   ],
   "source": [
    "%matplotlib"
   ]
  },
  {
   "cell_type": "code",
   "execution_count": null,
   "metadata": {
    "scrolled": false
   },
   "outputs": [],
   "source": [
    "\n",
    "#     xx/=np.sum(xx,axis=1)[:,np.newaxis]\n",
    "# xx/=origin.means_[state,np.where(neuron_inv[state,:])[0]]\n",
    "plt.matshow(xx.T)\n",
    "plt.xlabel(f'timebin of state {state}')\n",
    "plt.ylabel('involved neurons')\n",
    "plt.stem(tb,h,'--')\n",
    "plt.xlim(0,100)\n",
    "plt.show()\n",
    "\n",
    "print(np.where(neuron_inv[state,:])[0])"
   ]
  },
  {
   "cell_type": "code",
   "execution_count": null,
   "metadata": {},
   "outputs": [],
   "source": [
    "plt.xlim(0,100)"
   ]
  },
  {
   "cell_type": "code",
   "execution_count": null,
   "metadata": {},
   "outputs": [],
   "source": [
    "plt.stem([0,5,6],np.ones(3))"
   ]
  },
  {
   "cell_type": "code",
   "execution_count": null,
   "metadata": {},
   "outputs": [],
   "source": [
    "print(np.where(np.argmax(posterior_states1, axis = 1)==state)[0])"
   ]
  },
  {
   "cell_type": "code",
   "execution_count": null,
   "metadata": {},
   "outputs": [],
   "source": [
    "np.argmax(posterior_states1, axis = 1).shape"
   ]
  },
  {
   "cell_type": "code",
   "execution_count": null,
   "metadata": {},
   "outputs": [],
   "source": []
  }
 ],
 "metadata": {
  "kernelspec": {
   "display_name": "Python 3",
   "language": "python",
   "name": "python3"
  },
  "language_info": {
   "codemirror_mode": {
    "name": "ipython",
    "version": 3
   },
   "file_extension": ".py",
   "mimetype": "text/x-python",
   "name": "python",
   "nbconvert_exporter": "python",
   "pygments_lexer": "ipython3",
   "version": "3.8.5"
  }
 },
 "nbformat": 4,
 "nbformat_minor": 4
}
