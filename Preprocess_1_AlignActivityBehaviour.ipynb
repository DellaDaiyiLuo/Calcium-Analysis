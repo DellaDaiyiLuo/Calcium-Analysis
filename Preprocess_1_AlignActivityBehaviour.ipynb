{
 "cells": [
  {
   "cell_type": "code",
   "execution_count": 1,
   "metadata": {},
   "outputs": [],
   "source": [
    "import numpy as np\n",
    "import matplotlib.pyplot as plt\n",
    "from scipy.io import loadmat"
   ]
  },
  {
   "cell_type": "markdown",
   "metadata": {},
   "source": [
    "### Daniel's Data"
   ]
  },
  {
   "cell_type": "code",
   "execution_count": 2,
   "metadata": {},
   "outputs": [],
   "source": [
    "import h5py"
   ]
  },
  {
   "cell_type": "code",
   "execution_count": 3,
   "metadata": {},
   "outputs": [
    {
     "name": "stderr",
     "output_type": "stream",
     "text": [
      "<ipython-input-3-e98d58a5d81c>:1: H5pyDeprecationWarning: The default file mode will change to 'r' (read-only) in h5py 3.0. To suppress this warning, pass the mode you need to h5py.File(), or set the global default h5.get_config().default_file_mode, or set the environment variable H5PY_DEFAULT_READONLY=1. Available modes are: 'r', 'r+', 'w', 'w-'/'x', 'a'. See the docs for details.\n",
      "  data = h5py.File('/Users/daiyiluo/Downloads/ms.mat')\n"
     ]
    }
   ],
   "source": [
    "data = h5py.File('/Users/daiyiluo/Downloads/ms.mat')"
   ]
  },
  {
   "cell_type": "code",
   "execution_count": 9,
   "metadata": {},
   "outputs": [
    {
     "data": {
      "text/plain": [
       "['#refs#', '#subsystem#', 'ms']"
      ]
     },
     "execution_count": 9,
     "metadata": {},
     "output_type": "execute_result"
    }
   ],
   "source": [
    "list(data.keys())"
   ]
  },
  {
   "cell_type": "code",
   "execution_count": 12,
   "metadata": {},
   "outputs": [
    {
     "data": {
      "text/plain": [
       "<KeysViewHDF5 ['C', 'Centroids', 'CorrProj', 'Experiment', 'FR', 'FR05Per', 'FR50Per', 'FR95Per', 'FiltTraces', 'Options', 'PeakToNoiseProj', 'RawTraces', 'S', 'SFPs', 'analysis_time', 'b', 'binCenters', 'binSize', 'bruteForceTraces', 'camNumber', 'dirName', 'ds', 'frameNum', 'height', 'info', 'infoP', 'maxBufferUsed', 'maxFramesPerFile', 'meanFrame', 'numFiles', 'numFrames', 'numNeurons', 'occEven', 'occOdd', 'occThresh', 'pos', 'shifts', 'speed', 'speedThresh', 'stabilityCoef', 'stabilityCoef2', 'stabilityCoef2P', 'stabilityCoefP', 'time', 'trackLength', 'trialNum', 'vidNum', 'vidObj', 'vidObjMotionCorr', 'width']>"
      ]
     },
     "execution_count": 12,
     "metadata": {},
     "output_type": "execute_result"
    }
   ],
   "source": [
    "data['ms'].keys()"
   ]
  },
  {
   "cell_type": "code",
   "execution_count": 7,
   "metadata": {},
   "outputs": [
    {
     "data": {
      "text/plain": [
       "h5py._hl.dataset.Dataset"
      ]
     },
     "execution_count": 7,
     "metadata": {},
     "output_type": "execute_result"
    }
   ],
   "source": [
    "s=data['ms']['S']\n",
    "type(s)"
   ]
  },
  {
   "cell_type": "code",
   "execution_count": 13,
   "metadata": {},
   "outputs": [],
   "source": [
    "np.savez(f'/Users/daiyiluo/Downloads/caiman_t/dan_CA1/S.npz', spd=data['ms']['speed'], dis=data['ms']['pos'])"
   ]
  },
  {
   "cell_type": "code",
   "execution_count": 4,
   "metadata": {},
   "outputs": [
    {
     "ename": "AttributeError",
     "evalue": "'Dataset' object has no attribute 'T'",
     "output_type": "error",
     "traceback": [
      "\u001b[0;31m---------------------------------------------------------------------------\u001b[0m",
      "\u001b[0;31mAttributeError\u001b[0m                            Traceback (most recent call last)",
      "\u001b[0;32m<ipython-input-4-2057ffb9ff82>\u001b[0m in \u001b[0;36m<module>\u001b[0;34m\u001b[0m\n\u001b[0;32m----> 1\u001b[0;31m \u001b[0mnp\u001b[0m\u001b[0;34m.\u001b[0m\u001b[0msavez\u001b[0m\u001b[0;34m(\u001b[0m\u001b[0;34mf'/Users/daiyiluo/Downloads/caiman_t/dan_CA1/spk.npz'\u001b[0m\u001b[0;34m,\u001b[0m \u001b[0mspd\u001b[0m\u001b[0;34m=\u001b[0m\u001b[0mdata\u001b[0m\u001b[0;34m[\u001b[0m\u001b[0;34m'ms'\u001b[0m\u001b[0;34m]\u001b[0m\u001b[0;34m[\u001b[0m\u001b[0;34m'S'\u001b[0m\u001b[0;34m]\u001b[0m\u001b[0;34m.\u001b[0m\u001b[0mT\u001b[0m\u001b[0;34m,\u001b[0m \u001b[0mtraces\u001b[0m\u001b[0;34m=\u001b[0m\u001b[0mdata\u001b[0m\u001b[0;34m[\u001b[0m\u001b[0;34m'ms'\u001b[0m\u001b[0;34m]\u001b[0m\u001b[0;34m[\u001b[0m\u001b[0;34m'C'\u001b[0m\u001b[0;34m]\u001b[0m\u001b[0;34m.\u001b[0m\u001b[0mT\u001b[0m\u001b[0;34m)\u001b[0m\u001b[0;34m\u001b[0m\u001b[0;34m\u001b[0m\u001b[0m\n\u001b[0m",
      "\u001b[0;31mAttributeError\u001b[0m: 'Dataset' object has no attribute 'T'"
     ]
    }
   ],
   "source": [
    "np.savez(f'/Users/daiyiluo/Downloads/caiman_t/dan_CA1/spk.npz', spks=data['ms']['S'].T, traces=data['ms']['C'].T)"
   ]
  },
  {
   "cell_type": "markdown",
   "metadata": {},
   "source": [
    "### Fish's Data"
   ]
  },
  {
   "cell_type": "markdown",
   "metadata": {},
   "source": [
    "### a. Load data"
   ]
  },
  {
   "cell_type": "code",
   "execution_count": 3,
   "metadata": {},
   "outputs": [
    {
     "data": {
      "text/plain": [
       "dict_keys(['__header__', '__version__', '__globals__', 'dFishQ_raw'])"
      ]
     },
     "execution_count": 3,
     "metadata": {},
     "output_type": "execute_result"
    }
   ],
   "source": [
    "#----- find shape of trace data -----#\n",
    "\n",
    "folder = '/Users/daiyiluo/Downloads/KQ086_210112' #KQ095_210205' #\n",
    "data = loadmat(f'{folder}/dFishQ_raw.mat')\n",
    "data.keys() # check the name of the variable"
   ]
  },
  {
   "cell_type": "code",
   "execution_count": 4,
   "metadata": {},
   "outputs": [
    {
     "name": "stdout",
     "output_type": "stream",
     "text": [
      "Shape of calcium traces: (28187, 99)\n"
     ]
    }
   ],
   "source": [
    "key = 'dFishQ_raw' # 'B' for CA1 data, 'dFishQ_raw' for CA3 data\n",
    "traces = data[key]\n",
    "del data\n",
    "print(f'Shape of calcium traces: {traces.shape}')"
   ]
  },
  {
   "cell_type": "code",
   "execution_count": 4,
   "metadata": {},
   "outputs": [
    {
     "data": {
      "text/plain": [
       "dict_keys(['__header__', '__version__', '__globals__', 'S'])"
      ]
     },
     "execution_count": 4,
     "metadata": {},
     "output_type": "execute_result"
    }
   ],
   "source": [
    "#----- load behaviour data -----#\n",
    "\n",
    "data = loadmat(f'{folder}/S.mat')\n",
    "data.keys()"
   ]
  },
  {
   "cell_type": "code",
   "execution_count": 5,
   "metadata": {},
   "outputs": [
    {
     "data": {
      "text/plain": [
       "dtype([('runSpeed', 'O'), ('distance', 'O'), ('lick', 'O'), ('valve', 'O'), ('frameClock', 'O'), ('lapReset', 'O')])"
      ]
     },
     "execution_count": 5,
     "metadata": {},
     "output_type": "execute_result"
    }
   ],
   "source": [
    "key = 'S'\n",
    "data[key].dtype"
   ]
  },
  {
   "cell_type": "code",
   "execution_count": 6,
   "metadata": {},
   "outputs": [
    {
     "name": "stdout",
     "output_type": "stream",
     "text": [
      "Check if this equals to 2. \n",
      " #clock - #frames: 2\n"
     ]
    }
   ],
   "source": [
    "# Locate the time point of each frame\n",
    "FrameClock = np.round(data[key][0,0]['frameClock'])\n",
    "d = np.diff(np.squeeze(FrameClock>4.5).astype(int))\n",
    "idx = np.where(d<-0.5)[0]\n",
    "\n",
    "print(f'Check if this equals to 2. \\n #clock - #frames: {idx.shape[0]-traces.shape[0]}')"
   ]
  },
  {
   "cell_type": "code",
   "execution_count": 7,
   "metadata": {},
   "outputs": [
    {
     "data": {
      "text/plain": [
       "((9497531,), (9497531,), (9497531,), (28187, 99))"
      ]
     },
     "execution_count": 7,
     "metadata": {},
     "output_type": "execute_result"
    }
   ],
   "source": [
    "distance = data[key][0,0]['distance'].squeeze()\n",
    "speed = data[key][0,0]['runSpeed'].squeeze()\n",
    "lick = data[key][0,0]['lick'].squeeze()\n",
    "\n",
    "del data\n",
    "\n",
    "distance.shape, speed.shape, lick.shape, traces.shape"
   ]
  },
  {
   "cell_type": "markdown",
   "metadata": {},
   "source": [
    "### b. Downsample behaviour data to frame rate"
   ]
  },
  {
   "cell_type": "code",
   "execution_count": 8,
   "metadata": {},
   "outputs": [
    {
     "name": "stdout",
     "output_type": "stream",
     "text": [
      "Frame interval: \n",
      "[333 334]\n",
      "Occurrence:     \n",
      "[20194  7993]\n",
      "\n",
      "Then decide the frameinterv var below...\n"
     ]
    }
   ],
   "source": [
    "val, counts = np.unique(np.diff(idx), return_counts=True)\n",
    "print(f'Frame interval: \\n{val[counts>5]}\\nOccurrence:     \\n{counts[counts>5]}')\n",
    "print('\\nThen decide the frameinterv var below...')"
   ]
  },
  {
   "cell_type": "code",
   "execution_count": 9,
   "metadata": {},
   "outputs": [
    {
     "data": {
      "text/plain": [
       "((28187,), (28187,), (28187,))"
      ]
     },
     "execution_count": 9,
     "metadata": {},
     "output_type": "execute_result"
    }
   ],
   "source": [
    "frameinterv = 333  # most frame interval is 333 or 334\n",
    "lk0 = np.convolve(lick, np.ones(frameinterv), 'valid') / frameinterv \n",
    "halflen = np.floor(frameinterv/2).astype('int16')\n",
    "lk0 = np.concatenate((np.zeros(halflen),lk0, np.zeros(halflen)))\n",
    "lk = lk0[idx[:-2]]\n",
    "\n",
    "dis = distance[idx[:-2]]\n",
    "spd = speed[idx[:-2]]\n",
    "\n",
    "spd.shape,dis.shape,lk.shape"
   ]
  },
  {
   "cell_type": "markdown",
   "metadata": {},
   "source": [
    "### c. Check time point of each frame"
   ]
  },
  {
   "cell_type": "code",
   "execution_count": 10,
   "metadata": {},
   "outputs": [
    {
     "name": "stdout",
     "output_type": "stream",
     "text": [
      "Using matplotlib backend: MacOSX\n"
     ]
    }
   ],
   "source": [
    "#-------- Check every thing ---------#\n",
    "# Same lap length for every lap?\n",
    "%matplotlib\n",
    "plt.figure(figsize=(20,5))\n",
    "plt.plot(FrameClock)\n",
    "plt.plot(distance)\n",
    "plt.plot(speed)\n",
    "plt.plot(idx, FrameClock[idx], '*')\n",
    "plt.show()"
   ]
  },
  {
   "cell_type": "code",
   "execution_count": 12,
   "metadata": {},
   "outputs": [
    {
     "data": {
      "text/plain": [
       "[<matplotlib.lines.Line2D at 0x7fb41f596c10>]"
      ]
     },
     "execution_count": 12,
     "metadata": {},
     "output_type": "execute_result"
    }
   ],
   "source": [
    "#-------- Check licking rate downsampleing --------#\n",
    "plt.figure()\n",
    "plt.plot(lick)\n",
    "plt.plot(idx[:-2],lk,'*')\n",
    "plt.plot(lk0)"
   ]
  },
  {
   "cell_type": "code",
   "execution_count": 11,
   "metadata": {},
   "outputs": [
    {
     "data": {
      "text/plain": [
       "Text(0, 0.5, 'speed')"
      ]
     },
     "execution_count": 11,
     "metadata": {},
     "output_type": "execute_result"
    }
   ],
   "source": [
    "#-------- Check speed downsampleing --------#\n",
    "plt.plot(speed)\n",
    "plt.plot(idx[:-2], spd)\n",
    "# plt.xlim(4e6, 4.5e6)\n",
    "plt.ylabel('speed')"
   ]
  },
  {
   "cell_type": "markdown",
   "metadata": {},
   "source": [
    "### d. Save data with same sampling rate"
   ]
  },
  {
   "cell_type": "code",
   "execution_count": 12,
   "metadata": {},
   "outputs": [
    {
     "data": {
      "text/plain": [
       "((28187,), (28187,), (28187,))"
      ]
     },
     "execution_count": 12,
     "metadata": {},
     "output_type": "execute_result"
    }
   ],
   "source": [
    "spd.shape,dis.shape,lk.shape"
   ]
  },
  {
   "cell_type": "code",
   "execution_count": 13,
   "metadata": {},
   "outputs": [],
   "source": [
    "# check if you need to truncate the data\n",
    "st = 0\n",
    "end = len(lk)\n",
    "np.savez(f'{folder}/S.npz', spd=spd[st:end], dis=dis[st:end], lk=lk[st:end])"
   ]
  },
  {
   "cell_type": "markdown",
   "metadata": {},
   "source": [
    "### e. Deconvolution for spike data"
   ]
  },
  {
   "cell_type": "code",
   "execution_count": 2,
   "metadata": {},
   "outputs": [],
   "source": [
    "import warnings\n",
    "warnings.filterwarnings('ignore')\n",
    "from caiman.source_extraction import cnmf"
   ]
  },
  {
   "cell_type": "code",
   "execution_count": 5,
   "metadata": {},
   "outputs": [
    {
     "data": {
      "text/plain": [
       "(28187, 99)"
      ]
     },
     "execution_count": 5,
     "metadata": {},
     "output_type": "execute_result"
    }
   ],
   "source": [
    "traces.shape"
   ]
  },
  {
   "cell_type": "code",
   "execution_count": 6,
   "metadata": {},
   "outputs": [
    {
     "name": "stdout",
     "output_type": "stream",
     "text": [
      "Shape of deconvolved spikes: (28187, 99)\n"
     ]
    }
   ],
   "source": [
    "spks = np.zeros_like(traces)\n",
    "for i in range(traces.shape[1]):\n",
    "    _, _, _, _, _, spks[:,i], _ = cnmf.deconvolution.constrained_foopsi(traces[:,i],p=2)\n",
    "\n",
    "np.savez(f'{folder}/spk.npz', spks=spks)\n",
    "\n",
    "print(f'Shape of deconvolved spikes: {spks.shape}')"
   ]
  },
  {
   "cell_type": "code",
   "execution_count": 7,
   "metadata": {},
   "outputs": [
    {
     "name": "stdout",
     "output_type": "stream",
     "text": [
      "Using matplotlib backend: MacOSX\n"
     ]
    },
    {
     "data": {
      "text/plain": [
       "[<matplotlib.lines.Line2D at 0x7fce4664cc10>]"
      ]
     },
     "execution_count": 7,
     "metadata": {},
     "output_type": "execute_result"
    }
   ],
   "source": [
    "#-------- Check deconvolution --------#\n",
    "%matplotlib\n",
    "plt.figure()\n",
    "plt.plot(traces[:,20])\n",
    "plt.plot(spks[:,20])"
   ]
  },
  {
   "cell_type": "code",
   "execution_count": null,
   "metadata": {},
   "outputs": [],
   "source": []
  }
 ],
 "metadata": {
  "kernelspec": {
   "display_name": "Python 3",
   "language": "python",
   "name": "python3"
  },
  "language_info": {
   "codemirror_mode": {
    "name": "ipython",
    "version": 3
   },
   "file_extension": ".py",
   "mimetype": "text/x-python",
   "name": "python",
   "nbconvert_exporter": "python",
   "pygments_lexer": "ipython3",
   "version": "3.7.8"
  }
 },
 "nbformat": 4,
 "nbformat_minor": 4
}
